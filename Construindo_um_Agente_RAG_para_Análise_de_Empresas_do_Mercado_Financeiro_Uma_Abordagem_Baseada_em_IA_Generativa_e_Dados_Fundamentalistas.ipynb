{
  "cells": [
    {
      "cell_type": "markdown",
      "metadata": {
        "id": "view-in-github",
        "colab_type": "text"
      },
      "source": [
        "<a href=\"https://colab.research.google.com/github/franckepeixoto/Pandas-IA-Generativa-e-LlamaIndex/blob/main/Construindo_um_Agente_RAG_para_An%C3%A1lise_de_Empresas_do_Mercado_Financeiro_Uma_Abordagem_Baseada_em_IA_Generativa_e_Dados_Fundamentalistas.ipynb\" target=\"_parent\"><img src=\"https://colab.research.google.com/assets/colab-badge.svg\" alt=\"Open In Colab\"/></a>"
      ]
    },
    {
      "cell_type": "markdown",
      "source": [
        "#⚙️ Construindo um Agente RAG para Análise de Empresas do Mercado Financeiro\n",
        "📌 **Uma Abordagem Baseada em IA Generativa e Dados Fundamentalistas**\n",
        "\n",
        "Imagine fazer análises comparativas de empresas com dados financeiros atualizados, acessando-os de forma rápida e com informações reais e atualizadas de uma fonte segura.\n",
        "\n",
        "⏱️Hoje, quando precisamos avaliar uma empresa, precisamos abrir uma planilha, analisar valores, ver indicadores e acaba sendo uma tarefa bastante trabalhosa.!"
      ],
      "metadata": {
        "id": "F1Hi9uafoQSK"
      }
    },
    {
      "cell_type": "markdown",
      "source": [
        "###### 📦 Instalação dos seguintes bibliotecas"
      ],
      "metadata": {
        "id": "DvEPSZk9IhwU"
      }
    },
    {
      "cell_type": "code",
      "execution_count": 1,
      "metadata": {
        "id": "6e22gI6Cj9P2",
        "colab": {
          "base_uri": "https://localhost:8080/"
        },
        "outputId": "dca08c98-efb2-4ed7-b579-f4ee61fd1570"
      },
      "outputs": [
        {
          "output_type": "stream",
          "name": "stdout",
          "text": [
            "\u001b[2K     \u001b[90m━━━━━━━━━━━━━━━━━━━━━━━━━━━━━━━━━━━━━━━━\u001b[0m \u001b[32m15.4/15.4 MB\u001b[0m \u001b[31m61.4 MB/s\u001b[0m eta \u001b[36m0:00:00\u001b[0m\n",
            "\u001b[2K     \u001b[90m━━━━━━━━━━━━━━━━━━━━━━━━━━━━━━━━━━━━━━━━\u001b[0m \u001b[32m2.0/2.0 MB\u001b[0m \u001b[31m24.4 MB/s\u001b[0m eta \u001b[36m0:00:00\u001b[0m\n",
            "\u001b[2K     \u001b[90m━━━━━━━━━━━━━━━━━━━━━━━━━━━━━━━━━━━━━━━━\u001b[0m \u001b[32m320.1/320.1 kB\u001b[0m \u001b[31m28.2 MB/s\u001b[0m eta \u001b[36m0:00:00\u001b[0m\n",
            "\u001b[2K     \u001b[90m━━━━━━━━━━━━━━━━━━━━━━━━━━━━━━━━━━━━━━━━\u001b[0m \u001b[32m75.6/75.6 kB\u001b[0m \u001b[31m8.0 MB/s\u001b[0m eta \u001b[36m0:00:00\u001b[0m\n",
            "\u001b[2K     \u001b[90m━━━━━━━━━━━━━━━━━━━━━━━━━━━━━━━━━━━━━━━━\u001b[0m \u001b[32m141.9/141.9 kB\u001b[0m \u001b[31m12.1 MB/s\u001b[0m eta \u001b[36m0:00:00\u001b[0m\n",
            "\u001b[2K     \u001b[90m━━━━━━━━━━━━━━━━━━━━━━━━━━━━━━━━━━━━━━━━\u001b[0m \u001b[32m1.8/1.8 MB\u001b[0m \u001b[31m31.9 MB/s\u001b[0m eta \u001b[36m0:00:00\u001b[0m\n",
            "\u001b[2K     \u001b[90m━━━━━━━━━━━━━━━━━━━━━━━━━━━━━━━━━━━━━━━━\u001b[0m \u001b[32m290.4/290.4 kB\u001b[0m \u001b[31m20.9 MB/s\u001b[0m eta \u001b[36m0:00:00\u001b[0m\n",
            "\u001b[2K     \u001b[90m━━━━━━━━━━━━━━━━━━━━━━━━━━━━━━━━━━━━━━━━\u001b[0m \u001b[32m77.9/77.9 kB\u001b[0m \u001b[31m6.5 MB/s\u001b[0m eta \u001b[36m0:00:00\u001b[0m\n",
            "\u001b[2K     \u001b[90m━━━━━━━━━━━━━━━━━━━━━━━━━━━━━━━━━━━━━━━━\u001b[0m \u001b[32m58.3/58.3 kB\u001b[0m \u001b[31m5.5 MB/s\u001b[0m eta \u001b[36m0:00:00\u001b[0m\n",
            "\u001b[2K     \u001b[90m━━━━━━━━━━━━━━━━━━━━━━━━━━━━━━━━━━━━━━━━\u001b[0m \u001b[32m49.3/49.3 kB\u001b[0m \u001b[31m4.5 MB/s\u001b[0m eta \u001b[36m0:00:00\u001b[0m\n",
            "\u001b[2K     \u001b[90m━━━━━━━━━━━━━━━━━━━━━━━━━━━━━━━━━━━━━━━━\u001b[0m \u001b[32m137.4/137.4 kB\u001b[0m \u001b[31m3.4 MB/s\u001b[0m eta \u001b[36m0:00:00\u001b[0m\n",
            "\u001b[2K     \u001b[90m━━━━━━━━━━━━━━━━━━━━━━━━━━━━━━━━━━━━━━━━\u001b[0m \u001b[32m4.5/4.5 MB\u001b[0m \u001b[31m18.4 MB/s\u001b[0m eta \u001b[36m0:00:00\u001b[0m\n",
            "\u001b[2K     \u001b[90m━━━━━━━━━━━━━━━━━━━━━━━━━━━━━━━━━━━━━━━━\u001b[0m \u001b[32m598.7/598.7 kB\u001b[0m \u001b[31m23.7 MB/s\u001b[0m eta \u001b[36m0:00:00\u001b[0m\n",
            "\u001b[?25h\u001b[31mERROR: pip's dependency resolver does not currently take into account all the packages that are installed. This behaviour is the source of the following dependency conflicts.\n",
            "imageio 2.31.6 requires pillow<10.1.0,>=8.3.2, but you have pillow 10.3.0 which is incompatible.\u001b[0m\u001b[31m\n",
            "\u001b[2K     \u001b[90m━━━━━━━━━━━━━━━━━━━━━━━━━━━━━━━━━━━━━━━━\u001b[0m \u001b[32m1.2/1.2 MB\u001b[0m \u001b[31m14.1 MB/s\u001b[0m eta \u001b[36m0:00:00\u001b[0m\n",
            "\u001b[2K     \u001b[90m━━━━━━━━━━━━━━━━━━━━━━━━━━━━━━━━━━━━━━━━\u001b[0m \u001b[32m756.0/756.0 kB\u001b[0m \u001b[31m20.7 MB/s\u001b[0m eta \u001b[36m0:00:00\u001b[0m\n",
            "\u001b[2K     \u001b[90m━━━━━━━━━━━━━━━━━━━━━━━━━━━━━━━━━━━━━━━━\u001b[0m \u001b[32m5.2/5.2 MB\u001b[0m \u001b[31m35.6 MB/s\u001b[0m eta \u001b[36m0:00:00\u001b[0m\n",
            "\u001b[?25h  Installing build dependencies ... \u001b[?25l\u001b[?25hdone\n",
            "  Getting requirements to build wheel ... \u001b[?25l\u001b[?25hdone\n",
            "  Preparing metadata (pyproject.toml) ... \u001b[?25l\u001b[?25hdone\n",
            "\u001b[2K     \u001b[90m━━━━━━━━━━━━━━━━━━━━━━━━━━━━━━━━━━━━━━━━\u001b[0m \u001b[32m50.8/50.8 kB\u001b[0m \u001b[31m5.2 MB/s\u001b[0m eta \u001b[36m0:00:00\u001b[0m\n",
            "\u001b[2K     \u001b[90m━━━━━━━━━━━━━━━━━━━━━━━━━━━━━━━━━━━━━━━━\u001b[0m \u001b[32m106.1/106.1 kB\u001b[0m \u001b[31m13.0 MB/s\u001b[0m eta \u001b[36m0:00:00\u001b[0m\n",
            "\u001b[2K     \u001b[90m━━━━━━━━━━━━━━━━━━━━━━━━━━━━━━━━━━━━━━━━\u001b[0m \u001b[32m71.9/71.9 kB\u001b[0m \u001b[31m6.5 MB/s\u001b[0m eta \u001b[36m0:00:00\u001b[0m\n",
            "\u001b[2K     \u001b[90m━━━━━━━━━━━━━━━━━━━━━━━━━━━━━━━━━━━━━━━━\u001b[0m \u001b[32m269.0/269.0 kB\u001b[0m \u001b[31m25.9 MB/s\u001b[0m eta \u001b[36m0:00:00\u001b[0m\n",
            "\u001b[2K     \u001b[90m━━━━━━━━━━━━━━━━━━━━━━━━━━━━━━━━━━━━━━━━\u001b[0m \u001b[32m85.7/85.7 kB\u001b[0m \u001b[31m11.0 MB/s\u001b[0m eta \u001b[36m0:00:00\u001b[0m\n",
            "\u001b[2K     \u001b[90m━━━━━━━━━━━━━━━━━━━━━━━━━━━━━━━━━━━━━━━━\u001b[0m \u001b[32m60.8/60.8 kB\u001b[0m \u001b[31m7.5 MB/s\u001b[0m eta \u001b[36m0:00:00\u001b[0m\n",
            "\u001b[2K     \u001b[90m━━━━━━━━━━━━━━━━━━━━━━━━━━━━━━━━━━━━━━━━\u001b[0m \u001b[32m202.9/202.9 kB\u001b[0m \u001b[31m25.1 MB/s\u001b[0m eta \u001b[36m0:00:00\u001b[0m\n",
            "\u001b[2K     \u001b[90m━━━━━━━━━━━━━━━━━━━━━━━━━━━━━━━━━━━━━━━━\u001b[0m \u001b[32m1.6/1.6 MB\u001b[0m \u001b[31m49.1 MB/s\u001b[0m eta \u001b[36m0:00:00\u001b[0m\n",
            "\u001b[2K     \u001b[90m━━━━━━━━━━━━━━━━━━━━━━━━━━━━━━━━━━━━━━━━\u001b[0m \u001b[32m60.1/60.1 kB\u001b[0m \u001b[31m6.8 MB/s\u001b[0m eta \u001b[36m0:00:00\u001b[0m\n",
            "\u001b[2K     \u001b[90m━━━━━━━━━━━━━━━━━━━━━━━━━━━━━━━━━━━━━━━━\u001b[0m \u001b[32m56.8/56.8 kB\u001b[0m \u001b[31m6.5 MB/s\u001b[0m eta \u001b[36m0:00:00\u001b[0m\n",
            "\u001b[?25h  Building wheel for hdbscan (pyproject.toml) ... \u001b[?25l\u001b[?25hdone\n"
          ]
        }
      ],
      "source": [
        "!pip install llama-index  -q\n",
        "!pip install llama-index-core  -q\n",
        "!pip install llama-index-llms-gemini  -q\n",
        "!pip install arize-phoenix==2.2.1 pyvis  -q\n",
        "!pip  install llama-index-experimental   -q"
      ]
    },
    {
      "cell_type": "markdown",
      "source": [
        "###### 🪞 Configurações e Observability\n"
      ],
      "metadata": {
        "id": "4EUD7xcnIhp3"
      }
    },
    {
      "cell_type": "code",
      "source": [
        "import os\n",
        "from getpass import getpass\n",
        "from llama_index.core import Settings\n",
        "from llama_index.llms.gemini import Gemini\n",
        "from llama_index.core.callbacks import CallbackManager\n",
        "GOOGLE_API_KEY = getpass('GOOGLE_API_KEY: ')\n",
        "\n",
        "llm = Gemini(api_key=GOOGLE_API_KEY,temperature=0)\n",
        "callback_manager = CallbackManager()\n",
        "\n",
        "Settings.callback_manager = callback_manager\n",
        "Settings.llm = llm\n"
      ],
      "metadata": {
        "id": "QVLjDztuLiuI",
        "colab": {
          "base_uri": "https://localhost:8080/",
          "height": 34
        },
        "outputId": "6a8450b3-c6ae-42ab-f2d9-a623e9ba64de"
      },
      "execution_count": 62,
      "outputs": [
        {
          "name": "stdout",
          "output_type": "stream",
          "text": [
            "GOOGLE_API_KEY: ··········\n"
          ]
        }
      ]
    },
    {
      "cell_type": "code",
      "source": [
        "import logging\n",
        "import sys\n",
        "logging.basicConfig(stream=sys.stdout, level=logging.INFO)\n",
        "logging.getLogger().addHandler(logging.StreamHandler(stream=sys.stdout))"
      ],
      "metadata": {
        "id": "VCEtdjS1lDUh"
      },
      "execution_count": 63,
      "outputs": []
    },
    {
      "cell_type": "markdown",
      "source": [
        "##### 🐼 Obtendo dados fundamentalistas e criando um DataFrame\n",
        "\n",
        "Usaremos essa estrutura para consultas basicas, como descobrir o ticker de uma determinada empresa e etc...\n",
        "\n",
        "Nesse caso, usaremos apenas algumas colunas:\n",
        "\n",
        "* **P/L** = Preço da ação dividido pelo lucro por ação. O P/L é o número de anos que se levaria para reaver o capital aplicado na compra de uma ação, através do recebimento do lucro gerado pela empresa, considerando que esses lucros permaneçam constantes.\n",
        "* **P/VP** = Preço da ação dividido pelo Valor Patrimonial por ação. Informa quanto o mercado está disposto a pagar sobre o Patrimônio Líquido da empresa\n",
        "* **PSR** = Price Sales Ratio: Preço da ação dividido pela Receita Líquida por ação\n",
        "* **Dividend Yield** = Dividendo pago por ação dividido pelo preço da ação. É o rendimento gerado para o dono da ação pelo pagamento de dividendos.\n",
        "* **ROE** = Retorno sobre o Patrimônio Líquido: Lucro líquido dividido pelo Patrimônio Líquido\n",
        "* **Patrim. Líq** = O patrimônio líquido representa os valores que os sócios ou acionistas têm na empresa em um determinado momento. No balanço patrimonial, a diferença entre o valor dos ativos e dos passivos e resultado de exercícios futuros representa o PL (Patrimônio Líquido), que é o valor contábil devido pela pessoa jurídica aos sócios ou acionistas.\n",
        "* **Liq. Corr.** = Ativo Circulante dividido pelo Passivo Circulante: Reflete a capacidade de pagamento da empresa no curto prazo.\n",
        "* **P/Ativo** = Preço da ação dividido pelos Ativos totais por ação."
      ],
      "metadata": {
        "id": "Yw8_TzUVk2l2"
      }
    },
    {
      "cell_type": "code",
      "source": [
        "import requests\n",
        "import pandas as pd\n",
        "from bs4 import BeautifulSoup\n",
        "from typing import  Dict, List\n",
        "\n",
        "def converter_dados(soup:BeautifulSoup = None,type_name:str=\"\") -> List[Dict]:\n",
        "  table = soup.find(lambda tag: tag.name=='table')\n",
        "  header = table.findAll(lambda tag: tag.name=='thead')[0]\n",
        "  _template_header = []\n",
        "  _template_index = 0\n",
        "  for  th in header.findAll('th'):\n",
        "    _template_header.append({\"index\":_template_index,\"title\":th.text.strip()})\n",
        "    _template_index = _template_index + 1\n",
        "\n",
        "  rows= []\n",
        "  body = table.findAll(lambda tag: tag.name=='tbody')[0]\n",
        "\n",
        "  for  tr in body.findAll('tr'):\n",
        "    row = {}\n",
        "    for pos in _template_header:\n",
        "      tds = tr.findAll('td')\n",
        "      index = pos['index']\n",
        "      title = pos['title']\n",
        "\n",
        "      if index == 0:\n",
        "        describe = tds[index].find('span')['title'].strip()\n",
        "        row['Nome'] = describe\n",
        "        ticker = tds[index].find('a').text.strip()\n",
        "        row['Ticker'] = ticker\n",
        "      else:\n",
        "        row[title] = tds[index].text.strip()\n",
        "\n",
        "\n",
        "    rows.append(dict(row))\n",
        "\n",
        "  return rows\n",
        "\n",
        "def obterDadosBasicos():\n",
        "  url = \"https://fundamentus.com.br/resultado.php\"\n",
        "  page = requests.get(url,headers = {'User-Agent': 'Mozilla/5.0 (Windows NT 10.0; Win64; x64) AppleWebKit/537.36 (KHTML, like Gecko) Chrome/58.0.3029.110 Safari/537.3' })\n",
        "  soup = BeautifulSoup(page.content, \"html.parser\")\n",
        "  rows = converter_dados(soup)\n",
        "  return rows\n",
        "\n",
        "dados_basicos_fundamentalistas  = obterDadosBasicos()\n",
        "df = pd.DataFrame.from_dict(dados_basicos_fundamentalistas, orient='columns')\n",
        "\n",
        "cols_names = {'Nome':'nome_da_empresa', 'Ticker':'ticker',   'Cotação':'cotacao',\n",
        "              'P/L':'preco_da_acao_dividido_pelo_lucro_por_acao',\n",
        "              'P/VP':'preco_da_acão_dividido_pelo_valor_patrimonial_por_acao',\n",
        "              'PSR':'preco_da_acão_dividido_pela_receita_liquida_por_acao',\n",
        "              'Div.Yield':'dividendo_pago_por_acao',\n",
        "              'ROE':'retorno_sobre_o_patrimonio_liquido',\n",
        "              'Patrim. Líq':'patrimônio_liquido',\n",
        "              'Liq. Corr.':'liquidez_corrente',\n",
        "              'Liq.2meses':'liquidez_2meses',\n",
        "              'P/Ativo':'preco_da_acão_dividido_pelo_ativos_totais_por_acao'}\n",
        "\n",
        "\n",
        "cols = ['Nome' , 'Ticker' , 'Cotação', 'P/L','P/VP','PSR','Div.Yield','ROE','Patrim. Líq','Liq. Corr.','Liq.2meses','P/Ativo']\n",
        "\n",
        "df = df[cols]\n",
        "df.reset_index(drop=True, inplace=True)\n",
        "df.sample(10)"
      ],
      "metadata": {
        "colab": {
          "base_uri": "https://localhost:8080/",
          "height": 363
        },
        "id": "jBxL1IAnlsOw",
        "outputId": "1c1cdb6d-0f2f-4e52-e644-cb2320ced0ad"
      },
      "execution_count": 121,
      "outputs": [
        {
          "output_type": "execute_result",
          "data": {
            "text/plain": [
              "                                        Nome Ticker    Cotação     P/L   P/VP  \\\n",
              "532                     TRANSMISSÃO PAULISTA  TRPL4      25,24    6,08   0,92   \n",
              "322  AES SUL DISTRIB. GAÚCHA DE ENERGIA S.A.  AESL4  10.081,90    0,00   2,26   \n",
              "649                             TAURUS ARMAS  TASA4      11,28    9,35   1,31   \n",
              "502                          MONTEIRO ARANHA  MOAR3     390,00    5,44   3,15   \n",
              "172                               GRUPO SOMA  SOMA3       5,63   -2,67   0,76   \n",
              "731                                PETTENATI  PTNT3      10,22   12,36   1,31   \n",
              "954                                  TELEMAR  TMAR6      42,01  112,59   0,71   \n",
              "967                                    CELPE  CEPE6      43,00  200,52   1,97   \n",
              "283                                    CIMOB  GAFP4       0,05   -0,02  -0,01   \n",
              "32         BRASIL TELECOM PARTICIPAÇÕES S.A.  BRTP3      35,71  -67,26   2,45   \n",
              "\n",
              "       PSR Div.Yield      ROE        Patrim. Líq Liq. Corr.     Liq.2meses  \\\n",
              "532  2,511     8,73%   15,18%  18.016.200.000,00       3,08  76.104.100,00   \n",
              "322  0,000     0,00%    0,00%   5.030.750.000,00       0,94           0,00   \n",
              "649  0,802     3,58%   13,99%   1.091.810.000,00       1,49   4.793.260,00   \n",
              "502  0,000     7,92%   58,01%   1.515.160.000,00       4,86      24.647,10   \n",
              "172  0,822     0,00%  -28,52%   5.809.620.000,00       2,36  88.913.000,00   \n",
              "731  0,638     2,08%   10,59%     375.241.000,00       2,50      14.906,80   \n",
              "954  0,519     0,00%    0,63%  20.448.500.000,00       1,62           0,00   \n",
              "967  0,379     0,00%    0,98%   1.632.000.000,00       1,17           0,00   \n",
              "283  0,155     0,00%   38,79%     -80.712.500,00       0,51           0,00   \n",
              "32   1,168     0,00%   -3,64%   5.302.340.000,00       1,29           0,00   \n",
              "\n",
              "    P/Ativo  \n",
              "532   0,438  \n",
              "322   0,632  \n",
              "649   0,663  \n",
              "502   1,634  \n",
              "172   0,460  \n",
              "731   0,593  \n",
              "954   0,181  \n",
              "967   0,221  \n",
              "283   0,006  \n",
              "32    0,684  "
            ],
            "text/html": [
              "\n",
              "  <div id=\"df-8960f004-24e5-4028-a3d9-c61f4a2fb0dd\" class=\"colab-df-container\">\n",
              "    <div>\n",
              "<style scoped>\n",
              "    .dataframe tbody tr th:only-of-type {\n",
              "        vertical-align: middle;\n",
              "    }\n",
              "\n",
              "    .dataframe tbody tr th {\n",
              "        vertical-align: top;\n",
              "    }\n",
              "\n",
              "    .dataframe thead th {\n",
              "        text-align: right;\n",
              "    }\n",
              "</style>\n",
              "<table border=\"1\" class=\"dataframe\">\n",
              "  <thead>\n",
              "    <tr style=\"text-align: right;\">\n",
              "      <th></th>\n",
              "      <th>Nome</th>\n",
              "      <th>Ticker</th>\n",
              "      <th>Cotação</th>\n",
              "      <th>P/L</th>\n",
              "      <th>P/VP</th>\n",
              "      <th>PSR</th>\n",
              "      <th>Div.Yield</th>\n",
              "      <th>ROE</th>\n",
              "      <th>Patrim. Líq</th>\n",
              "      <th>Liq. Corr.</th>\n",
              "      <th>Liq.2meses</th>\n",
              "      <th>P/Ativo</th>\n",
              "    </tr>\n",
              "  </thead>\n",
              "  <tbody>\n",
              "    <tr>\n",
              "      <th>532</th>\n",
              "      <td>TRANSMISSÃO PAULISTA</td>\n",
              "      <td>TRPL4</td>\n",
              "      <td>25,24</td>\n",
              "      <td>6,08</td>\n",
              "      <td>0,92</td>\n",
              "      <td>2,511</td>\n",
              "      <td>8,73%</td>\n",
              "      <td>15,18%</td>\n",
              "      <td>18.016.200.000,00</td>\n",
              "      <td>3,08</td>\n",
              "      <td>76.104.100,00</td>\n",
              "      <td>0,438</td>\n",
              "    </tr>\n",
              "    <tr>\n",
              "      <th>322</th>\n",
              "      <td>AES SUL DISTRIB. GAÚCHA DE ENERGIA S.A.</td>\n",
              "      <td>AESL4</td>\n",
              "      <td>10.081,90</td>\n",
              "      <td>0,00</td>\n",
              "      <td>2,26</td>\n",
              "      <td>0,000</td>\n",
              "      <td>0,00%</td>\n",
              "      <td>0,00%</td>\n",
              "      <td>5.030.750.000,00</td>\n",
              "      <td>0,94</td>\n",
              "      <td>0,00</td>\n",
              "      <td>0,632</td>\n",
              "    </tr>\n",
              "    <tr>\n",
              "      <th>649</th>\n",
              "      <td>TAURUS ARMAS</td>\n",
              "      <td>TASA4</td>\n",
              "      <td>11,28</td>\n",
              "      <td>9,35</td>\n",
              "      <td>1,31</td>\n",
              "      <td>0,802</td>\n",
              "      <td>3,58%</td>\n",
              "      <td>13,99%</td>\n",
              "      <td>1.091.810.000,00</td>\n",
              "      <td>1,49</td>\n",
              "      <td>4.793.260,00</td>\n",
              "      <td>0,663</td>\n",
              "    </tr>\n",
              "    <tr>\n",
              "      <th>502</th>\n",
              "      <td>MONTEIRO ARANHA</td>\n",
              "      <td>MOAR3</td>\n",
              "      <td>390,00</td>\n",
              "      <td>5,44</td>\n",
              "      <td>3,15</td>\n",
              "      <td>0,000</td>\n",
              "      <td>7,92%</td>\n",
              "      <td>58,01%</td>\n",
              "      <td>1.515.160.000,00</td>\n",
              "      <td>4,86</td>\n",
              "      <td>24.647,10</td>\n",
              "      <td>1,634</td>\n",
              "    </tr>\n",
              "    <tr>\n",
              "      <th>172</th>\n",
              "      <td>GRUPO SOMA</td>\n",
              "      <td>SOMA3</td>\n",
              "      <td>5,63</td>\n",
              "      <td>-2,67</td>\n",
              "      <td>0,76</td>\n",
              "      <td>0,822</td>\n",
              "      <td>0,00%</td>\n",
              "      <td>-28,52%</td>\n",
              "      <td>5.809.620.000,00</td>\n",
              "      <td>2,36</td>\n",
              "      <td>88.913.000,00</td>\n",
              "      <td>0,460</td>\n",
              "    </tr>\n",
              "    <tr>\n",
              "      <th>731</th>\n",
              "      <td>PETTENATI</td>\n",
              "      <td>PTNT3</td>\n",
              "      <td>10,22</td>\n",
              "      <td>12,36</td>\n",
              "      <td>1,31</td>\n",
              "      <td>0,638</td>\n",
              "      <td>2,08%</td>\n",
              "      <td>10,59%</td>\n",
              "      <td>375.241.000,00</td>\n",
              "      <td>2,50</td>\n",
              "      <td>14.906,80</td>\n",
              "      <td>0,593</td>\n",
              "    </tr>\n",
              "    <tr>\n",
              "      <th>954</th>\n",
              "      <td>TELEMAR</td>\n",
              "      <td>TMAR6</td>\n",
              "      <td>42,01</td>\n",
              "      <td>112,59</td>\n",
              "      <td>0,71</td>\n",
              "      <td>0,519</td>\n",
              "      <td>0,00%</td>\n",
              "      <td>0,63%</td>\n",
              "      <td>20.448.500.000,00</td>\n",
              "      <td>1,62</td>\n",
              "      <td>0,00</td>\n",
              "      <td>0,181</td>\n",
              "    </tr>\n",
              "    <tr>\n",
              "      <th>967</th>\n",
              "      <td>CELPE</td>\n",
              "      <td>CEPE6</td>\n",
              "      <td>43,00</td>\n",
              "      <td>200,52</td>\n",
              "      <td>1,97</td>\n",
              "      <td>0,379</td>\n",
              "      <td>0,00%</td>\n",
              "      <td>0,98%</td>\n",
              "      <td>1.632.000.000,00</td>\n",
              "      <td>1,17</td>\n",
              "      <td>0,00</td>\n",
              "      <td>0,221</td>\n",
              "    </tr>\n",
              "    <tr>\n",
              "      <th>283</th>\n",
              "      <td>CIMOB</td>\n",
              "      <td>GAFP4</td>\n",
              "      <td>0,05</td>\n",
              "      <td>-0,02</td>\n",
              "      <td>-0,01</td>\n",
              "      <td>0,155</td>\n",
              "      <td>0,00%</td>\n",
              "      <td>38,79%</td>\n",
              "      <td>-80.712.500,00</td>\n",
              "      <td>0,51</td>\n",
              "      <td>0,00</td>\n",
              "      <td>0,006</td>\n",
              "    </tr>\n",
              "    <tr>\n",
              "      <th>32</th>\n",
              "      <td>BRASIL TELECOM PARTICIPAÇÕES S.A.</td>\n",
              "      <td>BRTP3</td>\n",
              "      <td>35,71</td>\n",
              "      <td>-67,26</td>\n",
              "      <td>2,45</td>\n",
              "      <td>1,168</td>\n",
              "      <td>0,00%</td>\n",
              "      <td>-3,64%</td>\n",
              "      <td>5.302.340.000,00</td>\n",
              "      <td>1,29</td>\n",
              "      <td>0,00</td>\n",
              "      <td>0,684</td>\n",
              "    </tr>\n",
              "  </tbody>\n",
              "</table>\n",
              "</div>\n",
              "    <div class=\"colab-df-buttons\">\n",
              "\n",
              "  <div class=\"colab-df-container\">\n",
              "    <button class=\"colab-df-convert\" onclick=\"convertToInteractive('df-8960f004-24e5-4028-a3d9-c61f4a2fb0dd')\"\n",
              "            title=\"Convert this dataframe to an interactive table.\"\n",
              "            style=\"display:none;\">\n",
              "\n",
              "  <svg xmlns=\"http://www.w3.org/2000/svg\" height=\"24px\" viewBox=\"0 -960 960 960\">\n",
              "    <path d=\"M120-120v-720h720v720H120Zm60-500h600v-160H180v160Zm220 220h160v-160H400v160Zm0 220h160v-160H400v160ZM180-400h160v-160H180v160Zm440 0h160v-160H620v160ZM180-180h160v-160H180v160Zm440 0h160v-160H620v160Z\"/>\n",
              "  </svg>\n",
              "    </button>\n",
              "\n",
              "  <style>\n",
              "    .colab-df-container {\n",
              "      display:flex;\n",
              "      gap: 12px;\n",
              "    }\n",
              "\n",
              "    .colab-df-convert {\n",
              "      background-color: #E8F0FE;\n",
              "      border: none;\n",
              "      border-radius: 50%;\n",
              "      cursor: pointer;\n",
              "      display: none;\n",
              "      fill: #1967D2;\n",
              "      height: 32px;\n",
              "      padding: 0 0 0 0;\n",
              "      width: 32px;\n",
              "    }\n",
              "\n",
              "    .colab-df-convert:hover {\n",
              "      background-color: #E2EBFA;\n",
              "      box-shadow: 0px 1px 2px rgba(60, 64, 67, 0.3), 0px 1px 3px 1px rgba(60, 64, 67, 0.15);\n",
              "      fill: #174EA6;\n",
              "    }\n",
              "\n",
              "    .colab-df-buttons div {\n",
              "      margin-bottom: 4px;\n",
              "    }\n",
              "\n",
              "    [theme=dark] .colab-df-convert {\n",
              "      background-color: #3B4455;\n",
              "      fill: #D2E3FC;\n",
              "    }\n",
              "\n",
              "    [theme=dark] .colab-df-convert:hover {\n",
              "      background-color: #434B5C;\n",
              "      box-shadow: 0px 1px 3px 1px rgba(0, 0, 0, 0.15);\n",
              "      filter: drop-shadow(0px 1px 2px rgba(0, 0, 0, 0.3));\n",
              "      fill: #FFFFFF;\n",
              "    }\n",
              "  </style>\n",
              "\n",
              "    <script>\n",
              "      const buttonEl =\n",
              "        document.querySelector('#df-8960f004-24e5-4028-a3d9-c61f4a2fb0dd button.colab-df-convert');\n",
              "      buttonEl.style.display =\n",
              "        google.colab.kernel.accessAllowed ? 'block' : 'none';\n",
              "\n",
              "      async function convertToInteractive(key) {\n",
              "        const element = document.querySelector('#df-8960f004-24e5-4028-a3d9-c61f4a2fb0dd');\n",
              "        const dataTable =\n",
              "          await google.colab.kernel.invokeFunction('convertToInteractive',\n",
              "                                                    [key], {});\n",
              "        if (!dataTable) return;\n",
              "\n",
              "        const docLinkHtml = 'Like what you see? Visit the ' +\n",
              "          '<a target=\"_blank\" href=https://colab.research.google.com/notebooks/data_table.ipynb>data table notebook</a>'\n",
              "          + ' to learn more about interactive tables.';\n",
              "        element.innerHTML = '';\n",
              "        dataTable['output_type'] = 'display_data';\n",
              "        await google.colab.output.renderOutput(dataTable, element);\n",
              "        const docLink = document.createElement('div');\n",
              "        docLink.innerHTML = docLinkHtml;\n",
              "        element.appendChild(docLink);\n",
              "      }\n",
              "    </script>\n",
              "  </div>\n",
              "\n",
              "\n",
              "<div id=\"df-205f0fe3-4b30-4ac0-9745-b7af8e9008ed\">\n",
              "  <button class=\"colab-df-quickchart\" onclick=\"quickchart('df-205f0fe3-4b30-4ac0-9745-b7af8e9008ed')\"\n",
              "            title=\"Suggest charts\"\n",
              "            style=\"display:none;\">\n",
              "\n",
              "<svg xmlns=\"http://www.w3.org/2000/svg\" height=\"24px\"viewBox=\"0 0 24 24\"\n",
              "     width=\"24px\">\n",
              "    <g>\n",
              "        <path d=\"M19 3H5c-1.1 0-2 .9-2 2v14c0 1.1.9 2 2 2h14c1.1 0 2-.9 2-2V5c0-1.1-.9-2-2-2zM9 17H7v-7h2v7zm4 0h-2V7h2v10zm4 0h-2v-4h2v4z\"/>\n",
              "    </g>\n",
              "</svg>\n",
              "  </button>\n",
              "\n",
              "<style>\n",
              "  .colab-df-quickchart {\n",
              "      --bg-color: #E8F0FE;\n",
              "      --fill-color: #1967D2;\n",
              "      --hover-bg-color: #E2EBFA;\n",
              "      --hover-fill-color: #174EA6;\n",
              "      --disabled-fill-color: #AAA;\n",
              "      --disabled-bg-color: #DDD;\n",
              "  }\n",
              "\n",
              "  [theme=dark] .colab-df-quickchart {\n",
              "      --bg-color: #3B4455;\n",
              "      --fill-color: #D2E3FC;\n",
              "      --hover-bg-color: #434B5C;\n",
              "      --hover-fill-color: #FFFFFF;\n",
              "      --disabled-bg-color: #3B4455;\n",
              "      --disabled-fill-color: #666;\n",
              "  }\n",
              "\n",
              "  .colab-df-quickchart {\n",
              "    background-color: var(--bg-color);\n",
              "    border: none;\n",
              "    border-radius: 50%;\n",
              "    cursor: pointer;\n",
              "    display: none;\n",
              "    fill: var(--fill-color);\n",
              "    height: 32px;\n",
              "    padding: 0;\n",
              "    width: 32px;\n",
              "  }\n",
              "\n",
              "  .colab-df-quickchart:hover {\n",
              "    background-color: var(--hover-bg-color);\n",
              "    box-shadow: 0 1px 2px rgba(60, 64, 67, 0.3), 0 1px 3px 1px rgba(60, 64, 67, 0.15);\n",
              "    fill: var(--button-hover-fill-color);\n",
              "  }\n",
              "\n",
              "  .colab-df-quickchart-complete:disabled,\n",
              "  .colab-df-quickchart-complete:disabled:hover {\n",
              "    background-color: var(--disabled-bg-color);\n",
              "    fill: var(--disabled-fill-color);\n",
              "    box-shadow: none;\n",
              "  }\n",
              "\n",
              "  .colab-df-spinner {\n",
              "    border: 2px solid var(--fill-color);\n",
              "    border-color: transparent;\n",
              "    border-bottom-color: var(--fill-color);\n",
              "    animation:\n",
              "      spin 1s steps(1) infinite;\n",
              "  }\n",
              "\n",
              "  @keyframes spin {\n",
              "    0% {\n",
              "      border-color: transparent;\n",
              "      border-bottom-color: var(--fill-color);\n",
              "      border-left-color: var(--fill-color);\n",
              "    }\n",
              "    20% {\n",
              "      border-color: transparent;\n",
              "      border-left-color: var(--fill-color);\n",
              "      border-top-color: var(--fill-color);\n",
              "    }\n",
              "    30% {\n",
              "      border-color: transparent;\n",
              "      border-left-color: var(--fill-color);\n",
              "      border-top-color: var(--fill-color);\n",
              "      border-right-color: var(--fill-color);\n",
              "    }\n",
              "    40% {\n",
              "      border-color: transparent;\n",
              "      border-right-color: var(--fill-color);\n",
              "      border-top-color: var(--fill-color);\n",
              "    }\n",
              "    60% {\n",
              "      border-color: transparent;\n",
              "      border-right-color: var(--fill-color);\n",
              "    }\n",
              "    80% {\n",
              "      border-color: transparent;\n",
              "      border-right-color: var(--fill-color);\n",
              "      border-bottom-color: var(--fill-color);\n",
              "    }\n",
              "    90% {\n",
              "      border-color: transparent;\n",
              "      border-bottom-color: var(--fill-color);\n",
              "    }\n",
              "  }\n",
              "</style>\n",
              "\n",
              "  <script>\n",
              "    async function quickchart(key) {\n",
              "      const quickchartButtonEl =\n",
              "        document.querySelector('#' + key + ' button');\n",
              "      quickchartButtonEl.disabled = true;  // To prevent multiple clicks.\n",
              "      quickchartButtonEl.classList.add('colab-df-spinner');\n",
              "      try {\n",
              "        const charts = await google.colab.kernel.invokeFunction(\n",
              "            'suggestCharts', [key], {});\n",
              "      } catch (error) {\n",
              "        console.error('Error during call to suggestCharts:', error);\n",
              "      }\n",
              "      quickchartButtonEl.classList.remove('colab-df-spinner');\n",
              "      quickchartButtonEl.classList.add('colab-df-quickchart-complete');\n",
              "    }\n",
              "    (() => {\n",
              "      let quickchartButtonEl =\n",
              "        document.querySelector('#df-205f0fe3-4b30-4ac0-9745-b7af8e9008ed button');\n",
              "      quickchartButtonEl.style.display =\n",
              "        google.colab.kernel.accessAllowed ? 'block' : 'none';\n",
              "    })();\n",
              "  </script>\n",
              "</div>\n",
              "\n",
              "    </div>\n",
              "  </div>\n"
            ],
            "application/vnd.google.colaboratory.intrinsic+json": {
              "type": "dataframe",
              "summary": "{\n  \"name\": \"df\",\n  \"rows\": 10,\n  \"fields\": [\n    {\n      \"column\": \"Nome\",\n      \"properties\": {\n        \"dtype\": \"string\",\n        \"num_unique_values\": 10,\n        \"samples\": [\n          \"CIMOB\",\n          \"AES SUL DISTRIB. GA\\u00daCHA DE ENERGIA S.A.\",\n          \"PETTENATI\"\n        ],\n        \"semantic_type\": \"\",\n        \"description\": \"\"\n      }\n    },\n    {\n      \"column\": \"Ticker\",\n      \"properties\": {\n        \"dtype\": \"string\",\n        \"num_unique_values\": 10,\n        \"samples\": [\n          \"GAFP4\",\n          \"AESL4\",\n          \"PTNT3\"\n        ],\n        \"semantic_type\": \"\",\n        \"description\": \"\"\n      }\n    },\n    {\n      \"column\": \"Cota\\u00e7\\u00e3o\",\n      \"properties\": {\n        \"dtype\": \"string\",\n        \"num_unique_values\": 10,\n        \"samples\": [\n          \"0,05\",\n          \"10.081,90\",\n          \"10,22\"\n        ],\n        \"semantic_type\": \"\",\n        \"description\": \"\"\n      }\n    },\n    {\n      \"column\": \"P/L\",\n      \"properties\": {\n        \"dtype\": \"string\",\n        \"num_unique_values\": 10,\n        \"samples\": [\n          \"-0,02\",\n          \"0,00\",\n          \"12,36\"\n        ],\n        \"semantic_type\": \"\",\n        \"description\": \"\"\n      }\n    },\n    {\n      \"column\": \"P/VP\",\n      \"properties\": {\n        \"dtype\": \"string\",\n        \"num_unique_values\": 9,\n        \"samples\": [\n          \"-0,01\",\n          \"2,26\",\n          \"0,71\"\n        ],\n        \"semantic_type\": \"\",\n        \"description\": \"\"\n      }\n    },\n    {\n      \"column\": \"PSR\",\n      \"properties\": {\n        \"dtype\": \"string\",\n        \"num_unique_values\": 9,\n        \"samples\": [\n          \"0,155\",\n          \"0,000\",\n          \"0,519\"\n        ],\n        \"semantic_type\": \"\",\n        \"description\": \"\"\n      }\n    },\n    {\n      \"column\": \"Div.Yield\",\n      \"properties\": {\n        \"dtype\": \"string\",\n        \"num_unique_values\": 5,\n        \"samples\": [\n          \"0,00%\",\n          \"2,08%\",\n          \"3,58%\"\n        ],\n        \"semantic_type\": \"\",\n        \"description\": \"\"\n      }\n    },\n    {\n      \"column\": \"ROE\",\n      \"properties\": {\n        \"dtype\": \"string\",\n        \"num_unique_values\": 10,\n        \"samples\": [\n          \"38,79%\",\n          \"0,00%\",\n          \"10,59%\"\n        ],\n        \"semantic_type\": \"\",\n        \"description\": \"\"\n      }\n    },\n    {\n      \"column\": \"Patrim. L\\u00edq\",\n      \"properties\": {\n        \"dtype\": \"string\",\n        \"num_unique_values\": 10,\n        \"samples\": [\n          \"-80.712.500,00\",\n          \"5.030.750.000,00\",\n          \"375.241.000,00\"\n        ],\n        \"semantic_type\": \"\",\n        \"description\": \"\"\n      }\n    },\n    {\n      \"column\": \"Liq. Corr.\",\n      \"properties\": {\n        \"dtype\": \"string\",\n        \"num_unique_values\": 10,\n        \"samples\": [\n          \"0,51\",\n          \"0,94\",\n          \"2,50\"\n        ],\n        \"semantic_type\": \"\",\n        \"description\": \"\"\n      }\n    },\n    {\n      \"column\": \"Liq.2meses\",\n      \"properties\": {\n        \"dtype\": \"string\",\n        \"num_unique_values\": 6,\n        \"samples\": [\n          \"76.104.100,00\",\n          \"0,00\",\n          \"14.906,80\"\n        ],\n        \"semantic_type\": \"\",\n        \"description\": \"\"\n      }\n    },\n    {\n      \"column\": \"P/Ativo\",\n      \"properties\": {\n        \"dtype\": \"string\",\n        \"num_unique_values\": 10,\n        \"samples\": [\n          \"0,006\",\n          \"0,632\",\n          \"0,593\"\n        ],\n        \"semantic_type\": \"\",\n        \"description\": \"\"\n      }\n    }\n  ]\n}"
            }
          },
          "metadata": {},
          "execution_count": 121
        }
      ]
    },
    {
      "cell_type": "code",
      "source": [
        "#Preparando os dados para serem usados em consultas\n",
        "df = df.copy()\n",
        "def fn_float(v) -> float:\n",
        "  v = str(v).strip()\n",
        "  v = v.replace('%','')\n",
        "  v = v.replace(' ','')\n",
        "  v = v.replace('.','')\n",
        "  v = v.replace(',','.')\n",
        "  v = v.replace('\\n','').replace('\\r','').strip()\n",
        "  return float(v)#/100\n",
        "def fn_percent(v) -> float:\n",
        "  return fn_float(v)/100\n",
        "if str(df['Liq.2meses'].dtype)=='object':\n",
        "  df['Liq.2meses'] = df['Liq.2meses'].transform(lambda v:fn_float(v))\n",
        "df = df[df['Liq.2meses']>0]\n",
        "\n",
        "for col in ['ROE','Div.Yield']:\n",
        "  if str(df[col].dtype)=='object':\n",
        "    df[col]= df[col].transform(lambda v:fn_percent(v))\n",
        "\n",
        "for col in ['Cotação','P/L', 'P/VP','PSR','P/Ativo','Liq. Corr.',   'Patrim. Líq']:\n",
        "  if str(df[col].dtype)=='object':\n",
        "    df[col]= df[col].transform(lambda v:fn_float(v))\n",
        "\n",
        "df['Nome']= df['Nome'].transform(lambda v:str(v).strip().upper())\n",
        "\n",
        "print(\"Dados prontos para serem usados em modo consulta\")\n",
        "print(df.head(1).T)"
      ],
      "metadata": {
        "colab": {
          "base_uri": "https://localhost:8080/"
        },
        "id": "PWrxwdPaMw9z",
        "outputId": "fcd537a8-1808-4198-f823-e4e983a6a73a"
      },
      "execution_count": 73,
      "outputs": [
        {
          "output_type": "stream",
          "name": "stdout",
          "text": [
            "Dados prontos para serem usados em modo consulta\n",
            "                       12\n",
            "Nome         WDC NETWORKS\n",
            "Ticker              LVTC3\n",
            "Cotação              4.17\n",
            "P/L               -360.97\n",
            "P/VP                 0.42\n",
            "PSR                 0.311\n",
            "Div.Yield             0.0\n",
            "ROE               -0.0012\n",
            "Patrim. Líq   640698000.0\n",
            "Liq. Corr.           2.37\n",
            "Liq.2meses        63282.0\n",
            "P/Ativo             0.192\n"
          ]
        }
      ]
    },
    {
      "cell_type": "markdown",
      "source": [],
      "metadata": {
        "id": "EmhcRYSfd8AR"
      }
    },
    {
      "cell_type": "markdown",
      "source": [
        "##### 🔗 **Criação do Pipeline de Consulta**\n",
        "Criaremos o seguinte Pipeline:\n",
        "\n",
        "![LlamaIndex-1.png](data:image/png;base64,iVBORw0KGgoAAAANSUhEUgAAArcAAAHzCAYAAAA6vDWQAAAAAXNSR0IArs4c6QAARjN0RVh0bXhmaWxlACUzQ214ZmlsZSUyMGhvc3QlM0QlMjJhcHAuZGlhZ3JhbXMubmV0JTIyJTIwbW9kaWZpZWQlM0QlMjIyMDI0LTA1LTExVDE5JTNBMDglM0EwMi40NzNaJTIyJTIwYWdlbnQlM0QlMjJNb3ppbGxhJTJGNS4wJTIwKFdpbmRvd3MlMjBOVCUyMDEwLjAlM0IlMjBXaW42NCUzQiUyMHg2NCklMjBBcHBsZVdlYktpdCUyRjUzNy4zNiUyMChLSFRNTCUyQyUyMGxpa2UlMjBHZWNrbyklMjBDaHJvbWUlMkYxMjQuMC4wLjAlMjBTYWZhcmklMkY1MzcuMzYlMjIlMjBldGFnJTNEJTIycUwyc0cwRTJQOE5uZmxHdTlUSEIlMjIlMjB2ZXJzaW9uJTNEJTIyMjQuMS4wJTIyJTIwdHlwZSUzRCUyMmdvb2dsZSUyMiUyMHNjYWxlJTNEJTIyMSUyMiUyMGJvcmRlciUzRCUyMjAlMjIlM0UlMEElMjAlMjAlM0NkaWFncmFtJTIwbmFtZSUzRCUyMlAlQzMlQTFnaW5hLTElMjIlMjBpZCUzRCUyMmwxWHVIczUtQ21SSVlEVWVRQmoyJTIyJTNFJTBBJTIwJTIwJTIwJTIwJTNDbXhHcmFwaE1vZGVsJTIwZHglM0QlMjI3MzMlMjIlMjBkeSUzRCUyMjE1MjQlMjIlMjBncmlkJTNEJTIyMSUyMiUyMGdyaWRTaXplJTNEJTIyMTAlMjIlMjBndWlkZXMlM0QlMjIxJTIyJTIwdG9vbHRpcHMlM0QlMjIxJTIyJTIwY29ubmVjdCUzRCUyMjElMjIlMjBhcnJvd3MlM0QlMjIxJTIyJTIwZm9sZCUzRCUyMjElMjIlMjBwYWdlJTNEJTIyMSUyMiUyMHBhZ2VTY2FsZSUzRCUyMjElMjIlMjBwYWdlV2lkdGglM0QlMjI4MjclMjIlMjBwYWdlSGVpZ2h0JTNEJTIyMTE2OSUyMiUyMG1hdGglM0QlMjIwJTIyJTIwc2hhZG93JTNEJTIyMCUyMiUzRSUwQSUyMCUyMCUyMCUyMCUyMCUyMCUzQ3Jvb3QlM0UlMEElMjAlMjAlMjAlMjAlMjAlMjAlMjAlMjAlM0NteENlbGwlMjBpZCUzRCUyMjAlMjIlMjAlMkYlM0UlMEElMjAlMjAlMjAlMjAlMjAlMjAlMjAlMjAlM0NteENlbGwlMjBpZCUzRCUyMjElMjIlMjBwYXJlbnQlM0QlMjIwJTIyJTIwJTJGJTNFJTBBJTIwJTIwJTIwJTIwJTIwJTIwJTIwJTIwJTNDbXhDZWxsJTIwaWQlM0QlMjJaRWlpbGlWc05wNHg0bzZmODU4Ty0zOSUyMiUyMHN0eWxlJTNEJTIyZWRnZVN0eWxlJTNEb3J0aG9nb25hbEVkZ2VTdHlsZSUzQnJvdW5kZWQlM0QwJTNCb3J0aG9nb25hbExvb3AlM0QxJTNCamV0dHlTaXplJTNEYXV0byUzQmh0bWwlM0QxJTNCZGFzaGVkJTNEMSUzQmZpbGxDb2xvciUzRCUyM2RhZThmYyUzQnN0cm9rZUNvbG9yJTNEJTIzNmM4ZWJmJTNCJTIyJTIwZWRnZSUzRCUyMjElMjIlMjBwYXJlbnQlM0QlMjIxJTIyJTNFJTBBJTIwJTIwJTIwJTIwJTIwJTIwJTIwJTIwJTIwJTIwJTNDbXhHZW9tZXRyeSUyMHJlbGF0aXZlJTNEJTIyMSUyMiUyMGFzJTNEJTIyZ2VvbWV0cnklMjIlM0UlMEElMjAlMjAlMjAlMjAlMjAlMjAlMjAlMjAlMjAlMjAlMjAlMjAlM0NteFBvaW50JTIweCUzRCUyMjY1MCUyMiUyMHklM0QlMjItNzMlMjIlMjBhcyUzRCUyMnNvdXJjZVBvaW50JTIyJTIwJTJGJTNFJTBBJTIwJTIwJTIwJTIwJTIwJTIwJTIwJTIwJTIwJTIwJTIwJTIwJTNDbXhQb2ludCUyMHglM0QlMjI0OTAlMjIlMjB5JTNEJTIyLTkzJTIyJTIwYXMlM0QlMjJ0YXJnZXRQb2ludCUyMiUyMCUyRiUzRSUwQSUyMCUyMCUyMCUyMCUyMCUyMCUyMCUyMCUyMCUyMCUyMCUyMCUzQ0FycmF5JTIwYXMlM0QlMjJwb2ludHMlMjIlM0UlMEElMjAlMjAlMjAlMjAlMjAlMjAlMjAlMjAlMjAlMjAlMjAlMjAlMjAlMjAlM0NteFBvaW50JTIweCUzRCUyMjY1MCUyMiUyMHklM0QlMjItOTMlMjIlMjAlMkYlM0UlMEElMjAlMjAlMjAlMjAlMjAlMjAlMjAlMjAlMjAlMjAlMjAlMjAlM0MlMkZBcnJheSUzRSUwQSUyMCUyMCUyMCUyMCUyMCUyMCUyMCUyMCUyMCUyMCUzQyUyRm14R2VvbWV0cnklM0UlMEElMjAlMjAlMjAlMjAlMjAlMjAlMjAlMjAlM0MlMkZteENlbGwlM0UlMEElMjAlMjAlMjAlMjAlMjAlMjAlMjAlMjAlM0NteENlbGwlMjBpZCUzRCUyMlpFaWlsaVZzTnA0eDRvNmY4NThPLTE0JTIyJTIwc3R5bGUlM0QlMjJlZGdlU3R5bGUlM0RvcnRob2dvbmFsRWRnZVN0eWxlJTNCcm91bmRlZCUzRDAlM0JvcnRob2dvbmFsTG9vcCUzRDElM0JqZXR0eVNpemUlM0RhdXRvJTNCaHRtbCUzRDElM0JmaWxsQ29sb3IlM0QlMjNmOGNlY2MlM0JzdHJva2VDb2xvciUzRCUyM2I4NTQ1MCUzQnN0cm9rZVdpZHRoJTNEMiUzQiUyMiUyMGVkZ2UlM0QlMjIxJTIyJTIwcGFyZW50JTNEJTIyMSUyMiUyMHNvdXJjZSUzRCUyMlpFaWlsaVZzTnA0eDRvNmY4NThPLTElMjIlMjB0YXJnZXQlM0QlMjJaRWlpbGlWc05wNHg0bzZmODU4Ty0yJTIyJTNFJTBBJTIwJTIwJTIwJTIwJTIwJTIwJTIwJTIwJTIwJTIwJTNDbXhHZW9tZXRyeSUyMHJlbGF0aXZlJTNEJTIyMSUyMiUyMGFzJTNEJTIyZ2VvbWV0cnklMjIlMjAlMkYlM0UlMEElMjAlMjAlMjAlMjAlMjAlMjAlMjAlMjAlM0MlMkZteENlbGwlM0UlMEElMjAlMjAlMjAlMjAlMjAlMjAlMjAlMjAlM0NteENlbGwlMjBpZCUzRCUyMlpFaWlsaVZzTnA0eDRvNmY4NThPLTMzJTIyJTIwc3R5bGUlM0QlMjJlZGdlU3R5bGUlM0RvcnRob2dvbmFsRWRnZVN0eWxlJTNCcm91bmRlZCUzRDAlM0JvcnRob2dvbmFsTG9vcCUzRDElM0JqZXR0eVNpemUlM0RhdXRvJTNCaHRtbCUzRDElM0JlbnRyeVglM0QwJTNCZW50cnlZJTNEMC41JTNCZW50cnlEeCUzRDAlM0JlbnRyeUR5JTNEMCUzQmZpbGxDb2xvciUzRCUyM2RhZThmYyUzQnN0cm9rZUNvbG9yJTNEJTIzMUExQTFBJTNCZGFzaGVkJTNEMSUzQmV4aXRYJTNEMC4yMzElM0JleGl0WSUzRDEuMDYyJTNCZXhpdER4JTNEMCUzQmV4aXREeSUzRDAlM0JleGl0UGVyaW1ldGVyJTNEMCUzQiUyMiUyMGVkZ2UlM0QlMjIxJTIyJTIwcGFyZW50JTNEJTIyMSUyMiUyMHNvdXJjZSUzRCUyMlpFaWlsaVZzTnA0eDRvNmY4NThPLTElMjIlMjB0YXJnZXQlM0QlMjJaRWlpbGlWc05wNHg0bzZmODU4Ty05JTIyJTNFJTBBJTIwJTIwJTIwJTIwJTIwJTIwJTIwJTIwJTIwJTIwJTNDbXhHZW9tZXRyeSUyMHJlbGF0aXZlJTNEJTIyMSUyMiUyMGFzJTNEJTIyZ2VvbWV0cnklMjIlM0UlMEElMjAlMjAlMjAlMjAlMjAlMjAlMjAlMjAlMjAlMjAlMjAlMjAlM0NteFBvaW50JTIweCUzRCUyMjE4MC4wMjk5OTk5OTk5OTk5JTIyJTIweSUzRCUyMi0xMjklMjIlMjBhcyUzRCUyMnNvdXJjZVBvaW50JTIyJTIwJTJGJTNFJTBBJTIwJTIwJTIwJTIwJTIwJTIwJTIwJTIwJTIwJTIwJTIwJTIwJTNDbXhQb2ludCUyMHglM0QlMjIxODAuMDI5OTk5OTk5OTk5OSUyMiUyMHklM0QlMjIyODQuNTAwMDAwMDAwMDAwMiUyMiUyMGFzJTNEJTIydGFyZ2V0UG9pbnQlMjIlMjAlMkYlM0UlMEElMjAlMjAlMjAlMjAlMjAlMjAlMjAlMjAlMjAlMjAlMjAlMjAlM0NBcnJheSUyMGFzJTNEJTIycG9pbnRzJTIyJTNFJTBBJTIwJTIwJTIwJTIwJTIwJTIwJTIwJTIwJTIwJTIwJTIwJTIwJTIwJTIwJTNDbXhQb2ludCUyMHglM0QlMjIyNjUlMjIlMjB5JTNEJTIyLTExMCUyMiUyMCUyRiUzRSUwQSUyMCUyMCUyMCUyMCUyMCUyMCUyMCUyMCUyMCUyMCUyMCUyMCUyMCUyMCUzQ214UG9pbnQlMjB4JTNEJTIyMTAwJTIyJTIweSUzRCUyMi0xMTAlMjIlMjAlMkYlM0UlMEElMjAlMjAlMjAlMjAlMjAlMjAlMjAlMjAlMjAlMjAlMjAlMjAlMjAlMjAlM0NteFBvaW50JTIweCUzRCUyMjEwMCUyMiUyMHklM0QlMjIyNTklMjIlMjAlMkYlM0UlMEElMjAlMjAlMjAlMjAlMjAlMjAlMjAlMjAlMjAlMjAlMjAlMjAlM0MlMkZBcnJheSUzRSUwQSUyMCUyMCUyMCUyMCUyMCUyMCUyMCUyMCUyMCUyMCUzQyUyRm14R2VvbWV0cnklM0UlMEElMjAlMjAlMjAlMjAlMjAlMjAlMjAlMjAlM0MlMkZteENlbGwlM0UlMEElMjAlMjAlMjAlMjAlMjAlMjAlMjAlMjAlM0NteENlbGwlMjBpZCUzRCUyMlpFaWlsaVZzTnA0eDRvNmY4NThPLTM1JTIyJTIwc3R5bGUlM0QlMjJlZGdlU3R5bGUlM0RvcnRob2dvbmFsRWRnZVN0eWxlJTNCcm91bmRlZCUzRDAlM0JvcnRob2dvbmFsTG9vcCUzRDElM0JqZXR0eVNpemUlM0RhdXRvJTNCaHRtbCUzRDElM0JlbnRyeVglM0QxJTNCZW50cnlZJTNEMC4yNSUzQmVudHJ5RHglM0QwJTNCZW50cnlEeSUzRDAlM0JmaWxsQ29sb3IlM0QlMjNmOGNlY2MlM0JzdHJva2VDb2xvciUzRCUyM2I4NTQ1MCUzQnN0cm9rZVdpZHRoJTNEMiUzQiUyMiUyMGVkZ2UlM0QlMjIxJTIyJTIwcGFyZW50JTNEJTIyMSUyMiUyMHNvdXJjZSUzRCUyMlpFaWlsaVZzTnA0eDRvNmY4NThPLTElMjIlM0UlMEElMjAlMjAlMjAlMjAlMjAlMjAlMjAlMjAlMjAlMjAlM0NteEdlb21ldHJ5JTIwcmVsYXRpdmUlM0QlMjIxJTIyJTIwYXMlM0QlMjJnZW9tZXRyeSUyMiUzRSUwQSUyMCUyMCUyMCUyMCUyMCUyMCUyMCUyMCUyMCUyMCUyMCUyMCUzQ214UG9pbnQlMjB4JTNEJTIyNDkwJTIyJTIweSUzRCUyMi0xNDYlMjIlMjBhcyUzRCUyMnNvdXJjZVBvaW50JTIyJTIwJTJGJTNFJTBBJTIwJTIwJTIwJTIwJTIwJTIwJTIwJTIwJTIwJTIwJTIwJTIwJTNDbXhQb2ludCUyMHglM0QlMjI0OTAuMDAwMDAwMDAwMDAwMSUyMiUyMHklM0QlMjI3OC40NyUyMiUyMGFzJTNEJTIydGFyZ2V0UG9pbnQlMjIlMjAlMkYlM0UlMEElMjAlMjAlMjAlMjAlMjAlMjAlMjAlMjAlMjAlMjAlMjAlMjAlM0NBcnJheSUyMGFzJTNEJTIycG9pbnRzJTIyJTNFJTBBJTIwJTIwJTIwJTIwJTIwJTIwJTIwJTIwJTIwJTIwJTIwJTIwJTIwJTIwJTNDbXhQb2ludCUyMHglM0QlMjI1NzAlMjIlMjB5JTNEJTIyLTE0NiUyMiUyMCUyRiUzRSUwQSUyMCUyMCUyMCUyMCUyMCUyMCUyMCUyMCUyMCUyMCUyMCUyMCUyMCUyMCUzQ214UG9pbnQlMjB4JTNEJTIyNTcwJTIyJTIweSUzRCUyMjc5JTIyJTIwJTJGJTNFJTBBJTIwJTIwJTIwJTIwJTIwJTIwJTIwJTIwJTIwJTIwJTIwJTIwJTNDJTJGQXJyYXklM0UlMEElMjAlMjAlMjAlMjAlMjAlMjAlMjAlMjAlMjAlMjAlM0MlMkZteEdlb21ldHJ5JTNFJTBBJTIwJTIwJTIwJTIwJTIwJTIwJTIwJTIwJTNDJTJGbXhDZWxsJTNFJTBBJTIwJTIwJTIwJTIwJTIwJTIwJTIwJTIwJTNDbXhDZWxsJTIwaWQlM0QlMjJaRWlpbGlWc05wNHg0bzZmODU4Ty0xJTIyJTIwdmFsdWUlM0QlMjJQZXJndW50YURvVXN1YXJpbyUyMiUyMHN0eWxlJTNEJTIycm91bmRlZCUzRDElM0J3aGl0ZVNwYWNlJTNEd3JhcCUzQmh0bWwlM0QxJTNCZmlsbENvbG9yJTNEJTIzZjVmNWY1JTNCc3Ryb2tlQ29sb3IlM0QlMjM2NjY2NjYlM0Jmb250Q29sb3IlM0QlMjMzMzMzMzMlM0Jmb250U3R5bGUlM0QxJTNCYWxpZ24lM0RjZW50ZXIlM0JnbGFzcyUzRDAlM0JzaGFkb3clM0QwJTNCc3BhY2luZyUzRDMlM0IlMjIlMjB2ZXJ0ZXglM0QlMjIxJTIyJTIwcGFyZW50JTNEJTIyMSUyMiUzRSUwQSUyMCUyMCUyMCUyMCUyMCUyMCUyMCUyMCUyMCUyMCUzQ214R2VvbWV0cnklMjB4JTNEJTIyMjAwJTIyJTIweSUzRCUyMi0xNTklMjIlMjB3aWR0aCUzRCUyMjI4MCUyMiUyMGhlaWdodCUzRCUyMjMwJTIyJTIwYXMlM0QlMjJnZW9tZXRyeSUyMiUyMCUyRiUzRSUwQSUyMCUyMCUyMCUyMCUyMCUyMCUyMCUyMCUzQyUyRm14Q2VsbCUzRSUwQSUyMCUyMCUyMCUyMCUyMCUyMCUyMCUyMCUzQ214Q2VsbCUyMGlkJTNEJTIyWkVpaWxpVnNOcDR4NG82Zjg1OE8tMTUlMjIlMjBzdHlsZSUzRCUyMmVkZ2VTdHlsZSUzRG9ydGhvZ29uYWxFZGdlU3R5bGUlM0Jyb3VuZGVkJTNEMCUzQm9ydGhvZ29uYWxMb29wJTNEMSUzQmpldHR5U2l6ZSUzRGF1dG8lM0JodG1sJTNEMSUzQiUyMiUyMGVkZ2UlM0QlMjIxJTIyJTIwcGFyZW50JTNEJTIyMSUyMiUyMHNvdXJjZSUzRCUyMlpFaWlsaVZzTnA0eDRvNmY4NThPLTIlMjIlMjB0YXJnZXQlM0QlMjJaRWlpbGlWc05wNHg0bzZmODU4Ty0zJTIyJTNFJTBBJTIwJTIwJTIwJTIwJTIwJTIwJTIwJTIwJTIwJTIwJTNDbXhHZW9tZXRyeSUyMHJlbGF0aXZlJTNEJTIyMSUyMiUyMGFzJTNEJTIyZ2VvbWV0cnklMjIlMjAlMkYlM0UlMEElMjAlMjAlMjAlMjAlMjAlMjAlMjAlMjAlM0MlMkZteENlbGwlM0UlMEElMjAlMjAlMjAlMjAlMjAlMjAlMjAlMjAlM0NteENlbGwlMjBpZCUzRCUyMlpFaWlsaVZzTnA0eDRvNmY4NThPLTIlMjIlMjB2YWx1ZSUzRCUyMlByb21wdF9JZGVudGlmaWNhclRpY2tlcnMlMjIlMjBzdHlsZSUzRCUyMnJvdW5kZWQlM0QxJTNCd2hpdGVTcGFjZSUzRHdyYXAlM0JodG1sJTNEMSUzQmZpbGxDb2xvciUzRCUyM2ZmZjJjYyUzQnN0cm9rZUNvbG9yJTNEJTIzZDZiNjU2JTNCZm9udENvbG9yJTNEJTIzNjYzMzAwJTNCZm9udFN0eWxlJTNEMSUzQmFsaWduJTNEY2VudGVyJTNCZ2xhc3MlM0QwJTNCc2hhZG93JTNEMCUzQnNwYWNpbmclM0QzJTNCJTIyJTIwdmVydGV4JTNEJTIyMSUyMiUyMHBhcmVudCUzRCUyMjElMjIlM0UlMEElMjAlMjAlMjAlMjAlMjAlMjAlMjAlMjAlMjAlMjAlM0NteEdlb21ldHJ5JTIweCUzRCUyMjIwMCUyMiUyMHklM0QlMjItMTA1JTIyJTIwd2lkdGglM0QlMjIyODAlMjIlMjBoZWlnaHQlM0QlMjIzMCUyMiUyMGFzJTNEJTIyZ2VvbWV0cnklMjIlMjAlMkYlM0UlMEElMjAlMjAlMjAlMjAlMjAlMjAlMjAlMjAlM0MlMkZteENlbGwlM0UlMEElMjAlMjAlMjAlMjAlMjAlMjAlMjAlMjAlM0NteENlbGwlMjBpZCUzRCUyMlpFaWlsaVZzTnA0eDRvNmY4NThPLTE2JTIyJTIwc3R5bGUlM0QlMjJlZGdlU3R5bGUlM0RvcnRob2dvbmFsRWRnZVN0eWxlJTNCcm91bmRlZCUzRDAlM0JvcnRob2dvbmFsTG9vcCUzRDElM0JqZXR0eVNpemUlM0RhdXRvJTNCaHRtbCUzRDElM0IlMjIlMjBlZGdlJTNEJTIyMSUyMiUyMHBhcmVudCUzRCUyMjElMjIlMjBzb3VyY2UlM0QlMjJaRWlpbGlWc05wNHg0bzZmODU4Ty0zJTIyJTIwdGFyZ2V0JTNEJTIyWkVpaWxpVnNOcDR4NG82Zjg1OE8tNCUyMiUzRSUwQSUyMCUyMCUyMCUyMCUyMCUyMCUyMCUyMCUyMCUyMCUzQ214R2VvbWV0cnklMjByZWxhdGl2ZSUzRCUyMjElMjIlMjBhcyUzRCUyMmdlb21ldHJ5JTIyJTIwJTJGJTNFJTBBJTIwJTIwJTIwJTIwJTIwJTIwJTIwJTIwJTNDJTJGbXhDZWxsJTNFJTBBJTIwJTIwJTIwJTIwJTIwJTIwJTIwJTIwJTNDbXhDZWxsJTIwaWQlM0QlMjJaRWlpbGlWc05wNHg0bzZmODU4Ty0zJTIyJTIwdmFsdWUlM0QlMjJMTE1fUXVlcnlfSWRlbnRpZmljYXJUaWNrZXJzJTIyJTIwc3R5bGUlM0QlMjJyb3VuZGVkJTNEMSUzQndoaXRlU3BhY2UlM0R3cmFwJTNCaHRtbCUzRDElM0JmaWxsQ29sb3IlM0QlMjNmZmYyY2MlM0JzdHJva2VDb2xvciUzRCUyM2Q2YjY1NiUzQmZvbnRDb2xvciUzRCUyMzY2MzMwMCUzQmZvbnRTdHlsZSUzRDElM0JhbGlnbiUzRGNlbnRlciUzQmdsYXNzJTNEMCUzQnNoYWRvdyUzRDAlM0JzcGFjaW5nJTNEMyUzQiUyMiUyMHZlcnRleCUzRCUyMjElMjIlMjBwYXJlbnQlM0QlMjIxJTIyJTNFJTBBJTIwJTIwJTIwJTIwJTIwJTIwJTIwJTIwJTIwJTIwJTNDbXhHZW9tZXRyeSUyMHglM0QlMjIyMDAlMjIlMjB5JTNEJTIyLTUzJTIyJTIwd2lkdGglM0QlMjIyODAlMjIlMjBoZWlnaHQlM0QlMjIzMCUyMiUyMGFzJTNEJTIyZ2VvbWV0cnklMjIlMjAlMkYlM0UlMEElMjAlMjAlMjAlMjAlMjAlMjAlMjAlMjAlM0MlMkZteENlbGwlM0UlMEElMjAlMjAlMjAlMjAlMjAlMjAlMjAlMjAlM0NteENlbGwlMjBpZCUzRCUyMlpFaWlsaVZzTnA0eDRvNmY4NThPLTE3JTIyJTIwc3R5bGUlM0QlMjJlZGdlU3R5bGUlM0RvcnRob2dvbmFsRWRnZVN0eWxlJTNCcm91bmRlZCUzRDAlM0JvcnRob2dvbmFsTG9vcCUzRDElM0JqZXR0eVNpemUlM0RhdXRvJTNCaHRtbCUzRDElM0IlMjIlMjBlZGdlJTNEJTIyMSUyMiUyMHBhcmVudCUzRCUyMjElMjIlMjBzb3VyY2UlM0QlMjJaRWlpbGlWc05wNHg0bzZmODU4Ty00JTIyJTIwdGFyZ2V0JTNEJTIyWkVpaWxpVnNOcDR4NG82Zjg1OE8tNiUyMiUzRSUwQSUyMCUyMCUyMCUyMCUyMCUyMCUyMCUyMCUyMCUyMCUzQ214R2VvbWV0cnklMjByZWxhdGl2ZSUzRCUyMjElMjIlMjBhcyUzRCUyMmdlb21ldHJ5JTIyJTIwJTJGJTNFJTBBJTIwJTIwJTIwJTIwJTIwJTIwJTIwJTIwJTNDJTJGbXhDZWxsJTNFJTBBJTIwJTIwJTIwJTIwJTIwJTIwJTIwJTIwJTNDbXhDZWxsJTIwaWQlM0QlMjJaRWlpbGlWc05wNHg0bzZmODU4Ty00JTIyJTIwdmFsdWUlM0QlMjJQYXJzZXJfUmVzcG9zdGFRdWVyeV9JZGVudGlmaWNhclRpY2tlcnMlMjIlMjBzdHlsZSUzRCUyMnJvdW5kZWQlM0QxJTNCd2hpdGVTcGFjZSUzRHdyYXAlM0JodG1sJTNEMSUzQmZpbGxDb2xvciUzRCUyM2ZmZjJjYyUzQnN0cm9rZUNvbG9yJTNEJTIzZDZiNjU2JTNCZm9udENvbG9yJTNEJTIzNjYzMzAwJTNCZm9udFN0eWxlJTNEMSUzQmFsaWduJTNEY2VudGVyJTNCZ2xhc3MlM0QwJTNCc2hhZG93JTNEMCUzQnNwYWNpbmclM0QzJTNCJTIyJTIwdmVydGV4JTNEJTIyMSUyMiUyMHBhcmVudCUzRCUyMjElMjIlM0UlMEElMjAlMjAlMjAlMjAlMjAlMjAlMjAlMjAlMjAlMjAlM0NteEdlb21ldHJ5JTIweCUzRCUyMjIwMCUyMiUyMHklM0QlMjIxJTIyJTIwd2lkdGglM0QlMjIyODAlMjIlMjBoZWlnaHQlM0QlMjIzMCUyMiUyMGFzJTNEJTIyZ2VvbWV0cnklMjIlMjAlMkYlM0UlMEElMjAlMjAlMjAlMjAlMjAlMjAlMjAlMjAlM0MlMkZteENlbGwlM0UlMEElMjAlMjAlMjAlMjAlMjAlMjAlMjAlMjAlM0NteENlbGwlMjBpZCUzRCUyMlpFaWlsaVZzTnA0eDRvNmY4NThPLTIwJTIyJTIwc3R5bGUlM0QlMjJlZGdlU3R5bGUlM0RvcnRob2dvbmFsRWRnZVN0eWxlJTNCcm91bmRlZCUzRDAlM0JvcnRob2dvbmFsTG9vcCUzRDElM0JqZXR0eVNpemUlM0RhdXRvJTNCaHRtbCUzRDElM0IlMjIlMjBlZGdlJTNEJTIyMSUyMiUyMHBhcmVudCUzRCUyMjElMjIlMjBzb3VyY2UlM0QlMjJaRWlpbGlWc05wNHg0bzZmODU4Ty01JTIyJTIwdGFyZ2V0JTNEJTIyWkVpaWxpVnNOcDR4NG82Zjg1OE8tOSUyMiUzRSUwQSUyMCUyMCUyMCUyMCUyMCUyMCUyMCUyMCUyMCUyMCUzQ214R2VvbWV0cnklMjByZWxhdGl2ZSUzRCUyMjElMjIlMjBhcyUzRCUyMmdlb21ldHJ5JTIyJTIwJTJGJTNFJTBBJTIwJTIwJTIwJTIwJTIwJTIwJTIwJTIwJTNDJTJGbXhDZWxsJTNFJTBBJTIwJTIwJTIwJTIwJTIwJTIwJTIwJTIwJTNDbXhDZWxsJTIwaWQlM0QlMjJaRWlpbGlWc05wNHg0bzZmODU4Ty01JTIyJTIwdmFsdWUlM0QlMjJQYXJzZXJfUmVzcG9zdGFRdWVyeV9JbnN0cnUlQzMlQTclQzMlQjVlc1BhbmRhcyUyMiUyMHN0eWxlJTNEJTIycm91bmRlZCUzRDElM0J3aGl0ZVNwYWNlJTNEd3JhcCUzQmh0bWwlM0QxJTNCZmlsbENvbG9yJTNEJTIzZmZmMmNjJTNCc3Ryb2tlQ29sb3IlM0QlMjNkNmI2NTYlM0Jmb250Q29sb3IlM0QlMjM2NjMzMDAlM0Jmb250U3R5bGUlM0QxJTNCYWxpZ24lM0RjZW50ZXIlM0JnbGFzcyUzRDAlM0JzaGFkb3clM0QwJTNCc3BhY2luZyUzRDMlM0IlMjIlMjB2ZXJ0ZXglM0QlMjIxJTIyJTIwcGFyZW50JTNEJTIyMSUyMiUzRSUwQSUyMCUyMCUyMCUyMCUyMCUyMCUyMCUyMCUyMCUyMCUzQ214R2VvbWV0cnklMjB4JTNEJTIyMjAwJTIyJTIweSUzRCUyMjE4NSUyMiUyMHdpZHRoJTNEJTIyMjgwJTIyJTIwaGVpZ2h0JTNEJTIyMzAlMjIlMjBhcyUzRCUyMmdlb21ldHJ5JTIyJTIwJTJGJTNFJTBBJTIwJTIwJTIwJTIwJTIwJTIwJTIwJTIwJTNDJTJGbXhDZWxsJTNFJTBBJTIwJTIwJTIwJTIwJTIwJTIwJTIwJTIwJTNDbXhDZWxsJTIwaWQlM0QlMjJaRWlpbGlWc05wNHg0bzZmODU4Ty0xOCUyMiUyMHN0eWxlJTNEJTIyZWRnZVN0eWxlJTNEb3J0aG9nb25hbEVkZ2VTdHlsZSUzQnJvdW5kZWQlM0QwJTNCb3J0aG9nb25hbExvb3AlM0QxJTNCamV0dHlTaXplJTNEYXV0byUzQmh0bWwlM0QxJTNCZW50cnlYJTNEMC41JTNCZW50cnlZJTNEMCUzQmVudHJ5RHglM0QwJTNCZW50cnlEeSUzRDAlM0IlMjIlMjBlZGdlJTNEJTIyMSUyMiUyMHBhcmVudCUzRCUyMjElMjIlMjBzb3VyY2UlM0QlMjJaRWlpbGlWc05wNHg0bzZmODU4Ty02JTIyJTIwdGFyZ2V0JTNEJTIyWkVpaWxpVnNOcDR4NG82Zjg1OE8tOCUyMiUzRSUwQSUyMCUyMCUyMCUyMCUyMCUyMCUyMCUyMCUyMCUyMCUzQ214R2VvbWV0cnklMjByZWxhdGl2ZSUzRCUyMjElMjIlMjBhcyUzRCUyMmdlb21ldHJ5JTIyJTIwJTJGJTNFJTBBJTIwJTIwJTIwJTIwJTIwJTIwJTIwJTIwJTNDJTJGbXhDZWxsJTNFJTBBJTIwJTIwJTIwJTIwJTIwJTIwJTIwJTIwJTNDbXhDZWxsJTIwaWQlM0QlMjJaRWlpbGlWc05wNHg0bzZmODU4Ty02JTIyJTIwdmFsdWUlM0QlMjJQcm9tcHRfSW5zdHJ1JUMzJUE3JUMzJUI1ZXNQYW5kYXMlMjIlMjBzdHlsZSUzRCUyMnJvdW5kZWQlM0QxJTNCd2hpdGVTcGFjZSUzRHdyYXAlM0JodG1sJTNEMSUzQmZpbGxDb2xvciUzRCUyM2Y4Y2VjYyUzQnN0cm9rZUNvbG9yJTNEJTIzYjg1NDUwJTNCZm9udFN0eWxlJTNEMSUzQmFsaWduJTNEY2VudGVyJTNCZ2xhc3MlM0QwJTNCc2hhZG93JTNEMCUzQnNwYWNpbmclM0QzJTNCZm9udENvbG9yJTNEJTIzOTkwMDAwJTNCJTIyJTIwdmVydGV4JTNEJTIyMSUyMiUyMHBhcmVudCUzRCUyMjElMjIlM0UlMEElMjAlMjAlMjAlMjAlMjAlMjAlMjAlMjAlMjAlMjAlM0NteEdlb21ldHJ5JTIweCUzRCUyMjIwMCUyMiUyMHklM0QlMjI2MyUyMiUyMHdpZHRoJTNEJTIyMjgwJTIyJTIwaGVpZ2h0JTNEJTIyMzglMjIlMjBhcyUzRCUyMmdlb21ldHJ5JTIyJTIwJTJGJTNFJTBBJTIwJTIwJTIwJTIwJTIwJTIwJTIwJTIwJTNDJTJGbXhDZWxsJTNFJTBBJTIwJTIwJTIwJTIwJTIwJTIwJTIwJTIwJTNDbXhDZWxsJTIwaWQlM0QlMjJaRWlpbGlWc05wNHg0bzZmODU4Ty0xOSUyMiUyMHN0eWxlJTNEJTIyZWRnZVN0eWxlJTNEb3J0aG9nb25hbEVkZ2VTdHlsZSUzQnJvdW5kZWQlM0QwJTNCb3J0aG9nb25hbExvb3AlM0QxJTNCamV0dHlTaXplJTNEYXV0byUzQmh0bWwlM0QxJTNCJTIyJTIwZWRnZSUzRCUyMjElMjIlMjBwYXJlbnQlM0QlMjIxJTIyJTIwc291cmNlJTNEJTIyWkVpaWxpVnNOcDR4NG82Zjg1OE8tOCUyMiUyMHRhcmdldCUzRCUyMlpFaWlsaVZzTnA0eDRvNmY4NThPLTUlMjIlM0UlMEElMjAlMjAlMjAlMjAlMjAlMjAlMjAlMjAlMjAlMjAlM0NteEdlb21ldHJ5JTIwcmVsYXRpdmUlM0QlMjIxJTIyJTIwYXMlM0QlMjJnZW9tZXRyeSUyMiUyMCUyRiUzRSUwQSUyMCUyMCUyMCUyMCUyMCUyMCUyMCUyMCUzQyUyRm14Q2VsbCUzRSUwQSUyMCUyMCUyMCUyMCUyMCUyMCUyMCUyMCUzQ214Q2VsbCUyMGlkJTNEJTIyWkVpaWxpVnNOcDR4NG82Zjg1OE8tOCUyMiUyMHZhbHVlJTNEJTIyTExNX1F1ZXJ5X0luc3RydSVDMyVBNyVDMyVCNWVzUGFuZGFzJTIyJTIwc3R5bGUlM0QlMjJyb3VuZGVkJTNEMSUzQndoaXRlU3BhY2UlM0R3cmFwJTNCaHRtbCUzRDElM0JmaWxsQ29sb3IlM0QlMjNmZmYyY2MlM0JzdHJva2VDb2xvciUzRCUyM2Q2YjY1NiUzQmZvbnRDb2xvciUzRCUyMzY2MzMwMCUzQmZvbnRTdHlsZSUzRDElM0JhbGlnbiUzRGNlbnRlciUzQmdsYXNzJTNEMCUzQnNoYWRvdyUzRDAlM0JzcGFjaW5nJTNEMyUzQiUyMiUyMHZlcnRleCUzRCUyMjElMjIlMjBwYXJlbnQlM0QlMjIxJTIyJTNFJTBBJTIwJTIwJTIwJTIwJTIwJTIwJTIwJTIwJTIwJTIwJTNDbXhHZW9tZXRyeSUyMHglM0QlMjIyMDAlMjIlMjB5JTNEJTIyMTMzJTIyJTIwd2lkdGglM0QlMjIyODAlMjIlMjBoZWlnaHQlM0QlMjIzMCUyMiUyMGFzJTNEJTIyZ2VvbWV0cnklMjIlMjAlMkYlM0UlMEElMjAlMjAlMjAlMjAlMjAlMjAlMjAlMjAlM0MlMkZteENlbGwlM0UlMEElMjAlMjAlMjAlMjAlMjAlMjAlMjAlMjAlM0NteENlbGwlMjBpZCUzRCUyMlpFaWlsaVZzTnA0eDRvNmY4NThPLTIxJTIyJTIwc3R5bGUlM0QlMjJlZGdlU3R5bGUlM0RvcnRob2dvbmFsRWRnZVN0eWxlJTNCcm91bmRlZCUzRDAlM0JvcnRob2dvbmFsTG9vcCUzRDElM0JqZXR0eVNpemUlM0RhdXRvJTNCaHRtbCUzRDElM0IlMjIlMjBlZGdlJTNEJTIyMSUyMiUyMHBhcmVudCUzRCUyMjElMjIlMjBzb3VyY2UlM0QlMjJaRWlpbGlWc05wNHg0bzZmODU4Ty05JTIyJTIwdGFyZ2V0JTNEJTIyWkVpaWxpVnNOcDR4NG82Zjg1OE8tMTAlMjIlM0UlMEElMjAlMjAlMjAlMjAlMjAlMjAlMjAlMjAlMjAlMjAlM0NteEdlb21ldHJ5JTIwcmVsYXRpdmUlM0QlMjIxJTIyJTIwYXMlM0QlMjJnZW9tZXRyeSUyMiUyMCUyRiUzRSUwQSUyMCUyMCUyMCUyMCUyMCUyMCUyMCUyMCUzQyUyRm14Q2VsbCUzRSUwQSUyMCUyMCUyMCUyMCUyMCUyMCUyMCUyMCUzQ214Q2VsbCUyMGlkJTNEJTIyWkVpaWxpVnNOcDR4NG82Zjg1OE8tOSUyMiUyMHZhbHVlJTNEJTIyUHJvbXB0X1MlQzMlQURudGVzZVJlc3Bvc3RhJTIyJTIwc3R5bGUlM0QlMjJyb3VuZGVkJTNEMSUzQndoaXRlU3BhY2UlM0R3cmFwJTNCaHRtbCUzRDElM0JmaWxsQ29sb3IlM0QlMjNmZmYyY2MlM0JzdHJva2VDb2xvciUzRCUyM2Q2YjY1NiUzQmZvbnRDb2xvciUzRCUyMzY2MzMwMCUzQmZvbnRTdHlsZSUzRDElM0JhbGlnbiUzRGNlbnRlciUzQmdsYXNzJTNEMCUzQnNoYWRvdyUzRDAlM0JzcGFjaW5nJTNEMyUzQiUyMiUyMHZlcnRleCUzRCUyMjElMjIlMjBwYXJlbnQlM0QlMjIxJTIyJTNFJTBBJTIwJTIwJTIwJTIwJTIwJTIwJTIwJTIwJTIwJTIwJTNDbXhHZW9tZXRyeSUyMHglM0QlMjIyMDAlMjIlMjB5JTNEJTIyMjQ0JTIyJTIwd2lkdGglM0QlMjIyODAlMjIlMjBoZWlnaHQlM0QlMjIzMCUyMiUyMGFzJTNEJTIyZ2VvbWV0cnklMjIlMjAlMkYlM0UlMEElMjAlMjAlMjAlMjAlMjAlMjAlMjAlMjAlM0MlMkZteENlbGwlM0UlMEElMjAlMjAlMjAlMjAlMjAlMjAlMjAlMjAlM0NteENlbGwlMjBpZCUzRCUyMlpFaWlsaVZzTnA0eDRvNmY4NThPLTIyJTIyJTIwdmFsdWUlM0QlMjJSZXNvc3RhJTIwcGFyYSUyMG8lMjB1c3UlQzMlQTFyaW8lMjIlMjBzdHlsZSUzRCUyMmVkZ2VTdHlsZSUzRG9ydGhvZ29uYWxFZGdlU3R5bGUlM0Jyb3VuZGVkJTNEMCUzQm9ydGhvZ29uYWxMb29wJTNEMSUzQmpldHR5U2l6ZSUzRGF1dG8lM0JodG1sJTNEMSUzQiUyMiUyMGVkZ2UlM0QlMjIxJTIyJTIwcGFyZW50JTNEJTIyMSUyMiUyMHNvdXJjZSUzRCUyMlpFaWlsaVZzTnA0eDRvNmY4NThPLTEwJTIyJTNFJTBBJTIwJTIwJTIwJTIwJTIwJTIwJTIwJTIwJTIwJTIwJTNDbXhHZW9tZXRyeSUyMHJlbGF0aXZlJTNEJTIyMSUyMiUyMGFzJTNEJTIyZ2VvbWV0cnklMjIlM0UlMEElMjAlMjAlMjAlMjAlMjAlMjAlMjAlMjAlMjAlMjAlMjAlMjAlM0NteFBvaW50JTIweCUzRCUyMjYwJTIyJTIweSUzRCUyMi04MCUyMiUyMGFzJTNEJTIydGFyZ2V0UG9pbnQlMjIlMjAlMkYlM0UlMEElMjAlMjAlMjAlMjAlMjAlMjAlMjAlMjAlMjAlMjAlM0MlMkZteEdlb21ldHJ5JTNFJTBBJTIwJTIwJTIwJTIwJTIwJTIwJTIwJTIwJTNDJTJGbXhDZWxsJTNFJTBBJTIwJTIwJTIwJTIwJTIwJTIwJTIwJTIwJTNDbXhDZWxsJTIwaWQlM0QlMjJaRWlpbGlWc05wNHg0bzZmODU4Ty0xMCUyMiUyMHZhbHVlJTNEJTIyTExNX1MlQzMlQURudGVzZVJlc3Bvc3RhJTIyJTIwc3R5bGUlM0QlMjJyb3VuZGVkJTNEMSUzQndoaXRlU3BhY2UlM0R3cmFwJTNCaHRtbCUzRDElM0JmaWxsQ29sb3IlM0QlMjNkNWU4ZDQlM0JzdHJva2VDb2xvciUzRCUyMzgyYjM2NiUzQmZvbnRTdHlsZSUzRDElM0JnbGFzcyUzRDAlM0JzaGFkb3clM0QwJTNCc3BhY2luZyUzRDMlM0IlMjIlMjB2ZXJ0ZXglM0QlMjIxJTIyJTIwcGFyZW50JTNEJTIyMSUyMiUzRSUwQSUyMCUyMCUyMCUyMCUyMCUyMCUyMCUyMCUyMCUyMCUzQ214R2VvbWV0cnklMjB4JTNEJTIyMjAwJTIyJTIweSUzRCUyMjMwNCUyMiUyMHdpZHRoJTNEJTIyMjgwJTIyJTIwaGVpZ2h0JTNEJTIyMzAlMjIlMjBhcyUzRCUyMmdlb21ldHJ5JTIyJTIwJTJGJTNFJTBBJTIwJTIwJTIwJTIwJTIwJTIwJTIwJTIwJTNDJTJGbXhDZWxsJTNFJTBBJTIwJTIwJTIwJTIwJTIwJTIwJTIwJTIwJTNDbXhDZWxsJTIwaWQlM0QlMjJaRWlpbGlWc05wNHg0bzZmODU4Ty0xMyUyMiUyMHN0eWxlJTNEJTIyZWRnZVN0eWxlJTNEb3J0aG9nb25hbEVkZ2VTdHlsZSUzQnJvdW5kZWQlM0QwJTNCb3J0aG9nb25hbExvb3AlM0QxJTNCamV0dHlTaXplJTNEYXV0byUzQmh0bWwlM0QxJTNCJTIyJTIwZWRnZSUzRCUyMjElMjIlMjBwYXJlbnQlM0QlMjIxJTIyJTIwc291cmNlJTNEJTIyWkVpaWxpVnNOcDR4NG82Zjg1OE8tMTIlMjIlMjB0YXJnZXQlM0QlMjJaRWlpbGlWc05wNHg0bzZmODU4Ty0xJTIyJTNFJTBBJTIwJTIwJTIwJTIwJTIwJTIwJTIwJTIwJTIwJTIwJTNDbXhHZW9tZXRyeSUyMHJlbGF0aXZlJTNEJTIyMSUyMiUyMGFzJTNEJTIyZ2VvbWV0cnklMjIlMjAlMkYlM0UlMEElMjAlMjAlMjAlMjAlMjAlMjAlMjAlMjAlM0MlMkZteENlbGwlM0UlMEElMjAlMjAlMjAlMjAlMjAlMjAlMjAlMjAlM0NteENlbGwlMjBpZCUzRCUyMlpFaWlsaVZzTnA0eDRvNmY4NThPLTEyJTIyJTIwdmFsdWUlM0QlMjJVc3UlQzMlQTFyaW8lMjIlMjBzdHlsZSUzRCUyMnNoYXBlJTNEdW1sQWN0b3IlM0J2ZXJ0aWNhbExhYmVsUG9zaXRpb24lM0Rib3R0b20lM0J2ZXJ0aWNhbEFsaWduJTNEdG9wJTNCaHRtbCUzRDElM0JvdXRsaW5lQ29ubmVjdCUzRDAlM0JmaWxsQ29sb3IlM0QlMjNmOGNlY2MlM0JzdHJva2VDb2xvciUzRCUyM2I4NTQ1MCUzQnN0cm9rZVdpZHRoJTNEMSUzQnNoYWRvdyUzRDAlM0IlMjIlMjB2ZXJ0ZXglM0QlMjIxJTIyJTIwcGFyZW50JTNEJTIyMSUyMiUzRSUwQSUyMCUyMCUyMCUyMCUyMCUyMCUyMCUyMCUyMCUyMCUzQ214R2VvbWV0cnklMjB4JTNEJTIyNDMlMjIlMjB5JTNEJTIyLTE2NCUyMiUyMHdpZHRoJTNEJTIyMjclMjIlMjBoZWlnaHQlM0QlMjI0MSUyMiUyMGFzJTNEJTIyZ2VvbWV0cnklMjIlMjAlMkYlM0UlMEElMjAlMjAlMjAlMjAlMjAlMjAlMjAlMjAlM0MlMkZteENlbGwlM0UlMEElMjAlMjAlMjAlMjAlMjAlMjAlMjAlMjAlM0NteENlbGwlMjBpZCUzRCUyMlpFaWlsaVZzTnA0eDRvNmY4NThPLTMwJTIyJTIwc3R5bGUlM0QlMjJlZGdlU3R5bGUlM0RvcnRob2dvbmFsRWRnZVN0eWxlJTNCcm91bmRlZCUzRDAlM0JvcnRob2dvbmFsTG9vcCUzRDElM0JqZXR0eVNpemUlM0RhdXRvJTNCaHRtbCUzRDElM0JkYXNoZWQlM0QxJTNCZmlsbENvbG9yJTNEJTIzZGFlOGZjJTNCc3Ryb2tlQ29sb3IlM0QlMjM2YzhlYmYlM0IlMjIlMjBlZGdlJTNEJTIyMSUyMiUyMHBhcmVudCUzRCUyMjElMjIlM0UlMEElMjAlMjAlMjAlMjAlMjAlMjAlMjAlMjAlMjAlMjAlM0NteEdlb21ldHJ5JTIwcmVsYXRpdmUlM0QlMjIxJTIyJTIwYXMlM0QlMjJnZW9tZXRyeSUyMiUzRSUwQSUyMCUyMCUyMCUyMCUyMCUyMCUyMCUyMCUyMCUyMCUyMCUyMCUzQ214UG9pbnQlMjB4JTNEJTIyNjQwJTIyJTIweSUzRCUyMi01NyUyMiUyMGFzJTNEJTIyc291cmNlUG9pbnQlMjIlMjAlMkYlM0UlMEElMjAlMjAlMjAlMjAlMjAlMjAlMjAlMjAlMjAlMjAlMjAlMjAlM0NteFBvaW50JTIweCUzRCUyMjQ5MCUyMiUyMHklM0QlMjI5MiUyMiUyMGFzJTNEJTIydGFyZ2V0UG9pbnQlMjIlMjAlMkYlM0UlMEElMjAlMjAlMjAlMjAlMjAlMjAlMjAlMjAlMjAlMjAlMjAlMjAlM0NBcnJheSUyMGFzJTNEJTIycG9pbnRzJTIyJTNFJTBBJTIwJTIwJTIwJTIwJTIwJTIwJTIwJTIwJTIwJTIwJTIwJTIwJTIwJTIwJTNDbXhQb2ludCUyMHglM0QlMjI2NDAlMjIlMjB5JTNEJTIyOTIlMjIlMjAlMkYlM0UlMEElMjAlMjAlMjAlMjAlMjAlMjAlMjAlMjAlMjAlMjAlMjAlMjAlM0MlMkZBcnJheSUzRSUwQSUyMCUyMCUyMCUyMCUyMCUyMCUyMCUyMCUyMCUyMCUzQyUyRm14R2VvbWV0cnklM0UlMEElMjAlMjAlMjAlMjAlMjAlMjAlMjAlMjAlM0MlMkZteENlbGwlM0UlMEElMjAlMjAlMjAlMjAlMjAlMjAlMjAlMjAlM0NteENlbGwlMjBpZCUzRCUyMlpFaWlsaVZzTnA0eDRvNmY4NThPLTMxJTIyJTIwc3R5bGUlM0QlMjJlZGdlU3R5bGUlM0RvcnRob2dvbmFsRWRnZVN0eWxlJTNCcm91bmRlZCUzRDAlM0JvcnRob2dvbmFsTG9vcCUzRDElM0JqZXR0eVNpemUlM0RhdXRvJTNCaHRtbCUzRDElM0JmaWxsQ29sb3IlM0QlMjNkYWU4ZmMlM0JzdHJva2VDb2xvciUzRCUyMzZjOGViZiUzQiUyMiUyMGVkZ2UlM0QlMjIxJTIyJTIwcGFyZW50JTNEJTIyMSUyMiUzRSUwQSUyMCUyMCUyMCUyMCUyMCUyMCUyMCUyMCUyMCUyMCUzQ214R2VvbWV0cnklMjByZWxhdGl2ZSUzRCUyMjElMjIlMjBhcyUzRCUyMmdlb21ldHJ5JTIyJTNFJTBBJTIwJTIwJTIwJTIwJTIwJTIwJTIwJTIwJTIwJTIwJTIwJTIwJTNDbXhQb2ludCUyMHglM0QlMjI2NTAlMjIlMjB5JTNEJTIyLTYwJTIyJTIwYXMlM0QlMjJzb3VyY2VQb2ludCUyMiUyMCUyRiUzRSUwQSUyMCUyMCUyMCUyMCUyMCUyMCUyMCUyMCUyMCUyMCUyMCUyMCUzQ214UG9pbnQlMjB4JTNEJTIyNDkwJTIyJTIweSUzRCUyMjIwNiUyMiUyMGFzJTNEJTIydGFyZ2V0UG9pbnQlMjIlMjAlMkYlM0UlMEElMjAlMjAlMjAlMjAlMjAlMjAlMjAlMjAlMjAlMjAlMjAlMjAlM0NBcnJheSUyMGFzJTNEJTIycG9pbnRzJTIyJTNFJTBBJTIwJTIwJTIwJTIwJTIwJTIwJTIwJTIwJTIwJTIwJTIwJTIwJTIwJTIwJTNDbXhQb2ludCUyMHglM0QlMjI2NTAlMjIlMjB5JTNEJTIyLTgwJTIyJTIwJTJGJTNFJTBBJTIwJTIwJTIwJTIwJTIwJTIwJTIwJTIwJTIwJTIwJTIwJTIwJTIwJTIwJTNDbXhQb2ludCUyMHglM0QlMjI2OTAlMjIlMjB5JTNEJTIyLTgwJTIyJTIwJTJGJTNFJTBBJTIwJTIwJTIwJTIwJTIwJTIwJTIwJTIwJTIwJTIwJTIwJTIwJTIwJTIwJTNDbXhQb2ludCUyMHglM0QlMjI2OTAlMjIlMjB5JTNEJTIyMjA2JTIyJTIwJTJGJTNFJTBBJTIwJTIwJTIwJTIwJTIwJTIwJTIwJTIwJTIwJTIwJTIwJTIwJTNDJTJGQXJyYXklM0UlMEElMjAlMjAlMjAlMjAlMjAlMjAlMjAlMjAlMjAlMjAlM0MlMkZteEdlb21ldHJ5JTNFJTBBJTIwJTIwJTIwJTIwJTIwJTIwJTIwJTIwJTNDJTJGbXhDZWxsJTNFJTBBJTIwJTIwJTIwJTIwJTIwJTIwJTIwJTIwJTNDbXhDZWxsJTIwaWQlM0QlMjJaRWlpbGlWc05wNHg0bzZmODU4Ty0zOCUyMiUyMHZhbHVlJTNEJTIyJTIyJTIwc3R5bGUlM0QlMjJlZGdlU3R5bGUlM0RvcnRob2dvbmFsRWRnZVN0eWxlJTNCcm91bmRlZCUzRDAlM0JvcnRob2dvbmFsTG9vcCUzRDElM0JqZXR0eVNpemUlM0RhdXRvJTNCaHRtbCUzRDElM0JlbnRyeVglM0QxJTNCZW50cnlZJTNEMC41JTNCZW50cnlEeCUzRDAlM0JlbnRyeUR5JTNEMCUzQmZpbGxDb2xvciUzRCUyM2RhZThmYyUzQnN0cm9rZUNvbG9yJTNEJTIzNmM4ZWJmJTNCJTIyJTIwZWRnZSUzRCUyMjElMjIlMjBwYXJlbnQlM0QlMjIxJTIyJTIwc291cmNlJTNEJTIyWkVpaWxpVnNOcDR4NG82Zjg1OE8tMjMlMjIlMjB0YXJnZXQlM0QlMjJaRWlpbGlWc05wNHg0bzZmODU4Ty00JTIyJTNFJTBBJTIwJTIwJTIwJTIwJTIwJTIwJTIwJTIwJTIwJTIwJTNDbXhHZW9tZXRyeSUyMHJlbGF0aXZlJTNEJTIyMSUyMiUyMGFzJTNEJTIyZ2VvbWV0cnklMjIlMjAlMkYlM0UlMEElMjAlMjAlMjAlMjAlMjAlMjAlMjAlMjAlM0MlMkZteENlbGwlM0UlMEElMjAlMjAlMjAlMjAlMjAlMjAlMjAlMjAlM0NteENlbGwlMjBpZCUzRCUyMlpFaWlsaVZzTnA0eDRvNmY4NThPLTIzJTIyJTIwdmFsdWUlM0QlMjJQYW5kYXMlM0ElMjZsdCUzQmJyJTI2Z3QlM0JEYWRvcyUyMExvY2FpcyUyMiUyMHN0eWxlJTNEJTIyc2hhcGUlM0RjeWxpbmRlcjMlM0J3aGl0ZVNwYWNlJTNEd3JhcCUzQmh0bWwlM0QxJTNCYm91bmRlZExibCUzRDElM0JiYWNrZ3JvdW5kT3V0bGluZSUzRDElM0JzaXplJTNEMTUlM0JmaWxsQ29sb3IlM0QlMjNkYWU4ZmMlM0JzdHJva2VDb2xvciUzRCUyMzZjOGViZiUzQiUyMiUyMHZlcnRleCUzRCUyMjElMjIlMjBwYXJlbnQlM0QlMjIxJTIyJTNFJTBBJTIwJTIwJTIwJTIwJTIwJTIwJTIwJTIwJTIwJTIwJTNDbXhHZW9tZXRyeSUyMHglM0QlMjI1OTAlMjIlMjB5JTNEJTIyLTEzMyUyMiUyMHdpZHRoJTNEJTIyODAlMjIlMjBoZWlnaHQlM0QlMjI4MCUyMiUyMGFzJTNEJTIyZ2VvbWV0cnklMjIlMjAlMkYlM0UlMEElMjAlMjAlMjAlMjAlMjAlMjAlMjAlMjAlM0MlMkZteENlbGwlM0UlMEElMjAlMjAlMjAlMjAlMjAlMjAlM0MlMkZyb290JTNFJTBBJTIwJTIwJTIwJTIwJTNDJTJGbXhHcmFwaE1vZGVsJTNFJTBBJTIwJTIwJTNDJTJGZGlhZ3JhbSUzRSUwQSUzQyUyRm14ZmlsZSUzRSUwQUuCy/YAACAASURBVHhe7J0JeBXl2b9/YUkCJJAFCGHfZBMEcUNB2oKCtmr/ai22VP3oV7VWARXQ4oaKBVGoAmoVrVYtFbRqq6KFirUKiIIgiyLIvgQChLAESEIg/+8ZfY+T4Sxzzpk55505v7kurktzZt7lft5J7vOcZ96TVl1dXQ2PH7s/+xS7FnyE0rVfo6K01JhNRm4ucjt3QbN+/dH07HM8PkMOnwRIgARIgARIgARIwA6BNC/L7eEd2/HV00/hREUFCrp2RW7bdsjMyTHmXb5/P0o3b0LxmjWolZGBbr/9HRq0aGmHCc8hARIgARIgARIgARLwKAHPyu2RXTvx2T1j0ersc9DyrLPD4t++5DNs++xTnP3QRNRvVujRUHHYJEACJEACJEACJEACkQh4Vm6XTxiP7CZN0OrMsyLN0Xh929IlOLRnD06/615b5/MkEiABEiABEiABEiAB7xHwpNwe3bMbi38/BufdMiIq4ouemIY+Dz+Kek2aRnUdTyYBEiABEiABEiABEvAGAU/K7b4vV2P9S39Bz6t/ERXlFbNeQcdr/wd5p3aP6jqenHoEPvvsM3z00UfYtGkTqqqqUg8AZ0wCJBA3gTp16qBdu3bo378/zj47fPlc3J2xARIggQABT8rtoa1bsGLSRJz1m+ujCuWS555FzzvHIrt1m6iu48mpReC1117D2rVrMWjQIHTu3Bl169ZNLQCcLQmQgCMEjh07ZvwumTdvnvG75KqrrnKkXTZCAiQQnoAn5VamtOj2kWhzzjlo3KmzrRjvXbcWWz79FOf9caqt83lSahKQjK38IRo+fDilNjWXAGdNAo4TEMmdPn268YaZGVzH8bJBEjiJgGflds/nS7H6yWk49fIr0ahl+C2+Dmzfji/ffB3dbx6BJmecyWVAAiEJTJ482fgIsXt3lq5wmZAACThHYPXq1Uap0+jRo51rlC2RAAkEJeBZuZXZ7Pz4v1j91BNo2acPCnv0RL3c3BqTPFpaip2rVmD74sXo/rtbUHj+D7gMSCAsgZtvvhkTJkxg1pbrhARIwFECkr2966678OSTTzraLhsjARI4mYCn5VamU753Lzb/803sXLQAtdPTjX9yHK+sNP4VntcPbX96OTIbN2b8SSAigRtvvBGPPfZYxPN4AgmQAAlES+C2227DM888E+1lPJ8ESCBKAp6XW/N8j+wswsY3Xzd+1P7yK1G/sHmUOHh6qhOg3Kb6CuD8ScA9ApRb99iyZRIwE/CV3MrE1r86y5hfx59fzUiTQNQEKLdRI+MFJEACNglQbm2C4mkkECcBreW2ePEnUU9v16IFxjXNzusX9bUFfc6N+hpe4C8ClFt/xZOzIQGdCFBudYoGx+JnAlrLrWRhy7ZtjYp/2fbtxvlZEXZQsDaa1ao1s71RkfbnyZRbf8aVsyIBHQhQbnWIAseQCgS0lttYAsCyhFio8RpFgHLr7FrYsmULxowZg127dtVoeNq0aejVq5ezncXRmoxTtmm65pprwrYS73zU9ddddx1+8pOfGH0F+1kcU7F16RdffIERI0ZAtzjYGryHT6Lcejh4HLqnCFBuPRUuDjZeArINj2z3Feqg3MZLuOb1VnErLy/HI488gqKiIkyaNAmNGjVytsMYWjtw4ADuvPNOnH766ZD4hzuCieicOXOMudgRRV3kNgZMvMQBApRbByCyCRKwQYByawMST/EHgaNHj6Jhw4aoV68e7r77bmMz9dq1a9eYHOXW2VgHkzlr1lDJofR8wQUX4I477jAGIRJcVlZm/PfmzZvx6KOPQjbCF5GUY+jQoZg5c6YhlV26dDHOl0Our6ioqCGsqk/JVr766qtGJlmEduDAgcZ177//vnGt6n/+/PmBfpo1a2b03aZNm6BZViXsqu/MzExjuycZm7lN+bkdubVmh5U0W6+1crReJ/OT7LD6eZ8+fbBY9vzu3h0XXXSRsf5V20rwv/rqK2PM6lpnVwNbE7kdM/BHBJEgAnywPEGgNeyGcqthUDgk9wj84Q9/gPyTo06dOsYfcfkjn5GRYfyMcuss+0hyK72pj8fbtWsXEFL52F6kU2TWKpYipBInJZDRyK0Isbp2+fLlAYE1Z25lzJLhlzdASvSaN29uSHNxcbFRZmEuK5BzZCyqvVmzZgX+W12vssKR5FbJthLlF198MdDW/v37a/Rtllsl95dddplR7iHjEUEXdnLImEVqZQ4i2eZrzdyFDUsWnL0HzK2J3F6xb7d7HbDlAIEOVw3hczQpvB4otykc/FScunxLUH5+Pg4dOmRMX7K4tWrVMv7ojxo1Crfffju/xMHBhRGpLMEsglKiIFImAjly5EhMnTrVGIkSMuvH/8HkTp0fKnOrMpLSloijyF9OTk7QsoRgGeVIcitCLG+ezCUO5r6UaIaquTVnklUWWWRUjkiZW/M5kplWGedgfZrZmd9giBgHy0Q7uCRSuilmbhMT/g2vzQblNjGsde2FcvtdZB544AFdY5SwcX344Yfo378/Tpw44fi/6upqbdqUj7rVHBVcydxefvnlRtkCv6HMuSUX7AEsJV0FBQU1SgJUr926dcODDz6Ip59++iS5VUIqJQKxyK36GD6c3Kp2RS6tkh1Jbm+55RZj7GZ5jUZupYxA9a94KMm19h0s+7pv375A+YZiFUlud+zYERB94Uq5dW79W1tiza17bFXL8lA55dZ9zrr3QLml3AbW6H//+1/88Ic/NDKZTv5LS0tztD01tljblY9wRRTkqF+/PiorK42M7e9//3vjH+XWuV9bkXYCMH+cb364LJhgOZG5tSO35jHJmx5zLW8wuTWPVT7WHzduXMjMrcoSX3rppRF3SzDXwUrGWcoKzCUR4bKvkYSamVvn1ng0LVFuo6EV27mU29i4+e0qyq3fIsr5hCUwY8YM3HrrrRAxFimR/xahbdKkiXEda26dXUCR5DZU7aequZXRqLIE1ZZ8dK9elwfBlLCapXTTpk1GLa+qsQ32EFuosgSzGJaWlhrthMqeyvisbZvHIa+b63mD7RZhJ4ssc7TWxpprjnNzcwPi269fP6NPlcWNlLllza2zaz5ca5Rb91lTbt1n7IUeKLdeiBLH6BgByQ4ePHjQEBaR2sLCwhptU24dQ200FElu5ZxwuyWY5dZ6rnm3BKkVNZdAiIzKdmOq9jWc3MpH8UoUpSRC1c3KzgFSQiHiKG+GZJcG9VBXpH17zbslKMFWZK07E8jPzduIWUs5zNebWVnnb+7znHPOwaeffmq0axZftbeulYd1THa2NXN2paRGa5Rb9+NMuXWfsRd6oNx6IUoco2MEHn74YSOb16pVq6BtUm4dQ+14Q1ZRNmc8RVB5kIDuBCi37keIcus+Yy/0QLn1QpQ4xoQRoNwmDHVMHZmzk9IA92ONCSMvShIByq374Cm37jP2Qg+UWy9EiWNMGAHKbcJQsyMSSDkClFv3Q065dZ+xF3rwndwum/iQwb332Hu8wJ9j1IwA5VazgHA4JOAjApRb94NJuXWfsRd68JXcbvv3PGx4bRZQDXT4+dVodeEgL8SAY9SIAOVWo2BwKCTgMwKUW/cDSrl1n7EXevCN3G6f/2/Ioj7jrnsN7p9PGG989V7LgRd6IQ4coyYEKLeaBILDIAEfEqDcuh9Uyq37jL3Qgy/kdscH8/HNrJnoPfZeNGzXzuB+cNMmLJs4HqdcPRQtBgz0Qiw4Rg0IUG41CAKHQAI+JUC5dT+wlFv3GXuhB8/L7Y4PP8C6v75kZGwbtu9Qg/nBjRuMDG6nX12LFj8c4IV4cIxJJnDzzTdjwoQJqFu3bpJHwu5JgAT8RODYsWO466678OSTT/ppWtrNxctyu/9QBUoOlmPfwXLsL6vAgcOVOHSkEmVHj+FIeRXKK4+j8thxHKs6jqrjJ3D8RDWq5R+ANPlXKw21a9VC3Tq1kF6nFjLS66BeRm00yKyLrPp10bB+OhplZSBX/jXMRONGmaiXUUe7GDoxIE/LbdF/P8TaF19A77vuRaOOHYPyOLB+PZZNGI/O1w1D8x/80AlmbMPHBCZPnoz+/fsbX3XKgwRIgAScIrB69Wp89NFHGD16tFNNsp0gBLwgt+UVVdhSfAjb95Rh++4y7Cw5gj2lR5CeXhs5WZnIapCBBvUyUD8zHfUz66JeRl1DVNPlX53aqFO7FmrLv1ppxhfMqOPEiWrIPxHfY8eP49ix46ioFCmuwtFyEeRK41/ZkQocOlyB/YeOom7d2miaWx/N8+ujRZMs41+rpllGH14+PCu3Oz/+L9Y8/5yRsW10SqewMTjwzTojg9v1179B4fk/8HK8OHaXCXz22WeYN28ehg8fzuyty6zZPAmkCgHJ2k6fPh2DBg3C2WefnSrTTso8dZTboxVVWLetFOu27sf6HQewu/QIChtno3FuFvJzGiC/UX3kNqyP9Lq1E87s8NFKlB48gpIDR7DvwGHsLS3DrpIytC5oiI4tGqFDy0bo1DIXGemJH1s8MDwptzsXfIyvnn0GZ9x1D3I6d7E1//1rv8bnEx5Ct+tvRGG/821dw5NSk8Brr72GtWvXGn+IOnfuTMlNzWXAWZNA3AREauV3ibxhlt8lV111VdxtsoHwBHSRWyktWLlhL1ZuKMGGHfvRtjAXzZs2Mv41y8/WOoyS/d259yCK9hzErj0HsLmoFJ1a56F7+zyc1qEx8hpmaj1+GZzn5HbXogX48umnjFKE3C5dowJc+vUao0Th1N/+Ds3O6xfVtTw5tQhIBlc+Qty0aROqqqpSa/KcLQmQgCME6tSpg3bt2hmlTszYOoI0YiPJlNtjVSew9OtiLP16N7buPoSOrRqjbfM841+tWt+XD0SchGYnHD9xwhDcLUUlWL+tBK2aZuOsLk1xVtcCbcsXPCW3uz5ZhNVPTjcytrndTo0p/KVffWlkcLvfPBzNzj0vpjZ4EQmQAAkk848o6ZMACQQnkIz7cs/+o1i4sgiLVu9Ei6aNcEqbpjildWPfhmj91r1Yt2W3kd3t26M5zj+tOXKyM7Sar2fktvjTT7By2uNGjW3eqfE97LPvy9VGDe5pI25FwTnnahUQDoYEkkngvffew7vvvmvUB/IITyAZf0QZExIgAX3uSyk9eH/pNixaVYRenVugR6dCNGyg/0f2Tq0heSBt5boirPxmJwb0boULz2qN+pl67L7gCbnd/dmnWPHYFPS+6x7k9zjNkbiUrFqJZRMeQs/bRqHp2ec40iYbIQGvExC5ff311/Hcc895fSquj59y6zpidkACURNI1H05//NtmLNoE3p2ao4zT22dlIfBoobj0gXyUNqSL7di4/YSXNa3Hc7tXuhST/ab1V5udy/9DF9MfsTI2Oaf1tP+zGycWbJyhZHB7TX6DjQ9k0+w2kDGU3xOgHJrP8CJ+iNqf0Q8kwRIwO37UrK1s+avQ8UxoO/p7YxdDnh8S0DKFBYu32hsK/aLCzolVfi1lts9ny/F8kkTjIfHGvc63ZX1s/eL5cZDZqffeReanHGmK32wURLwCgGR26NHj+KKK67wypCTNk63/4gmbWLsmAQ8TMDN+3Jr8SH8+Z0v0bldAc46tbWHKbk79I8+34B9B8rwm0tORW6SanG1lltZpDmndELj03u7Gom9y5dh/zfr0PHnV7vaDxsnARLwDwE3/4j6hxJnQgKJJeDWfbn3wFFMfW0FzujWCqd2aJbYSXmwtyWrt2L7rn249ee9kpLB1VpuPRhPDpkESCBFCLj1RzRF8HGaJOAKAbfuyyffWInGeQ3Ru2srV8btx0Y/XrYRddKO49qL7H0fgZMMKLdO0mRbJOBxArJTgpQmcLeEyIF0649o5J55BgmQQCgCbtyXy9btxvtLd+Dygc480J5K0fvrnKX45QWd0Ll1bkKnTblNKG52RgJ6ExC5ffPNN/Hss8/qPVANRufGH1ENpsUhkICnCbhxXz79z1Vo2awxOrdt6mk2yRj8inVFOFxWhusuju5Lt+IdK+U2XoK8ngR8RIByaz+YbvwRtd87zyQBEghGwI378s4/LcQvf9wb9TPTCT1KAgfLyvHmByvx0PWJ/U4Bym2UgeLpJOBnAiK35eXl3C3BRpDd+CNqo1ueQgIkEIaAG/fl8Mc+xIhfnk/uMRKY9rePMf22H8Z4dWyXUW5j48arSIAEUohA0Ucf4kTlMbT40QCk1a5tzDzYH9Hq48ex4z/zUSs9A837/yCFCHGqJKAHAbfk9jdXnMPMbQwhPlJeiefe+JRyGwM7XkICJEACrhKoOnoU/73petTJzES7y69EywEXYOObr2PDa7PR4aohaH/5ldj+wfvY9MbrqKooxw/+9Czq1Kvn6pjYOAmQwMkE3JLbwed1Zs1tDAtu7ebdmLtoLeU2BnYRL5FN6W+77Tacf/75GDp0aMTzeQIJpCqBOXPm4F//+hd3SwiyADa8/hrWz/qb8UpGTg6y2rRFyYovkN+zFw5t3ozKA/uN1zpe/Ut0uPKqVF1CnDcJJJWAW3LbvElD/OxCZ78lNamgEtT53/+9AkV7Dqam3K5duxYjRozAtGnT0Llz5wDy8ePHo3379nEL6cKFC/HBBx/g3nvvDRpOef3ll1/GY489hnrMtiRoybMbHQmI3P7zn//EjBkzdBxeUsck2duPbroexw4fDjmOug0aoD+ztkmNEztPbQJuyW2bwly0KGiEM7txn1u7K2zpV9uwo/gAtuwspdy6Ibd2A8HzSCDVCVBuw68A9Ycz1FnM2qb6HcT5J5uAW3J73WVn4Y35K3F299b8hjIbQf5ywy58tnorrhh4Gl58awnlNpTcSnZ3yJAhWLFiBXr27InZs2cbWV5zdleVH1xzzTXo27cvSkpKjKzv3LlzjVA8+OCDRvZWMrXy38XFxejTpw9+/vOf49VXXw1kbqXN++67z7jmr3/9a9yZYxvrgKeQgBYERG4rKiq4W0KIaFQdPowPb/xfHK+oOOkMZm21WMIcRIoTcEtuZbeE3fvK8N6CNejavsCQXB7BCYjUrtlYjIv7dUXTvCyk7G4JkcoSrrjiCqNmVkmrucwglNz27t27Rp2tuY+9e/fi5ptvDgiyuSzhjTfeMEoUZs6cCTlPhPrJJ580ZJkHCZAACYTK3nYc8gt0+NnPCYgESCCJBNyUW5nWocMV+M+S9ahGNfr3bo/chvWTOFu9ui49eAQfLduINKThR2d1RHaDDGOAlNsQNbdWuTWHM1zm1nyeZHFvueUW3H///Ya0ynUisPn5+UYmV9XcTp48uUadr5wnR6h63XiX1s9+9jN88skneP755zF48GCjuV//+teBbDN//m3WnRwSzyHete3X6yV7KzsnSA2uOpi19Wu0OS+vEXBbbhWPZWu2Y/HKLejZqTnO6t4a6XW/3SIwFY/KY8exZPVWyLeR9TmtDXp3bVkDA+U2zANl5hIDkUAlpuHkVqS1X79+AciqnEHk1vwAmZLbCRMm4K677qqxq4L0s3HjRtfkVkRWxI0HCZCAdwjIrgmye4I6mLX1Tuw4Un8TSJTcCkXJ4orkrlq/E706t8BpnQrRsEGmvwGbZnfwcDlWrtuJL9buQI+OhYbUqmytGULKyq05q6pqbsNt3xUq06oEWLKsXbp0MWpl5b9V/a05cxtMbmW3hERnblPmLuBEScBHBI4dLsN/f3s9jpeXg1lbHwWWU/E8gUTKrYK1/9BRrF6/C19t2IXmTRsZ++Ge0rqx51mGmsA3W/dC9q8t2n0A3To0Q/eOzZCTHXpf75SVWyWyLVq0CGRIRWBVXWzjxo0DJQUiv9aa2x07dhgPgy1btszI1C5YsOAkuZUM7KOPPmrU2YbK3EobrLn17f3IiZGAowS+eWUmNr7xdzBr6yhWNkYCcRFIhtyqAVcdP2FI3zdb9qJ43yF0aNUY7VvkoW3zPNSqlRbXvJJ58YkT1dhctA8bd+zDhm17UZCXjVPaNDYkvk7tWhGHlrJyK2SU4D7zzDMGKPOOCPL/5hIDc1mCuVxhzJgxOHjwYODBMxHaX/3qV0Z70q7IrzyUJkeozK3sc5vI3RJkJwdVaxtxhfAEEiABbQhUHTmChbeNQL+pT6B2Zup8FKlNADgQEghCIJlyax6OlCxs2L4Xm3bsw47dB9C6WS5aFjQyMrvN8rO1j92ukkNGZnZ78QFs3VWKFk0boV2LPHRo2Tho6UG4CaW03GofaZcGKNlqyTzz0IvAwaIFKN06F0cPbET1iSq9BsfRkAAJeIJAWq06qNeoPXJbD0bD5t8//+GJwXt0kLrIrRlfxbEqbN+13xBF+baufQePoCA/G01zs9A4twHyG9U3dl1IxkNp8jCY7HJQcuAI9pYexu7SMhSXHEJew/qQb2UTIW/VLAfpdevEvCIotzGj8+6FlFv9Yle85iUcKVmOxq36ICunLeQPFA8SIAESiJaAvDEu278Ze7ctRv3801HQ9dpom+D5URLQUW6tU6g8VoXikjLsKS3D3v2Hse/AEZQePGrIbcOsTDRskIGsehmoXy8d9TProl5GXWSk10G6/KtT2ygFqC3/aqUhLe37cofq6mocP1GN48dPQEokKquOo7KyChWVVThacQxHyo/hyNFKlB2twMHDFThYVg6R29yG9ZDXqD4a5zRAk9wsFORnxSWz1vlSbqNcxH44nbsl6BVFydiWbHwdbXtcTanVKzQcDQl4loBI7uZVs5Df/kpmcF2OohfkNhSCsiPfCuehIxUoO1KJw0crcbRC/n0rqCLFx44dx7HjJwyBlVrYE9XVgeZqpaUZtb0ivnXlX93ahqSKGNfLkH/paFAvHVn105FdP8MQ6az63+5F6+ZBuXWTLtsmARsEtiy+F3mF3ZGd19HG2TyFBEiABOwROLRvPfbtXI02fb7dO52HOwS8LLfuEEl+q5Tb5MeAI0hxAl/PHYrOfUYwa5vi64DTJwGnCUj2du3iaegyeKbTTbM9EwHKrX7LgXKrX0xcHxF3S3AdcVQdrHlvCLr2uyOqa3gyCZAACdghsGbBI+h68Ww7p/KcGAlQbmME5+JllFsX4eraNB8o0ysylFu94sHRkICfCFBu3Y8m5dZ9xtH2QLmNlpgPzqfc6hVEyq1e8eBoSMBPBCi37keTcus+42h7oNxGS8wH53O3BL2CSLnVKx4cDQn4iYATcltReRwLVxdhQO9WfkLj2Fwot46hdKwhyq1jKNkQCcRGgHIbGzdeRQIkEJlAPHJbXnkc7y/diveXbEOtWsAfh/eP3GEKnkG51S/olFv9YsIRpRgByu23AS87sB9PjL0Vm9asrrECrr3jPvS9+LKkroqdWzbhiwX/wcVDfx12HOtWLMOUW2/AqMdnoFPP3jXODfdatJN7b+bz6NXvRyhs0w5vzJiOdV98jlsmPo70zEy8/OhD+Gz+v5BfUIhLh/0Wf3l4XNDxRNunnF9ZUR5o33p9u67dccP9k/DmjOnGS9eMuQfpGcG/Ili1E+m8WMbIa2oSiEVuldTOX7oNtYz9+tNwSd92+FHvlsQbhADlVr9lQbnVLyauj4i7JbiOOKoOKLc15bZTrzNwxQ3DjR+KuC39YB6GT5pmiFwyDiXd5nGFGkci5Hbhe29hzovPBmUiEj79zhE4c8CgAEO3mKm5xvLmg3LrVlRObjcaubVKbWXVCaPBBpl18fBNfRM3aI/1RLnVL2CUW/1i4vqI+ECZ64ij6oByG1pulaz95Lrr0b5bD0Pcuvfpi9WLF6JD955GdrBk107j5yXFO42GVNZUydeQ4aPx/qszjdcH/+I645y5r7xoZDaVNKtz5XV5TQ7570uuu75GpvLsgReFzUha5VZE9KVHHgy0J22r8VmzoEoS1ZzPv/RyrFj4kZHJlrGI8Kv21QKTtlZ/utDI3A4b+wBemDgukPmWsZ570SWYOuaWQJ+qbSsr9UZCzV2ysJIJzmqUE8gMN2ne0sgIW/ma5TaYtMobFNWu4if9SYZZDonhOy8+a5xjbVtejzSW7JzcoPGP6ib08cnRyO1f3v0KK9bvNb5GVR3yVas9OuTj+ku7493Fm/HeJ5uNly4+ty1+3Ket8d/J+vm4Py/GvoPlvo3eiF+e79u5uT0xyq3bhDVsn3KrV1Aot9HJrZJa+cjbLL9SumDOah7aX2qUCCgxVJIlMtbzvP5GCYQIm8jV5q+/qnGuklKRreZt2xvnRpu5VdKlsqiqfyVw5nKCos0bA+UM6jo1zyUfzKuRqbVmbs3tyJzNmVuzbKt5nH/pFUaZh7X/j99+o8abhVDjVndPsMytVW5l7NKuiLIam7xROWvAoIDcnnPhxZj++5Gwyr31vGASbO1PJFmVaIiY8wCikVuvZW6HP/Yhpt/2w6SHWefM7f7SEoz63TX4+D/zanAaecf9uPn2exxhp/q4+bZ70Pvs8xxpM95GKLfxEvTg9dwtQa+gUW5Dy625LEHOEnET6VE1uFbRM5cQdD+nb436V/O5+c0Ka2QOldwq8TS3M2jINTHJ7Z6i7TWkNJhoKmFW/Yl4qgy1kstg2WBzWYJduRV+f5k4LmyJhznLan5TEEwYI8ntkBGjMXvaZOQ2LTipRMKatVZ9yRitMZX/V4I8b/bLNeTV3E6krLped33iRhON3KpRGZK7ZCvmf653zS3lNvI6Ciae5eVHMeG+Ufh/P/uVIzJKuf02DmnV1dXVkUPCM0ggNQhQbmvKrfWBMiWc1iytXGUWO8nUeUVurR+lq5Uuknfu4EtqSLxTcmuVbfPdpTLV0r9V5q2M7WZuL79xOGaMuzNoxtsqt+YSEbNgq77U65/MfeekzKy1VIOSW/P3ZixyW0NyZbeEpVtRKy1Nu90SKLeR/0aGEs8n//gQWrVpj8uu/CWWfbYIV1/2/U4Ys976yJBe+fnLzz9pdDLnH7PR5dTTMHXGK2jXoTOUIM96aQauvvYG7Ni2GSpzG6o98zXS5uQnXzL637RhLaY9+iDGbF4KWQAAIABJREFUTZyGnNz8yJOycQYztzYg8RQScJMA5bam3Ib6+D+Y3OqeuZV6W2sdaaRSB+s8nZJboRxsJwfrR/uV5eU1MtWxyq3K3Eq/1p0TVJ8i3FfcOMLIKKtMdbgH5kKNRfow77YRy0Nubt7jyWw7Hrk1S+6iVUUYcIZe+9xSbiOvrGBya/5Zbn4+xt99K+79w+OGtL71+t+w9NMFuOvBKfhq5XJDekV2u512upHtLWjW3ChnEDku3lV00nnh2ps3501s27LRuF7G8MeJ9+L2seMdE1ozDcpt5LXhuzO4W4JeIaXcxi63dmpulVzaKUtQWT+pFVVimqyaW1V+4ZTcWudh5mHOiK5Y9JEx93jLEkRozfXCkq1WtcvqQT0lvlIrq3bFkJ+p8hNzba6quTWXSFh3snByuzW9fkvEPhon5Db23t29knIbmW+omluVNbW2IFnXf/z9rwFpffKxhzDlqZcNARXxFTn939+NqlHWEK7MwdyeWW4jjzy+Myi38fHz5NV8oEyvsFFuY5dbudK8A0CwHRCikVvzzgrm7J/6qNz85H6wVWSVK/NH5monBru7JYSSW/N8ZYzF27YEPqoP90CZ7LsbarcEK8Ps3Dw0bdEqsJNBLDW3KltrZ7cEa7bYzC3YbglqJwdr/OX/zfW7et3pyRkN5dZ97l54oCzcw16ShZ36yP0BUFJmoDK3SnQzM+sF5HbosJuMh9RUm1a5DdWetGF+TZU/uBEhyq0bVDVvk3KrV4Aot8mPBzN+yY8BR+AOAcqtO1zNrXpZbiWzas7OWjO3weQ2XOZWuIRqT+RWHZJRfmDsCIwYc59RDuH0Qbl1mqgH2uNuCXoFiXKb/HjYlVtr5tM8cj7IlPw4cgQnE6Dcur8q/CK3mfXqG+UGcoTL3ErNbKjaXLPcWtv781NTAg+xsebW/XXJHkggqQQot0nFz85JwNcEKLfuh9fLcmvewUB2Qxgx5n5jZwTZuWDjN2sD9bfmsgSRW+tuCVlZDXHBRZcFHjyTXRSs7UkkzHvuqrIE7pbg/hplDySQcAKU24QjZ4ckkDIEKLfuh1pnuXV/9nr2wLIEPePi6qi4W4KreKNunHIbNTJeQAIkYJMA5dYmqDhOo9zGAc+lSym3LoHVuVk+UKZXdCi3esWDoyEBPxGg3LofTcqt+4yj7YFyGy0xH5xPudUriJRbveLB0ZCAnwhQbt2PJuXWfcbR9iBy6+TRsVUORv6sV9gmff31u4cOHcKwYcPwwgsvIDs720m2jrXF3RIcQ+lIQ1/PHYrOfUYgrVYdR9pjIyRAAiQgBKpPVGHt4mnoMnimL4HwSxx8GVZHJuV05tbOWvO13N5999149NFHMXr0aEyYMMGRILERfxPYsvhe5BV2R3ZeR39PlLMjARJIKIFD+9Zj387VaNNnfEL7TVRndoQjEWNh5jYRlKPrg3IbHa+wZ0vWtkmTJqioqEBGRgZ2796Nhg0bOtgDm/IjgYNFC1Cy8XW07XE1s7d+DDDnRAJJICBZ282rZiG//ZVo2LxfEkbgfpepJLeyXdbIG36Br79cGQArW21NnfFK1F+CYP3ihngiJeMaf/etuPcPj0c9jmj6NX+5hPnLIEK1QbmNhm6Ec++55x4ja1tZWYn09HTcfvvtmDhxooM9ONMUd0twhqOTrRSveQlHSpajcas+yMppS8l1Ei7bIoEUIiBSW7Z/M/ZuW4z6+aejoOu1vp19qsmtVSJF+O4fe0vUgutFuY12EVNuoyUW4vyysjIja1teXh44QwRXsreNGjVyqBdnmuEDZc5wdLoVyeCWbp2Lowc2GrVyPEiABEggWgJSu1+vUXvkth7s24ytYpLqciscnvzjQwYO+WIF+dYv85ckjLzjfuPncpgzv/LzZUsWYcpTLyMnNx8iu1df1t847+prbzC+nUyyo+afn/+jQYHzzWsyXObW/EUPco360gb5b/NYzW2b+zRfY/1aYDXeUOOi3Eb7myPE+easrTxIJiUKIre33XYbHn74YYd6caYZyq0zHNkKCSSDQFpaGqqrq5PRNfskAa0IUG5hCOg//v5XjLrrIUyZcA/OPKcfLrvyl4bMqkxvbl5jQ3p/+rNfGa+JECu5Ld231yh3uH/iE4FvFyto1hxDh92EB8aOwIgx9xnlBvJ1u3LI9XblVvop3lUU+CpflWUubNHa+Jrf//ezX6H32ecZbW/bshE//ulVNUocrF/xK/P83W13Y9IDd0QcF+XWgVv18OHDyMvLQ4MGDVCnTh3s3bsXBQUFRu2tSO6ePXuQk5PjQE/ONMHdEpzhyFZIIBkEKLfJoM4+dSRAuf1eblW2VcVJMqNKTuVn0x590PhKXcnUmr/u1voVu6pk4b4J0/D4pHEBiQwV/1CZW5W1VQKr/l/ku0evM2qMJ1Tb1mxtMLkNdS3l1oE79vHHH8ddd92FP/zhD0amVgRXxPapp57C2LFj8eCDDxr1tzxIgARIIF4ClNt4CfJ6vxCg3MLIei79dEEgO6o+rpcYqwfOSktK8ORjDwXKCsxy+9EHcwPXSymC+TWV1ZWH2MzlCnYyt6rs4Obb7jGys3JIJrdVm/Zo2aptjfGY25Nzpj5yf+BHqt+vVi43MtQi8Tt3bA08XBdqXJRbF+7yunXrGrW3tWvXdqF1NkkCJJDKBCi3qRx9zt1MgHL7fc2tlBFI6YGSyXgzt6oeV/FWpQOqhlf93MnMrfVBt2CZW2uGOtS4KLcu/K7QXW65W4ILQWeTJJAgApTbBIFmN9oTSHW5Ne+WoOpqldyK9D331GRjJwVV46rqce3U3Er9q7mUwcma22BjlezzxZddheeefNTIMGfWq2/U5cohQqsyt7/8n9/imWmTAiUWocZFuXXh9hW5PXr0qFGeoOPBB8p0jArHRAL2CFBu7XHiWf4nkGpyG2mfWxG90Td/u/Xb+Ef/hC9XLQ88tGXeLWHsA5OxacM63D52fNjdEszthStLCDUuJdWzXpphjMm8W4J5PGrHAyW0cr6UVIwYcz/m/GO2IbLm2uB5c94MzJNlCQm8z2WXhCNHjlBuE8icXZFAqhCg3KZKpDnPSARSSW4jseDrNQkwc+vCitBdbrlbggtBZ5MkkCAClNsEgWY32hPws9ze+aeF+OWPe6N+Zrr2cdBtgEfKK/G3d5dh0k19HRuanbWWVu3zTRpFbmV7MClP4EECJEACThKg3DpJk215mYAd4UjE/Na/OgsbXpuNDlcNQcefX+1Il0//cxVaNmuMzm2bOtJeKjWydvNubN+1F7/9aQ/Hpm1nrflebjMyMiDfWEa5dWxdsSESIIHvCFBuuRRI4FsCdoQjEazckNtl63bj/aU7cPnA0xIxBV/18eb8lbjgzBbo3cm5NwZ21hrlNsnLiLslJDkA7J4E4iBAuY0DHi/1FQE7wpGICbshtzLuJ99YicZ5DdG7a6tETMMXfSxbsw179x3EzVc4+6bAzlpLCblVX7+r42rhbgk6RoVjIgF7BCi39jjxLP8TsCMciaDgltzuPXAUU19bgTO6tcKpHZolYiqe7uPLDbvw+VfbMPKqnmjcqJ6jc7Gz1nwvt5mZmTh48CCk9lbHg3KrY1Q4JhKwR4Bya48Tz/I/ATvCkQgKbsmtjH1r8SH8+Z0v0bldAc46tXUipuPJPpZ8uRVrNxXjfy85Fa0Lsh2fg521Rrl1HHt0DXK3hOh48WwSSCaBKVOm4L777sOECRMwcuRIKLmdOnWq8fXe48ePx6hR3252zoMEUomAHeFIBA835VbGv+9gOWbNX4eKY0Df09sht2H9REzLE32UHjyChcs3IaMucPXATshrmOnKuO2stZSQ2wMHDkAeLONBAiRAAvEQkBKn/Px8ZGVlGZ8GFRcXo6CgAJWVlcaDqyUlJcjOdj5TEc+YeS0JJIKAHeFIxDjclls1h/mfb8OcRZvQs1NznHlqa6TXrZ2I6WnZR+Wx41j65VasWFeEn5zXDgPPcLcu2c5ao9xquVQ4KBIgAV0JSIZ28uTJqKqqCgxRvgFx9OjRmDhxoq7D5rhIwFUCdoTD1QF813ii5FZlcd9fug2LVhWhV+cW6NGpEA0buJOtTAS7aPs4eLgcq9btxBdrd+C8Hs1xwZmtXMvWmsdmZ635Xm7r1auH/fv3a5u55W4J0d5OPJ8EkktAsrdNmjRBRUVFYCDyydCePXuYtU1uaNh7EgnYEY5EDC+Rcqvms2f/USxcWYRFq3eiRdNGOKVNU5zSunEippuUPr7ZuhffbNmNHbsP4Lzuheh7WnM0yXH2obFwE7Oz1ii3SVka33fKB8qSHAB2TwIxEJDsrdTfHjt2zNhDW+psmbWNASQv8Q0BO8KRiMkmQ27VvI5VncDSr4ux9Ovd2Lr7EDq2aoy2zfOMf7VqpSVi+q70ceJENTYX7TP+rd+2F62bZuPMLk1xZpcC1K1Ty5U+KbcRsErmtrS0FLJrgo4H5VbHqHBMJBCegDl7y6wtVwsJ+PtLHGKJrzx4tnLDXqzcUIINO/ajbWEumjdtZPxrlq9/Xf6ukkMo2n3A+Ld5Zyk6tMjBaR3ycVqHxgkpPaDcRlh19evXx759+7SVW+6WEMuvDV5DAsknINnbSZMm4c4772TWNvnh4AiSTICZ29ABOFpRhXXbSrFu636s33EAu0uPoLBxNhrnZiE/pwHyG9U3dl1IxkNp8jCY7HJQcuAISvYfxt7SMuzcewhNc+ujY4tG6NQ6B51a5aJeRp0kr7Dvu7ez1nxflqC73GqzWjgQEiCBqAhI9nbYsGF44YUXWGsbFTme7EcCdoQjEfNOZlmC3fmVV1RhS/EhbN9Thu27y7Cz5Aj2lB5Benpt5GRlIqtBBhrUy0D9zHTUz6yLehl1kZFeB+nyr05t1KldC7XlX600YztCdVRXV+P4iWocP34CVcdPoLLqOCorq1BRWYWjFcdwpFz+VeLw0QqUHa7A/rJyVFYeR5Pc+ijMr4+WTbPQskkW2hRkI1MjmbVytbPWUkJuZXseKU/gQQJ2CRwsWoDSrXNx9MBGVJ/4/ql4u9fzPBIgARJIq1UH9Rq1R27rwWjYvJ+vgdgRjkQA8ILchuKw/1AFSg6WG3vp7i+rwIHDlTh0pBJlR0VKq1BeeRySaT1WddyQVxHZavkHQBQ3rVaaIbwiv3Xr1DYywZnptVE/sw6y6tVFdv10NGqQjpysDKO0IL9hJnKyvbdNqp215nu5bdCgAfbu3aut3HK3hET8uouuj+I1L+FIyXI0btUHWTltIX+geJAACZBAtATkjXHZ/s3Yu20x6uefjoKu10bbhGfOtyMciZiMl+U2EXz80IedtUa5TXKk+UBZkgNg6V4ytiUbX0fbHldTavUKDUdDAp4lIJK7edUs5Le/0rcZXDvCkYgAUm5DU3538Wb8uE/bRITB1T7srLWUkFvZf1Jqb3U8KLd6RWXL4nuRV9gd2Xkd9RoYR0MCJOBpAof2rce+navRps94T88j1ODtCEciJk65DU1ZlxjFuw7szMP3citfk7l7925t5Za7JcS7zJ29/uu5Q9G5zwhmbZ3FytZIIOUJSPZ27eJp6DJ4pi9Z2BGOREyccku5FQKU20TcbezDMwTWvDcEXfvd4ZnxcqAkQALeIbBmwSPoevFs7ww4ipFSbqOAlaRTWZaQJPBudCuZ2+LiYsiDZTxIIBIBym0kQnydBEggVgKU21jJ2b+OmVv7rLx6pp03Ur7P3GZnZ2PXrl3ayi13S9Dr9qLc6hUPjoYE/ESAcut+NCm37jNOdg+UW8DYXF1nueUDZcm+TWr2T7nVKx4cDQn4iQDl1v1oUm5DM2ZZgvvrL2E9iNzu3LkTUp6g40G51SsqlFu94sHRkICfCFBu3Y8m5TY0YzsZT/cjFH8Pdubh+7KEhg0boqioSFu55W4J8S90J1vwq9yWHdiPJ8beik69zsAVNww/CdnC997CnBefxfBJ01DYpl2N1+W1lx550PjZqMdnoFPP3sZ/vzFjOua+8iLyCwqDXmftRI1h05rVgZfM7TkZx1jaWrdiGabcekONOap2wr0WbV/vzXwevfr9yOAsDNd98Tlumfg40jMz8fKjD+Gz+f8ymF467Lf4y8Pjgo4n2j7l/MqK8kD71uvbde2OG+6fhDdnTDdeumbMPUjPyAzajWon0nmxjNHv11Bu3Y8w5ZZyKwQot+7fa+zBQwQot+HldvAvrjPk2CxKduR255ZNmH7nCJw5YFBArp0URieWWCLkNtybiGCMnJhXsDbUXK+94z70vfiyqLqh3EaFq8bJlNvY2dm9knIbmhTLEuyuIg+cJ5nbHTt2GLW3PEggEgHKbWi5PfXs89Agu6GR1SvZtdOQ1WZt2mHXlk0RM7fmDGVWo5xAGMw/L9q8sUbm1CqCSsjkYsk0SrZT2lI/F/GWTPJZAy/Ckvn/CmQ8I2Wt1WCscmvOWKu2VabZmgVVkqgE9fxLL8eKhR9BstTqDYF5/NKntLX604VG5nbY2AfwwsRxxvlynD3wIpx70SWYOuaWwDxU2yXFO41zgmXRrWwU3ybNWxoZYXVNMLkNJq0qO6/GJLGXQzLMcsj/v/PiswZ3a9t2xpKdk2uso2BzinSvevF1yq37UaPcus842T2wLAGA7nLL3RKSfZvU7J9yG1puRdKWfjDPENmNX63Cx2+/gZ59++Pjt98MK7dKLkWwrB93mwX20P7SkHIrURIJ+sl11+OsAYNqyNXmr78yrlMSaZVZuxli83lKulSmWUmeErhQUq6u69C9pzHXJR/Mq1HuYRV2czsyf3N22zye5m3bG2Ul5196hZFptfYvsTC/6Qg1bqvImzO3VrmVsUu78iZCjc3K/5wLL8b034+EVe6Dxckqwdb+5HVVomF+A6TXb4j4RkO5jY+fnaspt3Yoefscyi2ARo0aYfv27dpmbvlAmV43GeU2tNzeMO5h/PvVvxqCVbxtC0p3F6Ndt+54/9WZtuQ2WL2vWeBkJZhrXs0iKDJtrgmW15R4WTO+0o5Z/ubNftmWNJnHsqdoe43+gommmo+SaeHSvluPkIIqtcqxyq3M6S8Tx4XlbM6yKtEPlTGPlLkdMmI0Zk+bjNymBSfVaFuz1qovGaN1fuY4WeNgbkcy1eHqfPX6LRH7aCi3sbOzeyXlNjQpliXYXUUeOE/kdtu2bUYGV8eDcqtXVCi3oeV2+MNT8em/3zMCJvInMidHqAfRVGQjZW7lYTXJiIaT20/mvmN89G0+VK2vNeMr54i8iQz+z9gH8MYz00I+SGduz67cWj9KV22I5J07+JJAhlkyrMFKHcy87GZurbJtHrcqn5D+Bw25psaDg7HK7eU3DseMcXcG5WaVW3PNtVmw1RjV6xJDa2bWWqrhd8ml3Lr/+55yG5qxnYyn+xGKvwc78/D9A2W6yy13S4h/oTvZAuU2tNyKgIpkmXdOCCdd5riYJUt+LvWllw27Ee+/9jdsWL3CyEiGK0uwZm5DSanayUEJdetOXbB68UJDctVrodaLVW6VdMt14TK35vZUXax8LO+k3FrFX/Vp/Wi/srzcEblVmVvpx5pRVX1K7K+4cYTxJkKVQYR7YC6UaEsf5p00YnnIzcnfAW62Rbl1k+63bVNuKbdCwPdym5OTg61bt2qbuXX/VmcP0RCg3IaXWyVZ6oGuFYs+ipi5lWusOwFYH9aSHRjMYqjqapX4ShuRam6t24qpLKL54bNwa8HJmlun5VbV3KpSCLNEmjOiEg+R8njLEqz1wpKtVlvJXXLd9Sc9UKZqscPFyVpTG2ttdDT3s27nUm7djwjlNjRjliW4v/4S1gPlNmGofdGR3+XWvMesBEx9DCwPD6mMrDmQ5myt/LeSLPVwmPWBqXCLINg+t3K+uWbTvHdu9z59jayr2ns30m4JVrk176IQbG9f61itJQTm/qLdLSGU3Jp3PJAMpdQuq4/qwz1QJtnjULslmH8uJQDZuXlo2qJVYCeDYA9pRaq5VdlaO7slWLPFoeIULHNrnZN5LfjiF4plEpRb96NKuXWfcbJ7YFkCAJHbLVu2GA+W6XhwtwS9ouJXudWL8vejUR9xS/1upLKBaOdgd5eEaNvl+SQQKwHKbazk7F9HubXPyqtnUm4B5ObmYvPmzdrKLR8o0+v2otzGFg/rg0HmVhKdjTNniM19W7OE5jH6/UGm2KLKq5wmQLl1mujJ7VFuQzNmWYL76y9hPVBuE4baFx1Rbn0RRk6CBLQkQLl1PyyU29CM7WQ83Y9Q/D3YmYfvHygTud20aZNRnqDjwd0S9IoK5VaveHA0JOAnApRb96NJuaXcCgHfy21eXh42btyordy6f6uzh2gIUG6jocVzSYAEoiFAuY2GVmznUm5Dc2NZQmxrSsurKLdahkXbQVFutQ0NB0YCnidAuXU/hJRb9xknuweWJQAQud2wYYPxYJmOB3dL0CsqlFu94sHRkICfCFBu3Y8m5dZ9xsnugXL7fxu/5+fnY/369drKLXdLSPZtUrP/r+cORec+I5BWq45eA+NoSIAEPE2g+kQV1i6ehi6DZ3p6HqEGb0c4EjFxyi3LEoSA72tuKbeJ+HXinz62LL4XeYXdkZ3X0T+T4kxIgASSTuDQvvXYt3M12vQZn/SxuDEAyq0bVJ1tU5cYxTsrO/NICbn95ptvjPIEHQ/ulqBXVA4WLUDJxtfRtsfVzN7qFRqOhgQ8S0CytptXzUJ++yvRsHk/z84j3MDtCEciJs7MbWjKusQo3nVgZx6+l9vGjRtj3bp12sptvEHm9c4TKF7zEo6ULEfjVn2QldOWkus8YrZIAilBQKS2bP9m7N22GPXzT0dB12t9O287wpGIyVNuQ1PmbgmJWIEJ6oNymyDQPutGMrilW+fi6IGNkD9QPEiABEggWgJSu1+vUXvkth7s24ytYkK5jXZ18PxYCdhZaymRuV27dq3xYJmOB3dL0DEqHBMJ2COQlpaG6upqeyfzLBLwMQE7wpGI6TNzmwjKye3Dzlrzvdw2adIEX3/9tbZyy90SknuTsHcSiIcA5TYeerzWTwTsCEci5ku5DU2ZZQmJWIEJ6oNymyDQ7IYEUpAA5TYFg84pByVAudV/YegSo3hJ2ZlHSmRu16xZA6m91fHgbgk6RoVjIgF7BCi39jjxLP8TsCMciaDAzG1oyrrEKN51YGcelNt4KfN6EiCBlCVAuU3Z0HPiFgJ2hCMR0Ci3oSmzLCERKzBBfTRt2hRfffWVtpnbBGFgNyRAAi4QoNy6AJVNepIA5daTYfPkoO2sNd9nbkVuv/zyS0jtrY4Hd0vQMSocEwnYI0C5tceJZ/mfgB3hSAQFZm4TQTm5fdhZa5Tb5MYI3C0hyQFg9yQQBwHKbRzweKmvCNgRjkRMmHIbmjLLEhKxAhPUR0FBAVavXq1t5pZym6CFwG5IwAUClFsXoLJJTxKg3OofNl1iFC8pO/PwfeZW5HbVqlWQ8gQdD+6WoGNUOCYSsEeAcmuPE8/yPwE7wpEICszchqasS4ziXQd25kG5jZcyrycBEkhZApTblA09J24hYEc4EgGNchuaMssSErECE9RHs2bNsHLlSm0ztwnCwG5IgARcIEC5dQEqm/QkAcqtJ8PmyUHbWWu+z9zqLrfcLcGT9xYHTQIGAcotFwIJfEvAjnAkghUzt4mgnNw+7Ky1lJDbFStWQGpvdTz4QJmOUeGYSMAeAcqtPU48y/8E7AhHIihQbkNTZllCIlZggvooLCzEF198QblNEG92QwKpRIBym0rR5lzDEaDc6r8+dIlRvKTszMP3mVvd5Za7JcS7zHk9CSSOwJQpU3DfffdhwoQJGDlyZKAsYerUqRg7dizGjx+PUaNGJW5A7IkENCFgRzgSMVRmbkNT1iVG8a4DO/NICbldvnw5pPaWBwmQAAnEQ+DQoUPIz89HVlYW0tPTUVxcbHwqVFlZibKyMpSUlCA7OzueLngtCXiSgB3hSMTEKLehKbMsIRErMEF9NG/eHMuWLaPcJog3uyEBvxOQDO3kyZNRVVUVmGqdOnUwevRoTJw40e/T5/xIICgByi0XRqII2Flrvs/c6i633C0hUbcD+yEBZwhI9rZJkyaoqKgINJiRkYE9e/Ywa+sMYrbiQQJ2hCMR02LmNhGUk9uHnbWWEnL7+eefQ2pvdTy4W4KOUeGYSCA8AcneSv3tsWPHULduXaPOlllbrppUJmBHOBLBh3IbmjLLEhKxAhPUh8jj0qVLKbcJ4s1uSCAVCJizt8zapkLEOcdIBCi3kQgl/3VdYhQvCTvz8H3mVne55W4J8S5zXk8CySGgam9Za5sc/uxVLwJ2hCMRI2bmNjRlXWIU7zqwM4+UkNslS5ZAam95kAAJkIBTBCR7O2zYMLzwwgustXUKKtvxLAE7wpGIyVFuQ1NmWUIiVmCC+pDMLeU2QbB91M3BogUo3ToXRw9sRPWJ75+K99EUORUSIAGXCaTVqoN6jdojt/VgNGzez+Xekts85Ta5/FOpdztrzfeZ25YtW+Kzzz7TNnPL3RL0uyWL17yEIyXL0bhVH2TltIX8geJBAiRAAtESkDfGZfs3Y++2xaiffzoKul4bbROeOd+OcCRiMszcJoJycvuws9ZSQm4//fRTSAZXx4O7JegVFcnYlmx8HW17XE2p1Ss0HA0JeJaASO7mVbOQ3/5K32Zw7QhHIgJIuQ1NmWUJiViBCepDMreU2wTB9kE3Wxbfi7zC7sjO6+iD2XAKJEACuhA4tG899u1cjTZ9xusyJEfHQbl1FKcrjekSo3gnZ2cevs/ctmrVCosXL9Y2c8vdEuJd5s5e//XcoejcZwSzts5iZWskkPIEJHu7dvE0dBk805cs7AhHIibOzG1oyrrEKN51YGceKSG3n3zyCSSDy4MEIhFY894QdO13R6TT+DoJkAAJRE1gzYJH0PXi2VFf54UL7AhHIuZBuQ1NmWUJiViBCepDMreGrY0nAAAgAElEQVSU2wTB9kE3lFsfBJFTIAFNCVBu3Q8M5dZ9xsnuwc4bKd9nblu3bo1FixZpm7nlbgnJvk1q9k+51SseHA0J+IkA5db9aFJu3Wec7B4otwBEbhcuXAjJ4Op4cLcEvaJCudUrHhwNCfiJAOXW/WhSblmWIARSInNLuXX/F4pfeqDc+iWSnAcJ6EeAcut+TCi3oRnbyXi6H6H4e7AzD9/LbZs2bbBgwQJtM7fcLSH+he5kC27I7c4tmzD9zhEoKd5ZY6ijHp+BTj17Ozl8R9oKNd6zB16Ea8bcg/SMTEf6caoRGe8XC/6Di4f+2laTb8yYjrmvvBg4d/AvrsMVNwy3da3bJyn2P7nuevS9+LIa3VVWlOPlRx8yfhZvHNatWIY9RduNPuS/p9x6A9R6NPMZNvYBvPX80wg2nlhZqP6CXX/tHfeheNsWrPvic9wy8XFkNcoJ2Y2M0855sY7Tjesot25Qrdkm5ZZyKwQot+7fa+zBQwTclFslCEpSRC4i/QFPBrpgghVOupIxRtVn2YH9eGLsrejU64yIghqMezTXJ2KeiZDbcH0oHk2at4xboCPxivc+8JvcVlQex8LVRRjQW88SukjxtJNNi9SGE69TbkNT5G4JTqwwTdqQzO3HH39s1N7yIIFIBBIhtzKGcNmydl27B6RX/QEX2fhs/r+M7JpI8UuPPGhMxXyu/P/C994KvGbOtAZrJ1TWOJj8WCVQiYmMSQ7JuKlMo3kM5vGpOUumVGVOzVlT1cemNatPajPYa2cNGGRkMtUY1HyXfDAvwCC/oBDDJ01DYZt2JzFXa8Eci+ycXCPLrt6IWOMUat6KWfc+fbF68UK06dwV+3bvQufTzwpItx0Zs7I3z7v7OX2NIdfPyg6IZ6R49+zbH/947ikoDjI/eTOgGAt/aVcytyMeeQKL574T4Cmxu+rm2/Hn8XfXyNyaM7vmNWYeSzDuKu4q5qHk1srJ+kmCOcOsMrcrFn1kxFytQ+t6UddY49She09cfuNwzBh3Z4CJeS1H+n0R7evBMrfllcfx/tKteH/JNtSqBfxxeP9om9XifMqtFmFIiUHYWWu+z9y2bdsWH330kbZyy90S9LoXkyG3QuDjt98whKVk105Drs4cMMiQIiUS1j/OIl89z+tfI2tpFrHmbdvXeM3aTjjqdjK3ZgEp2rwx8LG2WQ5DjU/JjZIhmZt1vMHk3ywyc1581pBWJWsqcytj//ufHod8nC6HiJzKQr7z4rNY+sG8gOwqBub5tu/WI6zcRpq3yJIqGTCfq8YSKcNsZS9tqDFLG7I2VB+bv/4qwD1cvK2vWfsItm4UM7UelexLzGStyicOh/aXBlgJt1Dc1Tit5R925FZxO//SK4w3T2am82a/bJQlXHHjCPxl4rjAPWMt35A3O2q9WBlKiY25TZFkda68IXL6MMutktr5S7ehVpr0lIZL+rbDj3p7c092O8LhNM9g7TFzmwjKye3Dzlqj3CY3RsY3p+3YsSPJo2D3ikAi5DbcH3VrRjNcFsuaYbKeK/9furvYkC0RO7v1iaFqbq1ZMSVqKksmAqLkUOqLreOzCqs5G6yyh0rirYIi4xc21kx1qLKCYBnNUAzMbZw7+JKQcmuVxGDzNtemmucr68tc1xrqjjOLp/XNQTAm5pha462kOL9ZYY1aXauw2pVblSnPbVoQsgQkGHezhJs/LbAjt/LGScRVZd/N3EJlkK3yrv7/f8Y+YLwZMmfmpT3VjnVtufFbUeS23cC/GZlaJbWVVSeMrhpk1sXDN32bnffiYUc4EjEvym1oyixLSMQKTFAfkrn973//CylP0PGg3OoVFTfl1vxAmfljWyUEktkaNOSakzKuVim1PhAlEmn9iF5RVX+wVZbLTo2vWQ7M7Vqzx9YH5FRmLtj4gj24ZJbKglZtamTMrCKnhEz1qeYl8zTX3CpRk4/LhwwfjdnTJxsolOCHy9xKtjyc3CoxCjZv63XSp1l+7T4kZVduh4wYjdnTJgdKCMLFOz0z0xG5tcq2+c4Nxz0euQ2XSbWuM7U+Qz2wJveJNTMvc7C+mXNTckVuP60ehxXr96Lq+LdSK0daWhqqq6v1+mUY5Wg6tsrByJ/1ivIq50+n3IZmqssbkHijbmcevs/ctmvXDh9++KG2csvdEuJd5s5e76bc2nkCvrK8PKLcqhmrP+JKlD+Z+07I7Kydek/VbqjMV8O8fOPjaKtQhoqAdXzyMbY5exlN5lbt0GCueY30ZsAqdVbJEiYi1XKoes1wZQnWzK153qEe0pI+dmxcb5zaon3HiA+9BZNbVSIgbZh3SwiXjTfH2ym5VW901JsF864Z4fqLR27NJS/WGnFVsiEZ2TeemRYoP7Fmpu3ESc6xri03dtDwc+bW2d/EsbdGuaXcGm8Yq73+djHCPaC73MZ+C/NKNwgkWm5lDtaaPxEtcxbUnLkNV4tqFoFgNZjRliWYZVxlyVSpQajaU5mPdVsp1a8an/XBr0g1t227dAuZebRmEyULrmomlUyr/pQcql0qVM2oZGJDZYKttcqRam6tb2DMWUQ7W785WXOruDslt5J9N/M11zubM+9W7vHIrfWNlLl/85s59UCZMLaul2A1t9adS5SwhxNjJ37fnFRzu2Qr5n/uj5pbJ/g40QblNjRFliU4scI0aUPk9j//+Q+kPIEHCUQikAy5NX8sKlnY7Nw8NG3RKmStrLmuUeZjlqZIT89HW5agdkBQWdaD+0qM+kdVxxlptwTz+JToSbnA+6/ONPb9NdflhnrCXdqwvmbdCULV48qDZC9MHGc8+a5Yyke+5nlbP86W9s0fRZsZqif8rbXA1nmHytyqcUsfsbA3ZxNj2S1B+rTKrZJ8mYNwPPeiSzB1zC3GOlJvikI9UKbejKnacBUH9YlDMO6hsq92am5ln1s7uyVY52gej3kNhtsJRO0g4eZ+zmF3S1i6FbXS0jy7W0Kk362Jep1ymyjSyeuHZQn/93Fj+/bt8cEHH2grt9wtIXk3SLCe3ZBbvWaYvNFYs87JG8nJPYvQSl2s0x9F67aPrk7MU3Es4b7EQXZPWLSqCAPO8OY+t7rEk3KrSyTcGwfl1gNyywfK3LsBYmk5FeQ21G4IwsvNrJXOchvLWol0Tain8INljlVbdkoXIvXL1/Ul4OdvKNOFOuU2dCRYlqDLKnVgHJK5nT9/PqQ8QceDcqtXVFJBbvUiztGQQOoQoNy6H2vKbWjGdjKe7kco/h7szMP3D5TpLrfcLSH+he5kC5RbJ2myLRIgATMByq3764FyS7kVAr6X2w4dOuD999/XNnPr/q3OHqIhQLmNhhbPJQESiIYA5TYaWrGdS7kNzY1lCbGtKS2vErn997//bTxYxoMEIhGg3EYixNdJgARiJUC5jZWc/esot/ZZefVMliX836bnusstd0vQ6/ai3OoVD46GBPxEgHLrfjQpt+4zTnYPlFsAHTt2xLx587TN3PKBsmTfJjX7/3ruUHTuMwJpteroNTCOhgRIwNMEqk9UYe3iaegyeKan56H74Cm3oSPEsgTdV28U4xO5leyoZHB1PCi3ekVly+J7kVfYHdl5HfUaGEdDAiTgaQKH9q3Hvp2r0abPeE/PQ/fBU25DR8hOxlP3+Mr47MzD9w+U6S633C1Br1vpYNEClGx8HW17XM3srV6h4WhIwLMEJGu7edUs5Le/Eg2b9/PsPLwwcMot5VYI+F5uTznlFPzrX//SNnPrhV8WqTbG4jUv4UjJcjRu1QdZOW0puam2ADhfEnCIgEht2f7N2LttMernn46Crtc61DKbCUWAcht6bbAswUf3jcjte++9Z9Te8iABuwQkg1u6dS6OHtgI+QPFgwRIgASiJSC1+/UatUdu68HM2EYLL8bzKbcxgvPQZSxLAKC73HK3BA/dURwqCVgIpKWlobq6mlxIgAQ0IUC51SQQLg6DcgugU6dOePfdd7XN3PKBMhfvADZNAi4ToNy6DJjNk0CUBCi3oYGxLCHKxaTz6SK3c+bMMTK4Oh6UWx2jwjGRgD0ClFt7nHgWCSSKAOU2NGk7Gc9ExSmefuzMw/cPlOkut9wtIZ4lzmtJILkEKLfJ5c/eScBKgHJLuRUCvpfbzp0745133tE2c8tfTSRAAt4lQLn1buw4cn8SoNyGjivLEny05im3Pgomp0ICmhGg3GoWEA4n5QlQbv2/BFiWAEDk9u233zYeLNPx4G4JOkaFYyIBewQot/Y48SwSSBQBym2iSCevH8otgC5duuCtt97SVm75QFnybhD2TALxEqDcxkuQ15OAswQotyxLEAK+r7ml3Dr7i4OtkQAJfE+AcsvVQAJ6EaDcho6HnYynXtEMPho780gJuf3nP/9plCfoeHC3BB2jwjGRgD0ClFt7nHgWCSSKAOWWcpsymVud5TZRNzz7IQEScJ4A5dZ5pmyRBOIhQLkNTY+7JcSzsjS7tmvXrvjHP/6hbeZWM1wcDgmQQBQEKLdRwOKpJJAAApTbBEBOchcsSwAgcvvmm28aD5bpeHC3BB2jwjGRgD0ClFt7nHgWCSSKAOU2UaST1w/l1gNyy90SkneDsGcSiJcA5TZegryeBJwlQLkNzZNlCc6utaS21q1bN7zxxhvaZm4pt0ldHuycBOIiQLmNCx8vJgHHCVBuQyO1k/F0PCAuNGhnHr7fLUHk9vXXXzfKE3Q8uFuCjlHhmEjAHgHKrT1OPIsEEkWAcku5FQKU20TdceyHBEjAdwQot74LKSfkcQKU29ABZFmCxxe3efinnnoq/v73v2ubufURak6FBFKOAOU25ULOCWtOgHKreYAcGB7LEgCI3L722muQ8gQdD+6WoGNUOCYSsEeAcmuPE88igUQRoNwminTy+qHcekBu+UBZ8m4Q9kwC8RKg3MZLkNeTgLMEKLcsSxACvq+57d69O1599VVtM7eUW2d/sbE1EkgkAcptImmzLxKITIByG5qRnYxnZMLJP8POPFJCbmfPnm2UJ+h4cLcEHaPCMZGAPQKUW3uceBYJJIoA5ZZymzKZW53lNlE3PPshARJwngDl1nmmbJEE4iFAuQ1Nj7slxLOyNLu2R48emDVrlraZW81wcTgkQAJhCEyZMgX33XcfJkyYgJEjR0LJ7dSpUzF27FiMHz8eo0aNIkMSIIEkEaDcJgl8ArtlWQIAkdtXXnkFUnur48HdEnSMCsdEAsEJHDp0CPn5+cjKykJ6ejqKi4tRUFCAyspKlJWVoaSkBNnZ2cRHAiSQJAKU2ySBT2C3lFsPyC0fKEvgHcGuSMABApKhnTx5MqqqqgyRFeGtU6cORo8ejYkTJzrQA5sgARKIlQDlNjQ5liXEuqo0vO60007D3/72N20zt5RbDRcNh0QCYQiIzDZp0gQVFRWBszIyMrBnzx5mbblySCDJBCi3oQNgJ+OZ5PDZ6t7OPHy/W4LucsvdEmytZZ5EAloRkOyt1N8eO3YMdevWNepsmbXVKkQcTIoSoNxSboVASsjtzJkzjdpbHiRAAiTgBAFz9pZZWyeIsg0ScIYA5TY0R5YlOLPGtGilZ8+e+Otf/0q51SIaHAQJ+IeAqr1lra1/YsqZeJ8A5db7MYw0A5YlANBdbrlbQqRlzNdJQE8Ckr0dNmwYXnjhBdba6hkijioFCVBu/R90yu13cvvyyy9Dam91PPhAmY5RAY6VlWHzW2+iZMUXOLxzJ9IbNsKR4l16DpajIgES0IpA/YJmOHbwAOoXFqJxr95oc+lPUTcrS6sx+nUwlFuWJQgB39fcSuaWcuvXX2PuzKt83z6snDwJOH4cOa1aoU3ffu50xFZJgAR8TWDLwo9Rum0bULsOeo6+E5l5eb6erw6To9yGjoKdjKcOMYw0Bjvz8L3c9urVCy+99JK2mVvulhBpGSf2dcnYLpvwINKqqtDzF0MT2zl7IwES8CWBFa/MNAT39LvvYwbX5QhTbim3KZG5Fbl98cUXjdpbHiQQicD6WX9DyfJl6HX1LyKdytdJgARIwDaBFbNeQV6v09GRb5ptM4vlRMptaGrcLSGWFaXpNZRbTQOj6bAW3zkaeSxF0DQ6HBYJeJfAloULsG/bVvSZNMW7k/DAyCm3HghSnENkWQKA008/HX/5y1+0zdxyt4Q4V7nDl39w7S/R97ZRDrfK5kiABEgAWPDYFAx86W9E4SIByq2LcDVpmnL7ndzKVj2SwdXx4G4JekXl41tuwtn/+xu9BsXRkAAJ+ILAkuefQ7/pf/LFXHSdBOU2dGRYlqDrqo1hXJK5pdzGAC5FL5l71eX44V33pOjsOW0SIAE3CXw44SEMfu1NN7tI+bYpt6GXgJ2MpxcWkJ15+H63hN69e+P555/XNnPL3RL0upUot3rFg6MhAT8RoNy6H03KLeVWCKSE3P75z382am95kEAkApTbSIT4OgmQQKwE3JLb4+XlqJ2ZGeuwfHUd5TZ0OFmW4KOlLplbyq2PAuryVCi3LgNm8ySQwgSclttvv0nxHzhx7Bg6Xzcshcl+P3XKrf+XAcsSAJxxxhl47rnntM3ccrcEvW5Eyq1e8eBoSMBPBJyS28qDBw2p3fLuO6g+fhznP/E06jVp4idUMc+FchszOs9cSLn9Tm6fffZZSAZXx4O7JegVFcqtXvHgaEjATwTilduK/fux6c3Xse3fc41srRwtB16IU3/7Oz9himsulFuWJQgB39fcSuaWchvX74qUuphym1LhTtpkj1dU4LPJ327m3/M3v8GK555D71tuRkajRkkbEzt2n0CscltRWoqNb7yG7fPfD0it8Qe8dm30f+JPyGzMrK2KHuU29Dq2k/F0/y6Ivwc78/C93J555pmYMWOGtplb7pYQ/0J3soVUl9uKAwfw0V33oOiTT2pgPf+h8Wj/44udRB11Wwc2b8GOhQvRbegvw167+4sVeO/X/4uLn/8zmvaK/Wu37fYX9UQACOevX30Np1x2GRY+ON4YZ8/rY99fecWzz+GLPz1dYyidrrwCZ48ehdoZGbEM8aRr1NqId6yODMajjUQrt+UlJdjw99nY8Z8PjPID69FiwEB0v+kWj9JwZ9iUW8ptSmRuRW6feeYZo/aWBwlEIkC5/VZuzQIj4rR1/gfo//BENGrbJhJCV16PRqyckNto+nNlwlE2KjGSefef8JCR/VUMnHxT4jUmUSJMyOl25VYeFNvw+mvY+t6coFKbkMF6vJMOVw1Bx59f7fFZODt87pbgLM+ktka5TSp+z3VOuT1ZbiWD+dHvx+LUa69Bfrduxn83P7cPij5ZjMY9uhvZwbKdu4yf71u3zoi5ypoqyTr3nruw9tW/G6/3uum3xjmSaczr1CkgzepceV1lIeW/u197jfER/rrX3zCui5SRNMttRk6OMa4Ol16CHYs+MTLS0qbKkqq5mced37XLSf11+flVWHDvuBrzbjfoQsy98abAXDe++x6+fOnlwHyCta0yyeFeU+OXuTY/99yAsMr/mzO0Zg5WuTWXPQSLj5JeNQ47fKS/sqKdJ73xUbEyjzXc/Dz3S8HBAduV26qjR7D57bew5Z23UHX0qIMjSJ2mKLf+jTXLEgCcddZZePrpp7XN3HK3BL1uQMqtPblVUisfeZvlV0oXzJInD8BIiYASSiVnIlct+p5nZImzmhcaglyy5usa50o7H99zryGPjdq1PSmjHGrlBJNbNd4t8z8ICGhWYbNA3av0v/qllwPZT2nbnMFWczTP25ohNs87MzfHuL7DT35slHOY5bO8dH/gzYKVl9Hvd28k2gwcUGN8io/wUNIubzis7Uvm1iy3Zwy/BZ9PfwIdfvITQ0zNmXjVXzg+IrSSET6waXON+Mj8N8yZU+PNTeuBAwJvRqRtK9dUrym2K7dqbVcdPozN77yFLXPeDiq5LQdcgFNvulmvX6IcDQm4TIBy+53c/ulPf4JkcHU8uFuCXlGh3IYvSzDLl6rBtWYszR9fF551Vo36V/O5Vrk0y5tImLkdyZxayyWikVuRLsnWmoXUnKG1ZoOtH8FbBV76Die3IvWfPjwpaClHOF7ZLVrUyP7KuRvmvFtDLs2ZccXATlmCOZuqMuYqnsH4WAU6VFmCOZtszbRHyrLrdfe7P5po5TaS5PKBMvdj5qceWJbgo2hK5pZy66OAujwVym3wB8pUmUEwybOKlY5yqzKcViE1lwDI0lIyVlVeHjRzq9qJJLclX31VQ1LNyzYcLznP+mCYElH1ZkCVZ5glN9gDZSpbruIhDydJ3bR5bNY3K8Gy3mrOVrlVmXXpx/rmIxRXpx5uc/nXgGvNxyq34SS31YWD0e2Gb0t9eJBAOAJ2Mp5eIGhnHr7fLUF3ueVuCXrdSpTbkzO35ggFk1svZG5Dya2am3mXCHPJhHqwLpbMbagdG6LJ3Ia6O5RYqjpX2XnB/ECZ+bpwGWY7cquyuma5VXXQcr2UHljfDITimuwdN5L92yZeuVXjP3a4DFveeduoy60+XoXzn3wamXn5yZ4e+9ecgB0p1HwKxvDszMP3cnv22Wfjqaee0rYswQsLKZXGSLmNXm7t1NyqzK+dsgSVPZX6WKdqboPJrbWO1yyB1teCya35Z6o+du+q1UZ2VNXcKjk2z9sqlKFes9bc2q0Xtta1msep6pxVFjec3KqyjVA1t+YM9I6Fi4xYhcvixrs1mx9+DzkltwHJla/fffufqD5xAp2GXuMHRJyDiwRYluAi3EQ3LXL75JNPGg+W8SCBSAQot9HLrTANVs8p24aFyxqGqrk176xg3spKffRu3UHAGtNwH61bx2N9qt+8k4K5v9NvuhGfPDTB2DHCnH1U50jpgNpBQm2ZZne3BPOOETIXu7slmK+zljpYmZjLFtoOGoTN8+YZD+pZ62qtfMwZbetuCdaYZ+bnIat586C7Z5i5RroH/fy603KrWB2vKEftjEw/o+PcSCBAgJlb+chMc7nlbgl63bGpLrfJjIYT+9Mmc/zB+lZziiTkuo2b43GHgFty685o2SoJ6EmAcgvgnHPOwRNPPKFt5pa7Jeh181BukxcPu3JrzYiaR6zj0/mS/ZSdE3reeGPSvgQjeVFlz2YClFuuh2QSYFlCMuk73LfI7fTp040Mro4H5VavqFBu9YqHl0ej9pqV3Q10lG4vs/Xq2J2Q24rK41i4uggDerfyKgaOO0kE7GQ8kzS0qLq1Mw/fP1Cmu9xyt4So1rTrJ1NuXUfMDkggZQnEI7fllcfx/tKteH/JNtSqBfxxeP+U5ciJx0bAjhTG1nJir7IzD9/LbZ8+fTBt2jRtM7eJXRLsLRIBym0kQnydBEggVgKxyK2S2vlLt6FWmvSchkv6tsOPereMdRi8LkUJsCzBR4EXuZ06dapRe8uDBCIRoNxGIsTXSYAEYiUQjdxapbay6oTRbYPMunj4pr6xDoHXkYDnCTBzC0B3ueVuCXrdZ5RbveLB0ZCAnwhEI7d/efcrrFi/F1XHv5VaI2ebloYeHfLRokkW3vtks/Gzi89tix/3aWv8t2Tm+HNyiLQevH5PUW4BnHvuuXj88ce1zdzygTK9bjPKrV7x4GhIwE8EopFbZm79FHnOxUkClNvv5Paxxx4zMrg6HpRbvaJCudUrHhwNCfiJQDRyq+ZtSO6SrZj/OWtu/bQWOJfYCVBuPSC33C0h9gXuxpULht+Es379GzeaZpskQAIpTuCzPz+H85/4U0wUArslLN2KWmlp3C0hJoq8yA8EKLcAzjvvPPzxj3/UNnPrh4XmpznMv/aX6HfbKD9NiXMhARLQhMDCx6ZgwEt/i2s0IrmLVhVhwBnc5zYukLzYswQot9/J7ZQpU4zaWx4kEInA4jtHI69VK7Tp2y/SqXydBEiABGwT2LLwY+zbth19Jk22fQ1PJAESOJkA5dYDcsvdEvS6dde/MhP7VixHzyG/0GtgHA0JkICnCXwx6xXkndYLpwz9lafnwcGTQLIJUG4B9O3bF5MnT9Y2c8sHypJ9m9Ts/1hZGZb/4UHgWBV6Dh2q1+A4GhIgAU8SWPHKTFTXqYved92LullZnpwDB00CuhCg3H4nt48++qhRe6vjQbnVLyrl+/ZhxeRJwPHjyGWJgn4B4ohIwCMEtixcgP3btkG+L/e0Mb9HZl6eR0bOYZKAvgQotx6QW+6WoOcNJBncLW//E3u/WI4jO4tQt2EjHCnepedgOSoSIAGtCDRo1gwVBw6gQWEhGvc+A21+chkztlpFiIPxMgHKLYB+/frhkUce0TZz6+UFxrGTQKoTkG+Mqq6uTnUMnD8JkAAJJIwA5fY7uZ00aZJRe8uDBEiABJwkQLl1kibbIgESIIHIBCi3HpBb7pYQeSHzDBLQlQDlVtfIcFwkQAJ+JUC59YDc8oEyv95+nFcqEKDcpkKUOUcSIAGdCFBuAZx//vmYOHGiUXur40G51TEqHBMJ2CNAubXHiWeRAAmQgFMEKLcekFvuluDUcmc7JJB4ApTbxDNnjyRAAqlNgHLrAblN7SXK2ZOAtwlQbr0dP46eBEjAewQotwD69++PCRMmaFuW4L1lxRGTAAkoApRbrgUSIAESSCwByu13cvuHP/zBqL3V8eBuCTpGhWMiAXsEKLf2OPEsEiABEnCKAOXWA3LLB8qcWu5shwQST4Bym3jm7JEESCC1CVBuAfzgBz/AQw89pG3mlnKb2jcpZ+9tApRbb8ePoycBEvAeAcrtd3I7fvx4o/ZWx4O7JegYFY6JBOwRoNza48SzSIAESMApApRbD8itU8FmOyRAAoknQLlNPHP2SAIkkNoEKLcAfvjDH+LBBx/UNnOb2kuUsycBbxOg3Ho7fhw9CZCA9whQbr+T2wceeMCovdXx4G4JOkaFYyIBewQot/Y48SwSIAEScIoA5dYDcssHypxa7myHBBJPgHKbeObskQRIILUJUG4B/OhHP8L999+vbeaWcpvaNyln720ClFtvx4+jJwES8B4BylwAm7MAACAASURBVO13cjtu3Dij9lbHg7sl6BgVjokE7BGg3NrjxLNIgARIwCkClFsPyK1TwWY7JEACiSdAuU08c/ZIAiSQ2gQotwAGDBiA++67T9vMbWovUc6eBLxNgHLr7fhx9CRAAt4jQLn9Tm7vvfdeo/ZWx4O7JegYFY6JBOwRoNza48SzSIAESMApApRbD8gtHyhzarmzHRJIPAHKbeKZs0cSIIHUJkC5pdym9h3A2ZOAywQoty4DZvMkQAIkYCFAuQUwcOBA3H333UbtrY4Hd0vQMSocEwkEJzBlyhSjhn/ChAkYOXIklNxOnToVY8eOxfjx4zFq1CjiIwESIAEScIkA5dYDcutS7NksCZCACwQOHTqE/Px8ZGVlIT09HcXFxSgoKEBlZSXKyspQUlKC7OxsF3pmkyRAAiRAAkKAcku55Z1AAiTgMAHJ0E6ePBlVVVWGyIrw1qlTB6NHj8bEiRMd7o3NkQAJkAAJmAlQbgFccMEFxseFUp6g48HdEnSMCsdEAqEJiMw2adIEFRUVgZMyMjKwZ88eZm25cEiABEjAZQKUWw/ILXdLcPkuYPMk4AIBecMs9bfHjh1D3bp1jTpbZm1dAM0mSYAESMBCgHJLueVNQQIk4AIBc/aWWVsXALNJEiABEghBgHIL4MILL8Tvf/97bcsSuFsC718S8CYBVXvLWltvxo+jJgES8CYByu13cnvnnXcatbc8SIAESMApApK9HTZsGF544QXW2joFle2QAAmQQAQClFvKLW+SGAkcLFqA0q1zcfTARlSfqIqxFV5GAiSQygTSatVBvUbtkdt6MBo275fKKDh3EnCMAOUWwKBBg3DHHXdom7nlbgmOrXfHGipe8xKOlCxH41Z9kJXTFvIHigcJkAAJREtA3hiX7d+MvdsWo37+6Sjoem20TfB8EiABCwHK7XdyO2bMGKP2VseDuyXoFRXJ2JZsfB1te1xNqdUrNBwNCXiWgEju5lWzkN/+SmZwPRtFDlwXApRbyq0ua9Ez49iy+F7kFXZHdl5Hz4yZAyUBEtCfwKF967Fv52q06TNe/8FyhCSgMQHKLYDBgwcb3xyka+aWuyXodQd9PXcoOvcZwaytXmHhaEjA8wQke7t28TR0GTzT83PhBEggmQQot9/JrWywLrW3PEggEoE17w1B1353RDqNr5MACZBA1ATWLHgEXS+eHfV1vIAESOB7ApRbyi3vhygJUG6jBMbTSYAEbBOg3NpGxRNJICQByi2Aiy66CLfffru2mVvulqDXHUy51SseHA0J+IkA5dZP0eRckkWAcvud3N52221G7a2OB3dL0CsqlFu94sHRkICfCFBu/RRNziVZBCi3lNtkrT3P9ku59WzofD3wyopyvPzoQ8YcL7/hFrw54wkMGT4aWY1yfD1vv02Ocuu3iHI+ySBAuQVw8cUX49Zbb9U2c8vdEpJxa4Tu029yW3ZgP54Yeys69ToDV9ww/KSJvzFjOtZ98Tlumfj4SaK08L238NIjDxrXjHp8Bjr17G38t1wz95UXkV9QiOGTpqGwTbuwQdy5ZROm3zkCJcU7jfPsXpeolbFuxTJMufWGGnOMpW+Z5xcL/oOLh/46lsvDXiNxnDf7Zfzw/12FGff/PmQ87XasYmg+/+yBF+GaMfcgPSPTbjMRxxxu7TnSiccaodx6LGAcrpYEKLffye3IkSON2lseJBCJAOX2e0JmuR38i+sMOVYZxM/m/8uWpCpxvPaO+9D34suMxqXdOS8+a0uMI8XLidedkNtIbyKcGKeTbVjf1ASLU7z9eY1JvPO1cz3l1g4lnkMC4QlQbim3vEeiJEC5PVluTz37PDTIbmhk9Up27TSysM3atMOuLZvCCqr5o3RzRtD6881ff1Ujc2qVXyVeMrJ2XbsHsszq5yLekknufs552Ln5+zGpjPFPrrs+INbBloNZbrNzco35nX/p5Vix8CNsWrMaSuzlWmsWWjLabbt0M0oGRPjlkAzohUN+hafvHYPuffpi9eKF6NC9J8696BJMHXNLIENsnWewtlW2PNxrofjIWMwZWnNm1iq31pioOKtsu3pzosZhh4/0t6doe40ss3k85liGm1+Ut7DWp1NutQ4PB+cRApRbD8gtd0vQ626i3J4styJ3Sz+YZ4jsxq9W4eO330DPvv3x8dtvhpVbJSxnDhh0UkmEWa6KNm8MKbcyGpFNEdSzBgwK1J2KLCspVvJplVm7GeJgcisyKn0s+WBeIMuc36ywRv/vvPhsoKRDxmn+CF6NRbUjH/VbM8Tm8YlUy/XnX3qFIeJmPof2lwYYyGvm6+zwEQFX0q5EP5zcDhkxGrOnTTbGInIt56r4q/7C8RGhlTIXFVcVH5m/rB3zmyRZG5dcd31Irn6rKabc6vX7nqPxJgHKLYAf//jHGD58uFF7q+PB3RL0igrl9mS5vWHcw/j3q381ZKd42xaU7i5Gu27d8f6rM23JbbDMqVnQRN7MNa/m10SmzSUM8poIklmeVD2wOfsoD1vNnj7ZmEykOtJgcquE3PyaOUNrrU+1fgQfLGscTm6FwV8mjgvK0yrp5r4KWrWJyEcYmGumVUbXXGsdrCzBnE1VddJKboPxsQp0qLIEc/ZWxFfJrWS+na771eu3C0C51S0iHI8XCVBuKbdeXLdJHTPl9mS5Hf7wVHz67/eMFyQrJ5IrR6S62UiZW5UNDCe3n8x9xyg5MB9KtKzXyTlKfq+4cYQhi5FKEuSaYHKrrrMKqbkEQK5VMlZZXh40c2vuP5zcWiXePF9rltUsjXJeKD4q06zKJcySG+yBMpVhVe0f3FcSyNarWCu5DcYnktyqGm7pZ9CQa2rwCsXVqYfbkvpLxdQ55VaXSHAcXiZAufWA3HK3BL1uMcrtyXIrWT+R2v/f3plAS1FdjXpfgiCG+ULuA8J0HQDFRXBIiKCJ5hdUQCNoQBEQB0CZVKagggN/QBQSxSFR1xOH+CKJ+l6iJsGYSSGPX42GSET8DaJECMoFFJYKory3K56bc4vq7qru6u7TVV+tlRW5XXXOPt+u5n69e9fB3jlB/5xLboP6OB/94a1y7uVXyv03Xe9NFFSBzVa5te+WoAfBbKE28pxrN4cocmvmNwKoPbnaj9rnhJMKktsgUTdzRancZno3GbE0fa6680KmXTKySXgYuTVVXVvC/a0H/g8DmbiahxDd+lsi/2iQ2/zZcSUEDAHkVkQGDx4skyZN8toTOCCQiwByGyy3+lNtHTBytOZPz+aUW73G/3W3XTH0P6Rk99X+fe0ar2poy1Smnlv7K3d7N4ewX3GHlduO3WoDq406v/+1oLYE+2dmLWadpufWbNmWqa82Ss9t2H5hf1+rHaeRdlPFzSa3pm0jU8+tXYHW+0c/LGWr4vpbKXK9dyvhdeS2ErJEjK4TQG6RW9fvUefiS6rcaoXRPoz46UNRmb7W1q/KVUBseWvf8csHPGiVqzLqfxLexGFvD2bvnWt2GDB76ObaLcEvQaZKaY+f7UYLK7f6cJV/LfZOCmYN+gHg3ElXyf+cf80BbRHZ1hl2twT/PsFhd0uwr8u2v7Gysj+E6G4Zf3v+T9594G898Fd57Yq2f7cEfw9vizZt5UudOjd4wMzszmBzde4viQICQm4LgMelEPicAHJbAXLLbgluvV+TJrdu0f13NCpByxZeJ+dcdkXOfwQi6hrC7pIQddxSnG9k0d4mqxTzMkdpCCC3peHMLMkmgNyKyJAhQ+Syyy7z2hNcPNgtwa2sILfR8uF/EMi+utTVN7syaFdtM1WONdawrQvRqBR2djHFv7DIuLpQAshtoQS5HgIiyC1yy/sgIgHkNiIwTo+NQD79wrFNzkAlIYDclgQzkyScAHJbAXLLbgluvQuRW7fyQTQQSBIB5DZJ2WQt5SKA3IrI0KFDZeLEic62JZTr5mDeYALILXcGBCBQLALIbbHIMm6aCCC3n8vthAkTvN5bDgjkIoDc5iLE6xCAQL4EkNt8yXEdBP5NALmtALlltwS33rLIrVv5IBoIJIkAcpukbLKWchFAbkXkzDPPlPHjxztbuWW3hHK9PYLnfW3FKOnRb6pUNWrsVmBEAwEIVDSB/Z/tk/Wrl0rPQQ9X9DoIHgLlJoDcfi63l156qdd76+KB3LqVlbdWz5W2HXpLi7aHuRUY0UAAAhVNYNf2N2T7lrXStd/8il4HwUOg3ASQ2wqQW3ZLKPfbpOH8H2xeKXUbHpNuR4+keutWaogGAhVLQKu2G195RKprh0vLjgMqdh0EDgEXCCC3InLWWWfJJZdc4mzl1oUbhRgaEti67kH5sO5lade5nzRv3Q3J5QaBAATyIqBSu3vnRtm2abUcUt1XanqNyWscLoIABP5NALn9XG4vvvhir/eWAwJhCWgFd8fbK+Sj9zeI/oLigAAEIBCVgPbuN2tVK226DKJiGxUe50MgAwHktgLklt0SeP9CoHIJVFVVyf79+yt3AUQOAQhAoMIIILcVILc8UFZh7yrChYBFALnldoAABCBQWgLIrYh8+9vflnHjxnm9ty4eyK2LWSEmCIQjgNyG48RZEIAABOIigNxWgNyyW0JctzvjQKD0BJDb0jNnRghAIN0EkNsKkNt036KsHgKVTQC5rez8ET0EIFB5BJBbETn77LNl7NixXnsCBwQgAIE4CSC3cdJkLAhAAAK5CSC3FSC37JaQ+0bmDAi4SgC5dTUzxAUBCCSVAHJbAXLLA2VJffuxrjQQQG7TkGXWCAEIuEQAuRWRYcOGyejRo732BBcP5NbFrBATBMIRQG7DceIsCEAAAnERQG4rQG7ZLSGu251xIFB6Asht6ZkzIwQgkG4CyG0FyG26b1FWD4HKJoDcVnb+iB4CEKg8AsitiAwfPlxGjRrltSdwQAACEIiTAHIbJ03GggAEIJCbAHJbAXLLbgm5b2TOgICrBJBbVzNDXBCAQFIJILcVILc8UJbUtx/rSiKBJUuWyLx582TBggUybdo0MXJ72223yZw5c2T+/Pkyffr0JC6dNUEAAhBwggByKyLnnHOOnH/++c62JSC3TrxXCAICoQjs2rVLqqurpXnz5tKkSRPZunWr1NTUyN69e2X37t1SV1cnLVq0CDUWJ0EAAhCAQHQCyO3ncnveeed5vbcuHuyW4GJWiAkCmQlohXbx4sWyb9+++pMaN24sM2bMkIULF4IOAhCAAASKSAC5rQC5LWL+GRoCECgCAa3etm/fXvbs2VM/etOmTeW9996jalsE3gwJAQhAwCaA3IrIueeeKyNHjnS2csstCwEIVB4Brd5q/+0nn3wiBx10kNdnS9W28vJIxBCAQOURQG4/l9sRI0Z4vbcuHuyW4GJWiAkC2QnY1VuqttwtEIAABEpHALktHWtmggAEUkZAq7eLFi2S2bNnU7VNWe5ZLgQgUD4CyG352Eeaef369TJ16lRZunSp9OjRI9K1nAwBCJSHgFZvx40bJ8uWLaPXtjwpYFYIQCCFBELJ7cqVK/cPGDCgAZ4+ffrI8uXLiy5aKnXXX3+93HHHHd72Omk9Hn74YenWrZv0798/EIG+vmHDBpk7d25aEZV83R9sXik73l4hH72/QfZ/9u+n4kseCBNCAAIVS6CqUWNp1qpW2nQZJC07Nvw9W7GLInAIlJlAaLnVjcdVoIxg6p/1KLZMrVq1ytv03J67zMzKMv2mTZukc+fOZZmbSQ8ksHXdg/Jh3cvSrnM/ad66m+gvKA4IQAACUQnoB+PdOzfKtk2r5ZDqvlLTa0zUITgfAhDwEchbblU6H3roIfnBD34gH374oYwaNUr0wSe7oqtVV31Qa82aNQ1+rpuYm/MHDRpUL64qsfov++hx4403yuWXX15/nv5ZRdo+x77WrMvE1bJlS7nllltkwoQJXozNmjUTfc2uQK9cuVJ69uwpkydP9sTxr3/9qxfLXXfdVR9H0Bw6lz2Wic1ma9aoMWu11a6s6n9fcMEF3ukmvpdeeqle4g855BC58sorZfTo0d61QWvWa+24zz77bHn33Xc9Rpn4cvfHQ0ArtnUbHpNuR49EauNByigQSD0BldyNrzwi1bXDqeCm/m4AQKEE8pZbU7nVTcltEbOlVzcxr62t9QTVyJ05/8QTT6z/+XPPPSeXXXaZ3HTTTV77gRE3bUfYtm1bvfTpz1XcjjjiCPnoo48azGvLrQqsiusxxxzjnWPm0tjM1/omHiPQKpIap46faw67/7VLly4N5jBxZJJbnU+lVNdmrtW59TAValtuVb6D4tGfa7wm7lx8jeAXesNwvchbq+dK2w69pUXbw8ABAQhAIDYCu7a/Idu3rJWu/f71zSgHBCCQH4HQcuvvuTUVTZ3WVGFNCKZ6q2Kq19nVXBU1I3f6YJTpqVURVrm7++67vaqtaXcIakuwK5kqsXYfqi3XWq3196L6K65Gbk2F1ayhkDmMhCuXoMqtGdtfVQ6SW7M2fzxGbv3j2/Js8017z3J+b4/gq15bMUp69JtK1TZOqIwFAQh4vfvrVy+VnoMehgYEIFAAgdBya/e92v22flkNisV8Da8ypzKm1VutXAbJl/2VuoqrHmZulWVtc5g5c6YMGzYsY+XWtEvYcmsqxjqeVjEff/xx7wEsv9yaVop85rD7j7O1JWgMpvKsMv/jH//Ye1gsSG7btWsXuGbktoC7vsBL1/1qhPQaMKvAUbgcAhCAwIEE1q28WXqdvhw0EIBAAQTyklsjZvp1v5HMTp06eeJqV1q1d/WUU07xKqumorpgwQK5+uqr61sFVHxNW4L+9w033OAtx7Q6+OXW7JxgRPfOO+88oHI7adIkbycHu2XAlmHTrqAxB8ltrjnCtCVkYqTzXXPNNfK9733PezhPhVZbN4477rj6rb50zSrxujaV26B4MsltprYP2hIKeJf4LkVu42PJSBCAQEMCyC13BAQKJ5CX3Oq0doXztNNOC3ygzK7C+lsTgh4osx+0Mq0JZp7hw4d7FV+VXq12ahVYHxrTcXUsc6hEq9zW1NTI008/3eCBMjO+XqOSqQ9xqZBffPHF9e0DdkU10xw6V64HyvQce76BAwd6+1yaDwCmzcO0Jhih17XpPwWsh7ZvGBH3r9kwD2p74IGywt8Y2UZAbovLl9EhkGYCyG2as8/a4yIQSm7379+/P64Jiz0OW4cVmzDjI7fcAxCAQLEIILfFIsu4aSKA3KYp26w1FgLIbSwYGSShBB6/53Z5/S9/lvHX3yS//l/3y8lnj5AOXbsndLXxLwu5jZ8pI6aPQOLkNn0pZMWlJhCn3K761S/kwZtvbLCE7r16y+SFt0rzVq1LvbSc82156025ffZUqdu6pcG5X/3WaTJ65rXSpOnBOcco5Qka719W/l5OH3VRqGlVzFb85IH6cwedN1aGjZ8S6tpin2TYDx57qfQ//cy8p9u752N58oF7ZeCI0bHfY2bsb377XPnf9/xrW8dC7otM99v0W++RI/ockzcD/4X6PnzqgXtlyqKlZRdx5Da2tDJQigkgt/+/f/i8886Ts846q77X1bX7QR98e+edd1wLK7XxxC239i9V88v8uFMGOiNVdqKDBCsu6Yr7htr9/k65Y84VcsRXjs3JUqXsoVv+U97b/I/6DxZRro879qDx4uJsKquufoDKdr8F5SkO9shtHBQZAwLuEEBuReT888+XoUOHepLr4nHRRRfJfffd52JoqYypmHKrQG350D+roL25bq3H2lQSzS/5D3fv8n6+ZeMGr+q04dVX6ivBdgXYnP/8b3/tnT9m1jyv+pdpnExfIwcJll8CzZ9NzHaVza5U2/G9vuYlWXLFeG99pnJqV039Y5r4vbX7qsk6X7eeR3qyatZrKssv/O7pej7VNR3qK3Vmfn9F0P55i9ZtvKq1qZz6r8m0bhNf7379Ze3qVdK1Ry/Z/u4/pUff4+ulO4xw2uyPP2Wgtz49mjVvLn/8+aPir/jbVehM6584/xb5zfIfi30fjZw2Sx657eaM6/TfS2HzlM99EXS/+bnb6zQMmhx8cGg+eh+Y3JjKrX2f2veJeX+ae7QY31hQuU3lrxUWHTMB5LYC5DbmnDNcgQRKKbdPL39Iajp39UTU/MK15e3va9fUC5otAn1OOKlB1dKWp80bN3gimWmcbHhyVW5t6dKvo1UmTWVaxzVy6I/PllttA7DX2rFbbYO12HJjJFbH1vn063bt99SqpPlgYCq3GvujP7xVxs3513aD+qGhfccv11/34u+ePuBraXu9tUcenVFu/XEErfvQ3n3qv6IP+gCTq8IcJLcm/zZbvVeySbk9t5HATPeRfyxtBdDrd7y71VvLxtderb+XouQp7H2RS2513c898bgXS90/t3j50W89hoy91JPbXHz0Q5K5Z+1zM90n9nr9H3YK/Gul/nLkNi6SjJNmAsgtcpvm+z+vtRdTboPaEoIqXn6Z0l5Xu4JpVzYzVVZPHDqs/he7kcNcPbOZeiDNfH4ZMX++cM4NYmRA+3Xt+HTuTFVQFb7eX+tfL1AqV6ZyqNeNmDpDli9d7FVo/VW0TG0FdlXOXGNLsd3rbI/x9UFDMsqtX3SC1m33ytrr1XWYDxvZ+kiD5Na0UfhF3oyvP/dXo4Pk1s6/P4d2rEZg9d7x9/36c2jn6dQRF8iP5s6srwaHvS/8sWRqS7Crt1pJNnKbiY+/Uh7UlhB0nxi5DeKa118mARcht3GRZJw0E0BuP//ngwcPHuy1J7h4rFixQvSfO+Zwg0Dccut/oMwIl67WfLWugmJLUJDc6uv+B6JUIk3F0f8QmC0BUeVWRc1UvFQsjUDZUmVny8hsUHxB1UFbKrVybfcl29JkVw/NfIbf3o8/Dqz46usjpsyQ5bcv9i4xFd9slVutBmaTW5Mb/x1q87fl1qxPJXHrprfqq83ZHiLM1Jag8fvX6m8dsGWsELnNVq30C6Kdp6+fNkRumzn5gDdwrvsi6MOU3SZgBFTvZX1AzvRYG7k1+fXzySa3u3bu8D5sBN0n9nvSLCbuh9uQWzf+nieKyiaA3FaA3PJAmVtvsrjlNtNT2tkqaJnk1pAykqkicPG135Of3fX9wAer/KIYtnJrRM3E2LJttdcKoGJg96Vmypwdn/Y5GqEwomDLbbbKrf0kvl3hVmnK1pph92T6v143X72rVOuhHz6CJDXbV//2ujM9CKaC9c6GN7xTO9UelvOhtyhya89vBND0o2qri2nd8HOwvwEI6i32tx7Y80Sp3Ia9L/S8TPeT/961BTaM3NofZmwx/78rnszKx8Tu5xrX7ibIrVt/3xNNZRJAbpHbyrxzyxh1qeTWFjzzy9pUSYPkNuhBGyMxttAE9dyaCldUudXrTDXW7l8049m9lX6BDeoD9j/4pLKbrZczymu2wNjVOZVbU5EzX2MbSddqt5FCPcfefcGs2+5dDlp3JkHL1joQdHtHkVt7rdX/o0P9w1X+vuQgufW3c9jrNOJv7iv7w0ymPupcfLLdF7k+LNn30Jo/Pet9EAn6RiJTFT+o51YfyjQfOP33iX0/+7nmeu+E/SsrDrnds/dTWbV2s5xyTOew03IeBBJFALkVkQsuuEDOOOMMZ9sS2C3BrfdcqeRWV233/XXreZTs2rHd61v0P7hlfrH69801ldBcuyUUIrdGhj7YXuc9kKVfXds7PGTaLUHn9LczaLvAMz992NtHN6hvOGgHBv9X1/bT+0bMVFD1QbJlC6/zdp7QinaLNm2lqqqqwZ7C/rYJjdHehcDma3Z28Feb/TFmqtwabjpHmG25osit/aFD/ztoZwj9+dSb75DVK5703mB2FTzbOqPslmDnPuxuCfZ9kWv7Mzv3Jqdf6tS5vhfbrMsvt/Z7y79bgn3/Bt0n9j3i30khjr+pCpHbj/d+Ks+8+LY888ImadRI5PtTToojJMaAQMURQG4/l9vTTz9dRo0aVXEJJODSE4hTbksfvZszZtqKy4VoVfS0Lzbuf8zBtX10o7C2RTXuntMocSTx3Hzk1kjtb1/cJI2qlEqVDOnfXU4+5stJRMSaIJCTAHKL3Oa8STihIYEky22m3RCUQDH29DRkXZbbYtz/dkXZVG2DHgIzcxejQhjHunQdZqu6OMZjDJEocuuX2r37PvMQfvHgg+Smy/qDEwKpJYDc6tdxo0fLaaed5mzllt0S3Hp/Jllu3SJNNK4SMG0Lrkq3q9zCxBVFbu//5auy5o1tsu/Tf0mtV7OtqpL9+/eHmYpzIJBYAod1bi3TzvlK1vVV7U/4O0XlVrfa0t5bFw92S3ArK8itW/kgGggkiUAUuaVym6TMs5ZSE0BuS03cNx9yW+YE+KZHbt3KB9FAIEkEositWbcnuS+8Lb/9Mz23SboXWEtxCSC3xeWbc3R2S8iJqKQnILclxc1kEEgVgXzktoHk6m4JL74tjaqq2C0hVXcOi41KIPFyO2bMGDn11FO93lsOCOQigNzmIsTrEIBAvgQKkVtbcv/0ymY55Vj2uc03D1yXfALIbfJzzAojEHhtxSjp0W+qVDVqHOEqToUABCCQncD+z/bJ+tVLpeegh0EFAQgUmQByW2TAuYZnt4RchEr7+lur50rbDr2lRdvDSjsxs0EAAokmsGv7G7J9y1rp2m9+otfJ4iDgAoHEy+3YsWPlW9/6lmh7gosHD5S5lZUPNq+Uug2PSbejR1K9dSs1RAOBiiWgVduNrzwi1bXDpWXHARW7DgKHQKUQQG7LnCnktswJCJh+67oH5cO6l6Vd537SvHU3JNe9FBERBCqCgErt7p0bZdum1XJIdV+p6eVmkaUiYBIkBCIQQG4jwCrGqeyWUAyqhY+pFdwdb6+Qj97fIPoLigMCEIBAVALau9+sVa206TKIim1UeJwPgQIIJF5uL7zwQjn55JNF2xM4IAABCMRJgH8xKk6ajAUBCEAgHgLIbTwcGQUCEEghAeQ2hUlnyRCAgPMEkNsyp4jdEsqc0guyLgAAGcRJREFUAKaHQAEEkNsC4HEpBCAAgSIRSLzcjhs3Tr7xjW+Itie4ePBAmYtZISYIhCOA3IbjxFkQgAAESkkAuS0l7YC5kNsyJ4DpIVAAAeS2AHhcCgEIQKBIBJDbIoENOyy7JYQlxXkQcI8AcuteTogIAhCAQOLlVuXxxBNPFG1P4IAABCAQJwHkNk6ajAUBCEAgHgLIbTwcGQUCEEghAeQ2hUlnyRCAgPMEkNsyp4jdEsqcAKaHQAEEkNsC4HEpBCAAgSIRSLzcXnzxxTJgwABn2xJ4oKxIdzbDQqAEBJDbEkBmCghAAAIRCaRCbvv37y/ae+vigdy6mBVigkA4AshtOE6cBQEIQKCUBJDbUtIOmIvdEsqcAKaHQAEEkNsC4HEpBCAAgSIRSLzcXnLJJXLCCSc4W7ktUl4ZFgIQKAEB5LYEkJkCAhCAQEQCqZDbr3/966K9txwQgAAE4iSA3MZJk7EgAAEIxEMAuY2HY96jsFtC3ui4EAJlJ4Dclj0FBAABCEDgAALIbZlvCh4oK3MCmB4CBRBAbguAx6UQgAAEikQg8XJ76aWXyte+9jXR3lsXD+TWxawQEwTCEUBuw3HiLAhAAAKlJIDclpJ2wFzsllDmBDA9BAoggNwWAI9LIQABCBSJAHJbJLAMCwEIJJ8Acpv8HLNCCECg8ggkXm7Hjx8vxx9/vGh7AgcEIACBOAkgt3HSZCwIQAAC8RBAbuPhmPco7JaQNzouhEDJCSxZskTmzZsnCxYskGnTpomR29tuu03mzJkj8+fPl+nTp5c8LiaEAAQgAIF/E0Buy3w38EBZmRPA9BCIQGDXrl1SXV0tzZs3lyZNmsjWrVulpqZG9u7dK7t375a6ujpp0aJFhBE5FQIQgAAE4iaQeLmdMGGCHHvssaLtCS4eyK2LWSEmCGQmoBXaxYsXy759+zyRVeFt3LixzJgxQxYuXAg6CEAAAhAoMwHktswJYLeEMieA6SEQkYDKbPv27WXPnj31VzZt2lTee+89qrYRWXI6BCAAgWIQQG6LQZUxIQCBRBPQ6q32337yySdy0EEHeX22VG0TnXIWBwEIVBCBxMvtxIkTpW/fvqLtCRwQgAAE4iBgV2+p2sZBlDEgAAEIxEcAuY2PZV4jsVtCXti4CAJlJ2B6b+m1LXsqCAACEIBAAwLIbZlvCB4oK3MCmB4CeRLQ6u24ceNk2bJl9NrmyZDLIAABCBSDQOLl9rLLLpM+ffqItie4eCC3LmZF5IPNK2XH2yvko/c3yP7P9rkZJFFBAAJOE6hq1FiataqVNl0GScuOA5yOleAgkCQCyG2Zs8luCWVOQMD0W9c9KB/WvSztOveT5q27if6C4oAABCAQlYB+MN69c6Ns27RaDqnuKzW9xkQdgvMhAIE8CCC3eUDjkuQS0Ipt3YbHpNvRI5Ha5KaZlUGgpARUcje+8ohU1w6ngltS8kyWVgKJl9vLL79cjj76aNH2BA4I5CLw1uq50rZDb2nR9rBcp/I6BCAAgdAEdm1/Q7ZvWStd+80PfQ0nQgAC+RFAbvPjFttV7JYQG8pYBnptxSjp0W8qVdtYaDIIBCBgCGj1dv3qpdJz0MNAgQAEikwAuS0y4FzD80BZLkKlfX3dr0ZIrwGzSjsps0EAAqkgsG7lzdLr9OWpWCuLhEA5CSRebidNmiS9e/d2ti0BuS3n7X/g3MitW/kgGggkiQBym6RsshaXCaRCbo866ijR3lsXD3ZLcCsryK1b+SAaCCSJAHKbpGyyFpcJILcuZ4fYSk4AuS05ciaEQGoIILepSTULLTMB5LbMCWB6twggt27loxTRrPrVL+SpB+6VKYuWSoeu3UsxJXOklABym9LEs+ySE0i83E6ePFl69eol2nvr4sFuCW5lBbltmI/H77ldVvzkgQY//Oq3TpPRM6+VJk0PLlvy9u75WJ584F4ZOGK0NG/VOmccr695SZZcMb7+vOm33iNH9DlGdJyHbvlPOXHoMO/PuQ4d573N/5D+p5+Z69TIr2956025ffZUqdu6xTneQYvReP+y8vdy+qiLIq81rRcgt2nNPOsuNQHkttTEffPxQFlpE3D33XfLqFGjpHnz5oETI7cHyu3rf/mzTF54qyeRRhLHzJpXFMELezeodNtxZbtu9/s75Y45V3gCe/wpAz2ZVUE1awo7p5HPwWMvLcrag8Yv9pxh1+4/zzA94ivHyrDxU/IdJnXXIbepSzkLLhMB5LZM4M20yG1pE1BbWyufffaZ94Ch/s8vuchtdrk1lU49a8TUGbJ86WL5cPcu76ItGzd4X+23aN3Gk8k31631fm5E2AhRlyN6yke7d8vzv/21dO/VW079zgVyzw3fbXCukbre/frL2tWrvGqmqRi/8Lun5cGbb/TOr67pkLOdwIx1aO8+B1ScbXk04qvjNmveXP7480e9+FSC9bDXNOi8sZ7UaUuDicWuaPursKZSrOPYVWQzvn5wCBJZv0SaPxu29rh2LPa4Zj6N2VThTfwaj39M+4NL0Dq69TzS+4Cg+dMj37yU9p3vxmzIrRt5IIrkE0i83E6ZMkV69Ogh2p7g4sFuCaXNyr333is33XSTVFVVeZI7ceLEBpKL3EaX27+vXVMvmH4ZM2KlEtaxW60niHqoMG7euMFrFTBypG0GL/7uaW8sPfQreiOkG1971TvXiFeUyq0taLb0eUL+eSuAVmON3Jr1mBhMpdYvn0Fr00rmkLGXevKnh7Zv6LpMlXnXzh3euuz5zHl1/9xS/5ppe8gk3zquSr7pFbZj7XPCSR5nU1W15dYWcjsn/nP1NSOxQeswsm+u0zgf/eGtMm7ODfUfBNp3/HLZ21dK+7dL7tmQ29yMOAMCcRBAbuOgyBgVRUD3Pd6xY4cXc7NmzRpI7qbnLuYfcbCy6ZdIuy3BrnSaHlxb+OyeVh3y7AlT5J7rZtdLl18W7Qe7/GJpV4z9whim59auaurYRpKD5NG0LAQJnBFTlU8/G/3zjne31le0tbLp70/2P7ymf37uicc92Tfi6++5DYpV5zexXzjnBq9abvp1/S0j/pzYH0B6f62/96HB34OsazeV+aB1ZGpLyFTJrqi/IIoYLHJbRLgMDQGLAHLrwO2gD5VpBVePQYMGyX333ef9Nz8vHodGjRp5UmuOJk2ayBlnnCGTh2xDbn1y63+gzHyl7RdOfcDML2/2OeWUW12SXcE17Qy2RPtlfe/HHzeogAaJsPlq3iAzlWFTlTY/t6vTfp7ZYtHxjXj6H4ozY9vVbHts8/NsclvTuWuDnSL8OTUVc/86/GzMHLrOEVNmyPLbF3uXlPvBQwf+em8QAnLrWkaIJ6kEEi+3U6dOlcMPP1y0PYEDAkqAym34+yDb1/9Bcutq5dZesakuqjSaimdQm0A2uQ2q3AZRtftZVTb1yLTtmL+Sbf7csm11g8purgfaTA6MNGtF2K7Ohq3c2mLqX4e/9cG+T5ocfHCDtoxy7qoR/k4vzZnIbWk4MwsEkFvugVQR0J7bRYsWeWum5zZ36qPKbZieW7tP0/6aP6gtwYidqYTm03Nry6y2SmRqf4hSuVW5zdRzq9uTBfW85pLpoJ5bsxWbrtsfn91z6xdYO2/+3mbzQF6unlvTIx3Uj+t/zWZqYnFhy7jcd3hpz0BuS8ub2dJLALlNb+5TufJDDz1UPv30U3ZLCJn9qHKrw2Z6ot8vvmF6bk8cerasWfWst/OC/YS//RW9vWNApmX59+s112R7YMtfuTWVarsH1d65IdtuCZliD7tbwgfb6wJ3osi0W4Jy8LczaLvAMz992Nt5wu7LzbYDg3+3BHsdhqmuQR8kW7bwOi9PWjFu0aat99Bm1O3WQt6WFXsacluxqSPwCiOQeLmdNm2aqNBoewIHBNjntjLuAVf3d60Meg2j9LeKVOIakhIzcpuUTLIO1wkgt65niPhKSoCtwEqKO+NkYeXWrqb6BwuzB64bqy1uFMhtcflGGR25jUKLcyGQPwHkNn92XJlAAshtApPKkiDgCAHk1pFEEEbiCSRebq+44grp3r27aHsCBwRyEUBucxHidQhAIF8CyG2+5LgOAtEIILfReHF2wgkgtwlPMMuDQBkJILdlhM/UqSKA3KYq3Sw2FwHkNhchXocABPIlgNzmS47rIBCNQOLl9sorr5SuXbuKtidwQCAXAeQ2FyFehwAE8iWA3OZLjusgEI0AchuNF2cnnMBrK0ZJj35TpapR44SvlOVBAAKlJLD/s32yfvVS6Tno4VJOy1wQSCUB5DaVaWfRmQi8tXqutO3QW1q0PQxIEIAABGIjsGv7G7J9y1rp2m9+bGMyEAQgEEwg8XJ71VVXSZcuXWhL4B0QisAHm1dK3YbHpNvRI6nehiLGSRCAQC4CWrXd+MojUl07XFp2HJDrdF6HAAQKJJAKue3cubNo7y0HBMIQ2LruQfmw7mVp17mfNG/dDckNA41zIACBAwio1O7euVG2bVoth1T3lZpeY6AEAQiUgAByWwLITFF5BLSCu+PtFfLR+xtEf0FxQAACEIhKQHv3m7WqlTZdBlGxjQqP8yFQAAHktgB4XAoBCKSbQFVVlezfvz/dEFg9BCAAAccIJF5up0+fLp06dRLtveWAAAQgECcB5DZOmowFAQhAIB4CyG08HBkFAhBIIQHkNoVJZ8kQgIDzBJBb51NEgBCAgKsEkFtXM0NcEIBAmgkkXm5nzJghHTp0EG1P4IAABCAQJwHkNk6ajAUBCEAgHgLIbTwcGQUCEEghAeQ2hUlnyRCAgPMEkFvnU0SAEICAqwSQW1czQ1wQgECaCSRebmfOnCk1NTWi7QkcEIAABOIkgNzGSZOxIAABCMRDALmNhyOjQAACKSSA3KYw6SwZAhBwngBy63yKCBACEHCVAHLramaICwIQSDOBxMvtrFmzpH379qLtCRwQgAAE4iSA3MZJk7EgAAEIxEMAuY2HI6NAAAIpJIDcpjDpLBkCEHCeAHLrfIoIEAIQcJUAcutqZogLAhBIM4HEy+3s2bOlurpatD2BAwIQgECcBJDbOGkyFgQgAIF4CCC38XBkFAhAIIUEkNsUJp0lQwACzhNAbp1PEQFCAAKuEkBuXc0McUEAAmkmkHi5/e53vytt2rQRbU/ggAAEIBAnAeQ2TpqMBQEIQCAeAshtPBwZBQIQSCEB5DaFSWfJEICA8wSQW+dTRIAQgICrBJBbVzNDXBCAQJoJJF5u58yZI61atRJtT+CAAAQgECcB5DZOmowFAQhAIB4CyG08HBkFAhBIIQHkNoVJZ8kQgIDzBJBb51NEgBCAgCsElixZIvPmzZMFCxbItGnTxMjtbbfdJvot0fz582X69OmuhEscEIAABFJJALlNZdpZNAQgkA+BXbt2ef8oTPPmzaVJkyaydetWqampkb1798ru3bulrq5OWrRokc/QXAMBCEAAAjERSLzcXn311d4vG62qcEAAAhAolID+XbJ48WLZt2+f93eLCm/jxo1lxowZsnDhwkKH53oIQAACECiQAHJbIEAuhwAE0kVAZbZ9+/ayZ8+e+oU3bdpU3nvvPaq26boVWC0EIOAoAeTW0cQQFgQg4C4Brd5q/+0nn3wiBx10kNdnS9XW3XwRGQQgkC4CiZfba665Rr74xS+KtidwQAACEIiDgF29pWobB1HGgAAEIBAfAeQ2PpaMBAEIpIiA6b2l1zZFSWepEIBARRBAbisiTQQJAQi4RkCrt+PGjZNly5bRa+tacogHAhBINYHEy+21114rzZo1E21P4IBAWAJr33leXtj4B9ny/lvy6Wf7wl7GeRCAAATqCXyhUWPp0KqrHN/tm9K701chAwEIlIgAclsi0ExTOQSefvVn8sa7a+WIDsdJTcsuor+gOCAAAQhEJaAfjLd+8La8vuVFOexLvWXgkedGHYLzIQCBPAggt3lA45LkEtCK7bP//ZSc2GMYUpvcNLMyCJSUgEruc+sfl5MOH0wFt6TkmSytBBIvt3PnzhV9mlnbEzggkIvAslU3S+d2vaRj69pcp/I6BCAAgdAENu/cIJu2rZNx/WeFvoYTIQCB/Aggt/lx46qEEljwy0kytO94qrYJzS/LgkC5CGj19omX75Grz7izXCEwLwRSQwC5TU2qWWgYAvOfnCDDj58a5lTOgQAEIBCJwGMvLJW5Q+6OdA0nQwAC0QkkXm7nzZvn/QtC2p7AAYFcBJDbXIR4HQIQyJcAcpsvOa6DQDQCyG00XpydcALIbcITzPIgUEYCyG0Z4TN1qgggt6lKN4vNRQC5zUWI1yEAgXwJILf5kuM6CEQjkHi5ve666+QLX/iCaHsCBwRyEUBucxGqrNff/PtGmT5+ulx0+TgZMnxIZQVPtIkjgNwmLqUsyFECyK2jiSGs8hBAbqNx37ljp8y6fLYcc3xfmXjVxAMu/tH3fyQvvfCy3HzXImndpnWD15987EmZPem73s9+/IuHpO9X+3r/rdfcfvMd0uOoHrLkniXS/dBuWYMyMaz6/SrvvCmzJtfHonP8461/BMbmH1RF+LlnnpUxE8ZEgxDibH+M5pL+J/cPZBNiyKKe8vHHe+T+u5bJyHEjD8hbUSdO+ODIbcITzPKcIYDcOpMKAnGBAHIbLQtxya0RUpWqRfMWyU8f/GlouVUZ3vrPd2X2jbPlmad+4wmzLcthVpRrHWHGyHZO0PjFnrOQmLN9KClk3LRfi9ym/Q5g/aUikHi5vf7666Wqqkq0PYEDArkIILe5CDV8PZeghancnn7WadKiVUtPTre8s8VrI6g9rLtseOPNnJVbI8Nr/rzmgHPNaxqxjr3ur6/KBWeOlutvuU5+cv8jsv5v62XRnTfJfww+tV6o9dzvjPlOg/P1Z/4Kq6ku2+cffHBT8VdojWQHcfLHp9fb1WwTh/7ctFdozHqYcc3P+3/jBFn1xz95a7Kv03MzxZrpNfMBQV831XP9b82LmV+50eYR7b2iZyO30ZlxBQTyIYDc5kONaxJLALmNlto45Fartk8/9RtPTv/2l7Xyi0efkAHf7C//56c/Dy23Wum1pU//O5PcmiqxLd56vt1eYffqGvn1S7IKZuvqNvU9vf7zVBLvu2uZt4Y2bVsf0L7hZ/fy8y978q3jdj+8e/35F14+zpNvM7+2C5hWjx3bd3rz9zm2TwMhN/KZbY32fPY6VFrt6w5u1syb/8xzhnqtI/qayVeulpFod1Pyz0Zuk59jVugGAeTWjTwQhSMEkNtoiYhDbm+/f6k88sByT560P1ZbDI48updXXQ3Tc+uvaprKpa7ElkJTuTXip1XSTPJpv6YCp39W6dbe4Tf/+01PQv0y7X94zfx57sJr62XV9AUbynZ/sL/Kbdotrrj6Crl1wa1eq4a/Kuuf0xb6iVdOlLlXzW3QD22va2fdjsB1aGxBFXebc9h+6Gh3U/LPRm6Tn2NW6AaBxMvtDTfcINqawAGBMARufGI8/0JZGFCfnxOH3N67/F75zVO/8UZ8Z9M7nuTqYcQzTHXQ7tX1pNZqNzAVTyO35iv9bHJrf5VvcBih69CpQ4M2BiO5+v9Gem2EGsuAUwY0qNya8Y1o++M315t2CFuo9TUjuaaNw+wGYcvtyAtHypwpcxrsFGGvOdM6THXWVId1Pq1qb3t3W311PUpuItxOiT8VuU18ilmgIwQSL7eOcCaMCiFA5TZaouKQW5VNlVp75wT9cz4CZaqLAwefKv6v86PIrb9ym4mK6ZFVCZ08c5JcP/OGwG3H/JzMn40wqsCHeYjL7ulVMT7qK70bbHUWpXJrf2iw16HV6UeWPVLf+mDEOuhDQZgPHtHuqGSfjdwmO7+szh0CyK07uSASBwggt9GSEJfcmqqnqVSu/N3KUHJry6xuRRa2V1ark9kqt9nGsXtpTfVT4zftA6ZSnKvn1gilaU3I1HOr23HZ/cBBvbLtvtSuQctEmJ7boCquiT2or1erw6YCbUt5tDsm3Wcjt+nOP6svHQHktnSsmakCCCC30ZKUaf9W87W5SpLuWWsf5ut9fXjMbNtlHqDq1LlT/ZZeYSu3RvbMHP5txYywZavcmsqpxhrUCpBttwS7/zSf3RK0l9auipoKdrbdEswajYR/+ztnyco/rBLt6bX7eHXtdotFttfsddhMNbb/Wvlf9XnU3S1+9fNfR95uLdqdlcyzkdtk5pVVuUcAuXUvJ0RURgLIbRnhM3VkAvwLbJGRlfUC5Las+Jk8RQSQ2xQlm6XmJoDc5mZUyjP8VVl7bn8VspRxuTIXcutKJsLFgdyG48RZECiUAHJbKEGuTxQB5DZR6WQxEHCKAHLrVDoIJsEEkNsEJ5elRSeA3EZnxhUQgEA4AshtOE6cBYFCCSC3hRLk+kQRQG4TlU4WAwGnCCC3TqWDYBJMALlNcHJZWnQCyG10ZlwBAQiEI4DchuPEWRAolAByWyhBrk8UAeQ2UelkMRBwigBy61Q6CCbBBJDbBCeXpUUnsOCXk2Ro3/HyhUaNo1/MFRCAAAQyEPj0s33yxMv3yNVn3AkjCECgyASQ2yIDZvjKIrBs1c3SuV0v6di6trICJ1oIQMBpApt3bpBN29bJuP6znI6T4CCQBALIbRKyyBpiI7D2nefl2f9+Sk7sMYzqbWxUGQgC6SagVdvn1j8uJx0+WHp3+mq6YbB6CJSAAHJbAshMUVkEnn71Z/LGu2vliA7HSU3LLkhuZaWPaCHgDAGV2q0fvC2vb3lRDvtSbxl45LnOxEYgEEgyAeQ2ydllbXkT0AruCxv/IFvef0v0FxQHBCAAgagEtHe/Q6uucny3b1KxjQqP8yFQAIH/B3MFNuVDAIm5AAAAAElFTkSuQmCC)"
      ],
      "metadata": {
        "id": "pKkZaMEVJW5S"
      }
    },
    {
      "cell_type": "markdown",
      "source": [
        "📌 **PerguntaDoUsuario**\n",
        "\n",
        "Nosso primeiro bloco será um  **InputComponent()** usado para capturar as perguntas do usuário."
      ],
      "metadata": {
        "id": "h1vcMiUkFovn"
      }
    },
    {
      "cell_type": "code",
      "source": [
        "from llama_index.experimental.query_engine.pandas import PandasInstructionParser\n",
        "from llama_index.core.prompts import PromptTemplate\n",
        "from llama_index.core.query_pipeline import QueryPipeline, Link, InputComponent,ArgPackComponent\n",
        "pergunta_do_usuario =  InputComponent()\n",
        "print(pergunta_do_usuario)"
      ],
      "metadata": {
        "colab": {
          "base_uri": "https://localhost:8080/"
        },
        "id": "SoijuSUa1iUD",
        "outputId": "23df171f-112c-466d-e558-45b02a761fed"
      },
      "execution_count": 74,
      "outputs": [
        {
          "output_type": "stream",
          "name": "stdout",
          "text": [
            "partial_dict={}\n"
          ]
        }
      ]
    },
    {
      "cell_type": "markdown",
      "source": [
        "📌 **Identificar Tickers**:\n",
        "Agora iremos criar as intruções para  identificar no questionamento do usuário, qual empresa ou  empresas ele está falando e assim, identificarmos seus respectivos tickers"
      ],
      "metadata": {
        "id": "BgEnpNv_F7hZ"
      }
    },
    {
      "cell_type": "code",
      "source": [
        "instrucoes_identificar_tickesr_str = (\n",
        "    \"1. Converta a consulta em código Python executável usando Pandas.\\n\"\n",
        "    \"2. Identifique qual  ticker a consulta se refere.\\n\"\n",
        "    \"2. Somente retorne os valores da coluna Ticker.\\n\"\n",
        "    \"3. Os tickers deve ser informado em formato de lista.\\n\"\n",
        "    \"4. IMPRIMA APENAS A EXPRESSÃO.\\n\"\n",
        "    \"5. Não coloque a expressão entre aspas.\\n\"\n",
        "    \"6. O dataframe possui as seguintes colunas: `{colunas_str}`\\n\"\n",
        "    \"7. Crie variações de nomes para encontrar os tickers em sua  expressão contains.\\n\"\n",
        "    \"8. Use sempre as intruções `case=False, na=False` nas clausulas contains.\\n\"\n",
        "    \"9. A última linha de código deve ser uma expressão Python que pode ser chamada com a função `eval()`.\\n\"\n",
        "    \"10. Sempre retorne a Coluna Ticker em formato de lista.\\n\\n\"\n",
        "    \"----------------------------\\n\"\n",
        "    \"identique os tickers na consulta: {query_str}\\n\\n\"\n",
        "    \"Expressão:\"\n",
        ")\n",
        "prompt_identificar_tickers = PromptTemplate(instrucoes_identificar_tickesr_str).partial_format(colunas_str=str(list(df.columns)))\n",
        "print(prompt_identificar_tickers)"
      ],
      "metadata": {
        "colab": {
          "base_uri": "https://localhost:8080/"
        },
        "id": "Nkz-ah-EF0Gh",
        "outputId": "5e3755d1-3689-435b-c2b0-15380efe4ac3"
      },
      "execution_count": 105,
      "outputs": [
        {
          "output_type": "stream",
          "name": "stdout",
          "text": [
            "metadata={'prompt_type': <PromptType.CUSTOM: 'custom'>} template_vars=['colunas_str', 'query_str'] kwargs={'colunas_str': \"['Nome', 'Ticker', 'Cotação', 'P/L', 'P/VP', 'PSR', 'Div.Yield', 'ROE', 'Patrim. Líq', 'Liq. Corr.', 'Liq.2meses', 'P/Ativo']\"} output_parser=None template_var_mappings=None function_mappings=None template='1. Converta a consulta em código Python executável usando Pandas.\\n2. Identifique qual  ticker a consulta se refere.\\n2. Somente retorne os valores da coluna Ticker.\\n3. Os tickers deve ser informado em formato de lista.\\n4. IMPRIMA APENAS A EXPRESSÃO.\\n5. Não coloque a expressão entre aspas.\\n6. O dataframe possui as seguintes colunas: `{colunas_str}`\\n7. Crie variações de nomes para encontrar os tickers em sua  expressão contains.\\n8. Use sempre as intruções `case=False, na=False` nas clausulas contains.\\n9. A última linha de código deve ser uma expressão Python que pode ser chamada com a função `eval()`.\\n10. Sempre retorne a Coluna Ticker em formato de lista.\\n\\n----------------------------\\nidentique os tickers na consulta: {query_str}\\n\\nExpressão:'\n"
          ]
        }
      ]
    },
    {
      "cell_type": "markdown",
      "source": [
        "📌 **Instruções Pandas**:\n",
        "Após identificar quais tickers fazem parte da intenção do usuário, usaremos essas informações para criar uma nova consulta mais direcionada no pandas."
      ],
      "metadata": {
        "id": "hcg4k0NkG7HG"
      }
    },
    {
      "cell_type": "code",
      "source": [
        "instrucoes_pandas_str = (\n",
        "    \"Você está trabalhando com um dataframe do pandas em Python.\\n\"\n",
        "    \"O nome do dataframe é `df`.\\n\"\n",
        "    \"Este é o resultado de `print(df.head(50))`:\\n\"\n",
        "    \"Sempre use os Tickers identificados como base nas clausulas em seu filtro.\\n\"\n",
        "    \"Sempre retorne em juntamente com as colunas de valores a coluna Ticker!\\n\"\n",
        "    \"Use sempre a clausua contrains na lista todos os Tickers.\\n\"\n",
        "    \"Siga estas instruções:\\n\"\n",
        "    \"1. Converta a consulta em código Python executável usando Pandas.\\n\"\n",
        "    \"2. A última linha de código deve ser uma expressão Python que pode ser chamada com a função `eval()`.\\n\"\n",
        "    \"3. O código deve representar uma solução para a consulta.\\n\"\n",
        "    \"4. IMPRIMA APENAS A EXPRESSÃO.\\n\"\n",
        "    \"5. Não coloque a expressão entre aspas.\\n\\n\"\n",
        "    \"6. Use a listagem dos Tickers identificados  `{resultado_parse_tickers}` na clausula de filtro contains.\\n\\n\"\n",
        "    \"Consulta: {query_str}\\n\\n\"\n",
        "    \"Expressão:\"\n",
        ")\n",
        "prompt_instrucoes_pandas = PromptTemplate(instrucoes_pandas_str).partial_format(query_str=\"analise\")\n",
        "print(prompt_instrucoes_pandas)"
      ],
      "metadata": {
        "colab": {
          "base_uri": "https://localhost:8080/"
        },
        "id": "n9ZzyK7_vXrx",
        "outputId": "4b6dc238-fcdf-4a88-aedf-be47db936c6e"
      },
      "execution_count": 111,
      "outputs": [
        {
          "output_type": "stream",
          "name": "stdout",
          "text": [
            "metadata={'prompt_type': <PromptType.CUSTOM: 'custom'>} template_vars=['resultado_parse_tickers', 'query_str'] kwargs={'query_str': 'analise'} output_parser=None template_var_mappings=None function_mappings=None template='Você está trabalhando com um dataframe do pandas em Python.\\nO nome do dataframe é `df`.\\nEste é o resultado de `print(df.head(50))`:\\nSempre use os Tickers identificados como base nas clausulas em seu filtro.\\nSempre retorne em juntamente com as colunas de valores a coluna Ticker!\\nUse sempre a clausua contrains na lista todos os Tickers.\\nSiga estas instruções:\\n1. Converta a consulta em código Python executável usando Pandas.\\n2. A última linha de código deve ser uma expressão Python que pode ser chamada com a função `eval()`.\\n3. O código deve representar uma solução para a consulta.\\n4. IMPRIMA APENAS A EXPRESSÃO.\\n5. Não coloque a expressão entre aspas.\\n\\n6. Use a listagem dos Tickers identificados  `{resultado_parse_tickers}` na clausula de filtro contains.\\n\\nConsulta: {query_str}\\n\\nExpressão:'\n"
          ]
        }
      ]
    },
    {
      "cell_type": "markdown",
      "source": [
        "📌 **Sintese Resposta**:\n",
        "Por último, reunimos todas as informações catalogadas nas etapas anteriores para gerar um prompt mais  refinado e aderente ao contexto."
      ],
      "metadata": {
        "id": "kO1cabGGIGWN"
      }
    },
    {
      "cell_type": "code",
      "source": [
        "sintese_resposta_str = (\n",
        "\n",
        "    \"Você é um expert em investimentos, sempre responda de forma amigavel e bem didatico!\\n\"\n",
        "    \"Sempre responda com bom humor  e de forma educada!\\n\"\n",
        "    \"Siga estas instruções:\\n\"\n",
        "    \"1. Sempre informe o ticker das empresas em analise!\\n\"\n",
        "    \"2. Ao Final da resposta, faça um resumo com os pontos importantes da analise!\\n\"\n",
        "    \"3. Sempre use valor contindos na Saída do Pandas.\\n\"\n",
        "    \"4. Só responda com valors contidos na Saída do Pandas.\\n\\n\"\n",
        "    \"Dada uma pergunta de entrada, sintetize uma resposta a partir dos resultados da consulta.\\n\"\n",
        "    \"Consulta: {query_str}\\n\\n\"\n",
        "    \"Instruções do Pandas (opcional):\\n{resposta_instrucoes_pandas}\\n\\n\"\n",
        "    \"Tickers identificados: {resultado_parse_tickers}\\n\\n\"\n",
        "    \"Saída do Pandas: {resultado_parse_pandas}\\n\\n\"\n",
        "\n",
        "    \"Resposta: \"\n",
        ")\n",
        "\n",
        "prompt_sintese_resposta = PromptTemplate(sintese_resposta_str)\n",
        "print(prompt_sintese_resposta)"
      ],
      "metadata": {
        "colab": {
          "base_uri": "https://localhost:8080/"
        },
        "id": "6dCKExSCHgSI",
        "outputId": "4a403068-d8d0-4c80-ff4a-b210728fa92e"
      },
      "execution_count": 112,
      "outputs": [
        {
          "output_type": "stream",
          "name": "stdout",
          "text": [
            "metadata={'prompt_type': <PromptType.CUSTOM: 'custom'>} template_vars=['query_str', 'resposta_instrucoes_pandas', 'resultado_parse_tickers', 'resultado_parse_pandas'] kwargs={} output_parser=None template_var_mappings=None function_mappings=None template='Você é um expert em investimentos, sempre responda de forma amigavel e bem didatico!\\nSempre responda com bom humor  e de forma educada!\\nSiga estas instruções:\\n1. Sempre informe o ticker das empresas em analise!\\n2. Ao Final da resposta, faça um resumo com os pontos importantes da analise!\\n3. Sempre use valor contindos na Saída do Pandas.\\n4. Só responda com valors contidos na Saída do Pandas.\\n\\nDada uma pergunta de entrada, sintetize uma resposta a partir dos resultados da consulta.\\nConsulta: {query_str}\\n\\nInstruções do Pandas (opcional):\\n{resposta_instrucoes_pandas}\\n\\nTickers identificados: {resultado_parse_tickers}\\n\\nSaída do Pandas: {resultado_parse_pandas}\\n\\nResposta: '\n"
          ]
        }
      ]
    },
    {
      "cell_type": "markdown",
      "source": [
        "🧩 Juntanto todos os blocos usando **QueryPipeline**\n",
        "\n"
      ],
      "metadata": {
        "id": "Nmv2KzPfI4Hd"
      }
    },
    {
      "cell_type": "code",
      "source": [
        "from IPython.display import display, Markdown\n",
        "#Antes vamos criar nosso parse Pandas para nosso dataframe\n",
        "output_pandas_parser = PandasInstructionParser(df)\n",
        "\n",
        "p = QueryPipeline(\n",
        "    modules={\n",
        "\n",
        "        \"Pergunta_do_Usuario\": pergunta_do_usuario,\n",
        "\n",
        "        \"Prompt_IdentificarTickers\": prompt_identificar_tickers,\n",
        "        \"LLM_Query_IdentificarTickers\": llm, #\" usaremos nossa LLM Gemini Pro\n",
        "        \"Parser_RespostaQuery_IdentificarTickers\":output_pandas_parser,\n",
        "\n",
        "        \"Prompt_InstruçõesPandas\":prompt_instrucoes_pandas,\n",
        "        \"LLM_Query_InstruçõesPandas\": llm,\n",
        "        \"Parser_RespostaQuery_InstruçõesPandas\": output_pandas_parser,\n",
        "\n",
        "        \"Prompt_SínteseResposta\": prompt_sintese_resposta,\n",
        "        \"LLM_SínteseResposta\": llm,\n",
        "\n",
        "      },\n",
        "    verbose=True,\n",
        ")\n",
        "\n",
        "\n",
        "p.add_chain([ \"Pergunta_do_Usuario\",\"Prompt_IdentificarTickers\", \"LLM_Query_IdentificarTickers\", \"Parser_RespostaQuery_IdentificarTickers\" ])\n",
        "p.add_chain([\"Pergunta_do_Usuario\", \"Prompt_InstruçõesPandas\",\"LLM_Query_InstruçõesPandas\",\"Parser_RespostaQuery_InstruçõesPandas\" ])\n",
        "\n",
        "p.add_links([\n",
        "\n",
        "    Link(\"Parser_RespostaQuery_IdentificarTickers\", \"Prompt_InstruçõesPandas\", dest_key=\"resultado_parse_tickers\"),\n",
        "    Link(\"Pergunta_do_Usuario\", \"Prompt_SínteseResposta\", dest_key=\"query_str\"),\n",
        "    Link(\"LLM_Query_InstruçõesPandas\", \"Prompt_SínteseResposta\", dest_key=\"resposta_instrucoes_pandas\"),\n",
        "    Link(\"Parser_RespostaQuery_InstruçõesPandas\", \"Prompt_SínteseResposta\", dest_key=\"resultado_parse_pandas\"),\n",
        "    Link(\"Parser_RespostaQuery_IdentificarTickers\", \"Prompt_SínteseResposta\", dest_key=\"resultado_parse_tickers\"),\n",
        "\n",
        "\n",
        "\n",
        "])\n",
        "\n",
        "p.add_link(\"Prompt_SínteseResposta\", \"LLM_SínteseResposta\")\n",
        ""
      ],
      "metadata": {
        "id": "VIq36jhaIhHV"
      },
      "execution_count": 113,
      "outputs": []
    },
    {
      "cell_type": "markdown",
      "source": [
        "🧰 Pipeline pronto, vamos testar!"
      ],
      "metadata": {
        "id": "yFsl4MxlLhld"
      }
    },
    {
      "cell_type": "code",
      "source": [
        "pergunta = \"me diga o ROE e cotacao além da oscilacao nos ultimos anos da vale e americanas\"\n",
        "resposta = p.run(query_str=pergunta)\n",
        "display(Markdown(resposta.message.content))"
      ],
      "metadata": {
        "colab": {
          "base_uri": "https://localhost:8080/",
          "height": 1000
        },
        "id": "R6P01vnmLrgB",
        "outputId": "c3112cfa-e8e4-4739-c23c-a06141d37139"
      },
      "execution_count": 114,
      "outputs": [
        {
          "output_type": "stream",
          "name": "stdout",
          "text": [
            "\u001b[1;3;38;2;155;135;227m> Running module Pergunta_do_Usuario with input: \n",
            "query_str: me diga o ROE e cotacao além da oscilacao nos ultimos anos da vale e americanas\n",
            "\n",
            "\u001b[0m\u001b[1;3;38;2;155;135;227m> Running module Prompt_IdentificarTickers with input: \n",
            "query_str: me diga o ROE e cotacao além da oscilacao nos ultimos anos da vale e americanas\n",
            "\n",
            "\u001b[0m\u001b[1;3;38;2;155;135;227m> Running module LLM_Query_IdentificarTickers with input: \n",
            "messages: 1. Converta a consulta em código Python executável usando Pandas.\n",
            "2. Identifique qual  ticker a consulta se refere.\n",
            "2. Somente retorne os valores da coluna Ticker.\n",
            "3. Os tickers deve ser informado em ...\n",
            "\n",
            "\u001b[0m\u001b[1;3;38;2;155;135;227m> Running module Parser_RespostaQuery_IdentificarTickers with input: \n",
            "input: assistant: df[df['Nome'].str.contains('vale', case=False, na=False) | df['Nome'].str.contains('americanas', case=False, na=False)]['Ticker'].tolist()\n",
            "\n",
            "\u001b[0m\u001b[1;3;38;2;155;135;227m> Running module Prompt_InstruçõesPandas with input: \n",
            "resultado_parse_tickers: ['AMER3', 'VALE3']\n",
            "\n",
            "\u001b[0m\u001b[1;3;38;2;155;135;227m> Running module LLM_Query_InstruçõesPandas with input: \n",
            "messages: Você está trabalhando com um dataframe do pandas em Python.\n",
            "O nome do dataframe é `df`.\n",
            "Este é o resultado de `print(df.head(50))`:\n",
            "Sempre use os Tickers identificados como base nas clausulas em seu f...\n",
            "\n",
            "\u001b[0m\u001b[1;3;38;2;155;135;227m> Running module Parser_RespostaQuery_InstruçõesPandas with input: \n",
            "input: assistant: df.query(\"Ticker.str.contains('AMER3') | Ticker.str.contains('VALE3')\")\n",
            "\n",
            "\u001b[0m\u001b[1;3;38;2;155;135;227m> Running module Prompt_SínteseResposta with input: \n",
            "query_str: me diga o ROE e cotacao além da oscilacao nos ultimos anos da vale e americanas\n",
            "resultado_parse_tickers: ['AMER3', 'VALE3']\n",
            "resposta_instrucoes_pandas: assistant: df.query(\"Ticker.str.contains('AMER3') | Ticker.str.contains('VALE3')\")\n",
            "resultado_parse_pandas:            Nome Ticker  Cotação   P/L  P/VP    PSR  Div.Yield     ROE  \\\n",
            "278  AMERICANAS  AMER3     0.53 -0.03 -0.02  0.028     0.0000  0.5476   \n",
            "571        VALE  VALE3    64.29  7.54  1.56  1.416    ...\n",
            "\n",
            "\u001b[0m\u001b[1;3;38;2;155;135;227m> Running module LLM_SínteseResposta with input: \n",
            "messages: Você é um expert em investimentos, sempre responda de forma amigavel e bem didatico!\n",
            "Sempre responda com bom humor  e de forma educada!\n",
            "Siga estas instruções:\n",
            "1. Sempre informe o ticker das empresas e...\n",
            "\n",
            "\u001b[0m"
          ]
        },
        {
          "output_type": "display_data",
          "data": {
            "text/plain": [
              "<IPython.core.display.Markdown object>"
            ],
            "text/markdown": "**Cotação e ROE**\n\n* **VALE3 (Vale):**\n    * Cotação: R$ 64,29\n    * ROE: 20,68%\n\n* **AMER3 (Americanas):**\n    * Cotação: R$ 0,53\n    * ROE: 54,76%\n\n**Oscilação nos Últimos Anos**\n\nInfelizmente, a saída do Pandas não contém informações sobre a oscilação nos últimos anos.\n\n**Resumo**\n\n* A Vale (VALE3) tem uma cotação mais alta e um ROE menor do que a Americanas (AMER3).\n* A Americanas tem uma cotação mais baixa e um ROE maior do que a Vale.\n* A saída do Pandas não fornece informações sobre a oscilação nos últimos anos."
          },
          "metadata": {}
        }
      ]
    },
    {
      "cell_type": "markdown",
      "source": [
        "🛑 As oscilações nos últimos anos **não estão disponíveis na saída do Pandas.**\n",
        "\n",
        "Observe que a analise foi quase perfeita, por ter somente uma fonte de dados local, que em nosso caso, é o dataframe pandas, com isso, ele não foi capaz de nos dar informaçoes sobre oscilação.\n",
        "isso é algo possitivo, pois o a IA generativa não inventou um valor para a oscilação com base nas demais colunas.\n",
        "\n",
        "---\n",
        "\n",
        "Para suprir essa limitação, iremos por em nosso diagrama um modulo com conectividade a internet  e para isso, usaremos o módulo Retriever para construirmos nos acesso ao Fundamentus.\n",
        "Mais informações sobre **Retrivers**?  https://docs.llamaindex.ai/en/stable/module_guides/querying/retriever/retrievers/\n",
        "\n"
      ],
      "metadata": {
        "id": "UuU6ilwQLqzi"
      }
    },
    {
      "cell_type": "code",
      "source": [
        "from typing import Optional,Dict,List\n",
        "from llama_index.core.retrievers import BaseRetriever\n",
        "from llama_index.core.schema import NodeWithScore, QueryBundle, TextNode\n",
        "from llama_index.core.schema import Document\n",
        "\n",
        "class FundamentusRetriever(BaseRetriever):\n",
        "  \"\"\"Fundamentus Pesquisar mais detalhada em função dos tickers capturados\"\"\"\n",
        "\n",
        "  spec_functions = [\"get_oscilacoes\"]\n",
        "\n",
        "  def __init__(self,callback_manager: Optional[CallbackManager] = None) -> None:\n",
        "      \"\"\"Initialize with parameters.\"\"\"\n",
        "      super().__init__(callback_manager)\n",
        "\n",
        "\n",
        "  def _retrieve(self, query_bundle: QueryBundle) -> List[NodeWithScore]:\n",
        "    nodes = []\n",
        "    content=\"\"\n",
        "    for ticker in eval(query_bundle.query_str):\n",
        "      result = self.get_oscilacoes(ticker)\n",
        "      content = content + f\"# Oscilação de {ticker}:\\n\\r\"\n",
        "      for item in result:\n",
        "        content = content + f\"{item}\\n\\r\"\n",
        "      content = content + \"-------------\\n\\r\"\n",
        "    nodes.append(NodeWithScore(node=TextNode(text=content, score=1.0)))\n",
        "    query_bundle.nodes = nodes\n",
        "\n",
        "    return nodes #{'output': ' | '.join(nodes) }\n",
        "  def __consulta_ao_site_fundamentus(self, ticker :str) -> List[str]:\n",
        "    url = f\"https://fundamentus.com.br/detalhes.php?papel={ticker}\"\n",
        "    page = requests.get(url,headers = {'User-Agent': 'Mozilla/5.0 (Windows NT 10.0; Win64; x64) AppleWebKit/537.36 (KHTML, like Gecko) Chrome/58.0.3029.110 Safari/537.3' })\n",
        "    soup = BeautifulSoup(page.content, \"html.parser\")\n",
        "    oscilacoes = []\n",
        "    tables = soup.findAll(lambda tag: tag.name=='table')\n",
        "    for table in tables:\n",
        "      trs = table.findAll('tr')\n",
        "      target = trs[0].find('td').find('span').text.strip().lower()\n",
        "      if target.find('oscilações')>=0:\n",
        "        #oscilacoes\n",
        "        for tr in trs[1:]:\n",
        "          tds =  tr.findAll('td')\n",
        "          if len(tds) >1:\n",
        "            d = tds[0].find('span').text.strip()#.upper()\n",
        "            v = tds[1].find('span').text.strip().upper()\n",
        "            if v != '':\n",
        "              oscilacoes.append(['No ' + d.lower()+' ' if len(d)== 3 else 'Em '+d.lower() ][0] +': '+ v)\n",
        "    return oscilacoes\n",
        "  def get_oscilacoes(self, ticker: str):\n",
        "    search_hits = self.__consulta_ao_site_fundamentus(ticker)\n",
        "    return search_hits"
      ],
      "metadata": {
        "id": "R0BuXBWHRquN"
      },
      "execution_count": 115,
      "outputs": []
    },
    {
      "cell_type": "markdown",
      "source": [
        "Após criarmos nosso Retriever  **FundamentusRetriever** , iremos testalo antes de adicionar em nosso pipeline!  :)"
      ],
      "metadata": {
        "id": "WNkfqvMwTIf0"
      }
    },
    {
      "cell_type": "code",
      "source": [
        "from llama_index.core.query_engine import RetrieverQueryEngine\n",
        "fundamentus_retriever = FundamentusRetriever()\n",
        "query_engine = RetrieverQueryEngine.from_args(fundamentus_retriever, llm=llm)\n",
        "response = query_engine.query(\"['PETR4','VALE3','PETR3']\")\n",
        "print(response)"
      ],
      "metadata": {
        "colab": {
          "base_uri": "https://localhost:8080/",
          "height": 69
        },
        "id": "H9b4AzfhTH4O",
        "outputId": "93e6c33f-d616-4789-e52f-05326532bfcb"
      },
      "execution_count": 116,
      "outputs": [
        {
          "output_type": "stream",
          "name": "stdout",
          "text": [
            "- PETR4: 106,66%\n",
            "- VALE3: 0,31%\n",
            "- PETR3: 93,68%\n"
          ]
        }
      ]
    },
    {
      "cell_type": "markdown",
      "source": [
        "\n",
        "🔗 **Atualizando Pipeline**\n",
        "\n",
        "Adicionaremos  nosso Retriever com a função de obter dados externos para deixar as respostas de nosso RAG mais efetivo.\n",
        "\n",
        "![LlamaIndex-2.png](data:image/png;base64,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)"
      ],
      "metadata": {
        "id": "jSREhHpVRpvf"
      }
    },
    {
      "cell_type": "markdown",
      "source": [
        "📌 Aterando o bloco **Sintese Resposta**:\n",
        "Precisamos informar ao prompt de sintese de resposta o resultado proveniente do site fundamentus."
      ],
      "metadata": {
        "id": "kmbkOWK4YBJT"
      }
    },
    {
      "cell_type": "code",
      "source": [
        "sintese_resposta_str = (\n",
        "\n",
        "    \"Você é um expert em investimentos, sempre responda de forma amigavel e bem didatico!\\n\"\n",
        "    \"Sempre responda com bom humor  e de forma educada!\\n\"\n",
        "    \"Siga estas instruções:\\n\"\n",
        "    \"1. Sempre informe o ticker das empresas em analise!\\n\"\n",
        "    \"2. Ao Final da resposta, faça um resumo com os pontos importantes da analise!\\n\"\n",
        "    \"3. Sempre use valor contindos na Saída do Pandas.\\n\"\n",
        "    \"4. Só responda com valors contidos na Saída do Pandas.\\n\\n\"\n",
        "    \"Dada uma pergunta de entrada, sintetize uma resposta a partir dos resultados da consulta.\\n\"\n",
        "    \"Consulta: {query_str}\\n\\n\"\n",
        "    \"Instruções do Pandas (opcional):\\n{resposta_instrucoes_pandas}\\n\\n\"\n",
        "    \"Tickers identificados: {resultado_parse_tickers}\\n\\n\"\n",
        "    \"Complemento para analise: {resposta_dados_online}\\n\\n\"\n",
        "    \"Saída do Pandas: {resultado_parse_pandas}\\n\\n\"\n",
        "\n",
        "    \"Resposta: \"\n",
        ")\n",
        "\n",
        "prompt_sintese_resposta = PromptTemplate(sintese_resposta_str)\n",
        "print(prompt_sintese_resposta)"
      ],
      "metadata": {
        "colab": {
          "base_uri": "https://localhost:8080/"
        },
        "id": "RFM9JWgSYZ1y",
        "outputId": "7aab44f8-98fb-445a-a2cd-bbf456dfdab1"
      },
      "execution_count": 117,
      "outputs": [
        {
          "output_type": "stream",
          "name": "stdout",
          "text": [
            "metadata={'prompt_type': <PromptType.CUSTOM: 'custom'>} template_vars=['query_str', 'resposta_instrucoes_pandas', 'resultado_parse_tickers', 'resposta_dados_online', 'resultado_parse_pandas'] kwargs={} output_parser=None template_var_mappings=None function_mappings=None template='Você é um expert em investimentos, sempre responda de forma amigavel e bem didatico!\\nSempre responda com bom humor  e de forma educada!\\nSiga estas instruções:\\n1. Sempre informe o ticker das empresas em analise!\\n2. Ao Final da resposta, faça um resumo com os pontos importantes da analise!\\n3. Sempre use valor contindos na Saída do Pandas.\\n4. Só responda com valors contidos na Saída do Pandas.\\n\\nDada uma pergunta de entrada, sintetize uma resposta a partir dos resultados da consulta.\\nConsulta: {query_str}\\n\\nInstruções do Pandas (opcional):\\n{resposta_instrucoes_pandas}\\n\\nTickers identificados: {resultado_parse_tickers}\\n\\nComplemento para analise: {resposta_dados_online}\\n\\nSaída do Pandas: {resultado_parse_pandas}\\n\\nResposta: '\n"
          ]
        }
      ]
    },
    {
      "cell_type": "markdown",
      "source": [
        "🧩 Juntanto todos os blocos usando **QueryPipeline** Novamente :)"
      ],
      "metadata": {
        "id": "TEo9aS68Yr4g"
      }
    },
    {
      "cell_type": "code",
      "source": [
        "p = QueryPipeline(\n",
        "    modules={\n",
        "\n",
        "        \"Pergunta_do_Usuario\": pergunta_do_usuario,\n",
        "\n",
        "        \"Prompt_IdentificarTickers\": prompt_identificar_tickers,\n",
        "        \"LLM_Query_IdentificarTickers\": llm, #\" usaremos nossa LLM Gemini Pro\n",
        "        \"Parser_RespostaQuery_IdentificarTickers\":output_pandas_parser,\n",
        "\n",
        "        \"Prompt_InstruçõesPandas\":prompt_instrucoes_pandas,\n",
        "        \"LLM_Query_InstruçõesPandas\": llm,\n",
        "        \"Parser_RespostaQuery_InstruçõesPandas\": output_pandas_parser,\n",
        "\n",
        "        \"Retriever_Pesquisa_Online\":fundamentus_retriever,\n",
        "        \"Resposta_Pesquisa_Online\":ArgPackComponent(),\n",
        "        \"Prompt_SínteseResposta\": prompt_sintese_resposta,\n",
        "        \"LLM_SínteseResposta\": llm,\n",
        "\n",
        "      },\n",
        "    verbose=True,\n",
        ")\n",
        "\n",
        "\n",
        "p.add_chain([ \"Pergunta_do_Usuario\",\"Prompt_IdentificarTickers\", \"LLM_Query_IdentificarTickers\", \"Parser_RespostaQuery_IdentificarTickers\" ])\n",
        "p.add_chain([\"Pergunta_do_Usuario\", \"Prompt_InstruçõesPandas\",\"LLM_Query_InstruçõesPandas\",\"Parser_RespostaQuery_InstruçõesPandas\" ])\n",
        "\n",
        "p.add_links([\n",
        "\n",
        "    Link(\"Parser_RespostaQuery_IdentificarTickers\", \"Prompt_InstruçõesPandas\", dest_key=\"resultado_parse_tickers\"),\n",
        "    Link(\"Pergunta_do_Usuario\", \"Prompt_SínteseResposta\", dest_key=\"query_str\"),\n",
        "    Link(\"Parser_RespostaQuery_IdentificarTickers\", \"Retriever_Pesquisa_Online\"),\n",
        "    Link(\"Retriever_Pesquisa_Online\", \"Resposta_Pesquisa_Online\", dest_key=\"query_nodes\"),\n",
        "\n",
        "    Link(\"Resposta_Pesquisa_Online\", \"Prompt_SínteseResposta\", dest_key=\"resposta_dados_online\"),\n",
        "    Link(\"LLM_Query_InstruçõesPandas\", \"Prompt_SínteseResposta\", dest_key=\"resposta_instrucoes_pandas\"),\n",
        "    Link(\"Parser_RespostaQuery_InstruçõesPandas\", \"Prompt_SínteseResposta\", dest_key=\"resultado_parse_pandas\"),\n",
        "    Link(\"Parser_RespostaQuery_IdentificarTickers\", \"Prompt_SínteseResposta\", dest_key=\"resultado_parse_tickers\"),\n",
        "\n",
        "\n",
        "\n",
        "])\n",
        "\n",
        "p.add_link(\"Prompt_SínteseResposta\", \"LLM_SínteseResposta\")\n",
        ""
      ],
      "metadata": {
        "id": "a4zwnwwBJgUr"
      },
      "execution_count": 118,
      "outputs": []
    },
    {
      "cell_type": "markdown",
      "source": [
        "🧰 Pipeline pronto, vamos testar novamente!\n"
      ],
      "metadata": {
        "id": "Gx0gr6h7XXB8"
      }
    },
    {
      "cell_type": "code",
      "source": [
        "pergunta = \"me diga o ROE e cotacao além da oscilacao nos ultimos anos da vale e americanas\"\n",
        "resposta = p.run(query_str=pergunta)\n",
        "display(Markdown(resposta.message.content))"
      ],
      "metadata": {
        "colab": {
          "base_uri": "https://localhost:8080/",
          "height": 1000
        },
        "id": "iGMaM_tHZ32p",
        "outputId": "8ddedc03-8503-4a59-809a-72c87e35586d"
      },
      "execution_count": 119,
      "outputs": [
        {
          "output_type": "stream",
          "name": "stdout",
          "text": [
            "\u001b[1;3;38;2;155;135;227m> Running module Pergunta_do_Usuario with input: \n",
            "query_str: me diga o ROE e cotacao além da oscilacao nos ultimos anos da vale e americanas\n",
            "\n",
            "\u001b[0m\u001b[1;3;38;2;155;135;227m> Running module Prompt_IdentificarTickers with input: \n",
            "query_str: me diga o ROE e cotacao além da oscilacao nos ultimos anos da vale e americanas\n",
            "\n",
            "\u001b[0m\u001b[1;3;38;2;155;135;227m> Running module LLM_Query_IdentificarTickers with input: \n",
            "messages: 1. Converta a consulta em código Python executável usando Pandas.\n",
            "2. Identifique qual  ticker a consulta se refere.\n",
            "2. Somente retorne os valores da coluna Ticker.\n",
            "3. Os tickers deve ser informado em ...\n",
            "\n",
            "\u001b[0m\u001b[1;3;38;2;155;135;227m> Running module Parser_RespostaQuery_IdentificarTickers with input: \n",
            "input: assistant: df[df['Nome'].str.contains('vale', case=False, na=False) | df['Nome'].str.contains('americanas', case=False, na=False)]['Ticker'].tolist()\n",
            "\n",
            "\u001b[0m\u001b[1;3;38;2;155;135;227m> Running module Prompt_InstruçõesPandas with input: \n",
            "resultado_parse_tickers: ['AMER3', 'VALE3']\n",
            "\n",
            "\u001b[0m\u001b[1;3;38;2;155;135;227m> Running module Retriever_Pesquisa_Online with input: \n",
            "input: ['AMER3', 'VALE3']\n",
            "\n",
            "\u001b[0m\u001b[1;3;38;2;155;135;227m> Running module LLM_Query_InstruçõesPandas with input: \n",
            "messages: Você está trabalhando com um dataframe do pandas em Python.\n",
            "O nome do dataframe é `df`.\n",
            "Este é o resultado de `print(df.head(50))`:\n",
            "Sempre use os Tickers identificados como base nas clausulas em seu f...\n",
            "\n",
            "\u001b[0m\u001b[1;3;38;2;155;135;227m> Running module Resposta_Pesquisa_Online with input: \n",
            "query_nodes: [NodeWithScore(node=TextNode(id_='fc6ffab3-a430-4052-9bac-63411b27ac62', embedding=None, metadata={}, excluded_embed_metadata_keys=[], excluded_llm_metadata_keys=[], relationships={}, text='# Oscilaçã...\n",
            "\n",
            "\u001b[0m\u001b[1;3;38;2;155;135;227m> Running module Parser_RespostaQuery_InstruçõesPandas with input: \n",
            "input: assistant: df.query(\"Ticker.str.contains('AMER3') | Ticker.str.contains('VALE3')\")\n",
            "\n",
            "\u001b[0m\u001b[1;3;38;2;155;135;227m> Running module Prompt_SínteseResposta with input: \n",
            "query_str: me diga o ROE e cotacao além da oscilacao nos ultimos anos da vale e americanas\n",
            "resultado_parse_tickers: ['AMER3', 'VALE3']\n",
            "resposta_instrucoes_pandas: assistant: df.query(\"Ticker.str.contains('AMER3') | Ticker.str.contains('VALE3')\")\n",
            "resposta_dados_online: [NodeWithScore(node=TextNode(id_='fc6ffab3-a430-4052-9bac-63411b27ac62', embedding=None, metadata={}, excluded_embed_metadata_keys=[], excluded_llm_metadata_keys=[], relationships={}, text='# Oscilaçã...\n",
            "resultado_parse_pandas:            Nome Ticker  Cotação   P/L  P/VP    PSR  Div.Yield     ROE  \\\n",
            "278  AMERICANAS  AMER3     0.53 -0.03 -0.02  0.028     0.0000  0.5476   \n",
            "571        VALE  VALE3    64.29  7.54  1.56  1.416    ...\n",
            "\n",
            "\u001b[0m\u001b[1;3;38;2;155;135;227m> Running module LLM_SínteseResposta with input: \n",
            "messages: Você é um expert em investimentos, sempre responda de forma amigavel e bem didatico!\n",
            "Sempre responda com bom humor  e de forma educada!\n",
            "Siga estas instruções:\n",
            "1. Sempre informe o ticker das empresas e...\n",
            "\n",
            "\u001b[0m"
          ]
        },
        {
          "output_type": "display_data",
          "data": {
            "text/plain": [
              "<IPython.core.display.Markdown object>"
            ],
            "text/markdown": "**VALE3**\n\n* ROE: 20,68%\n* Cotação: R$ 64,29\n* Oscilação:\n    * No dia: -0,34%\n    * No mês: 0,61%\n    * Em 30 dias: 2,78%\n    * Em 12 meses: 0,31%\n\n**AMER3**\n\n* ROE: 54,76%\n* Cotação: R$ 0,53\n* Oscilação:\n    * No dia: 0,00%\n    * No mês: -3,64%\n    * Em 30 dias: -8,62%\n    * Em 12 meses: -52,68%\n\n**Resumo:**\n\n* A VALE3 tem um ROE maior que a AMER3, indicando maior rentabilidade.\n* A cotação da VALE3 é significativamente maior que a da AMER3.\n* A AMER3 tem apresentado uma oscilação negativa mais acentuada nos últimos anos em comparação com a VALE3."
          },
          "metadata": {}
        }
      ]
    },
    {
      "cell_type": "markdown",
      "source": [
        "\n",
        "*   https://docs.llamaindex.ai/en/stable/examples/pipeline/query_pipeline/\n",
        "*   https://docs.llamaindex.ai/en/latest/examples/agent/introspective_agent_toxicity_reduction/\n",
        "\n",
        "*   https://docs.llamaindex.ai/en/stable/examples/pipeline/query_pipeline_pandas/?h=querypipeline\n",
        "\n",
        "*   https://docs.llamaindex.ai/en/stable/examples/pipeline/query_pipeline_memory/?h=querypipeline\n",
        "*   https://docs.llamaindex.ai/en/stable/api_reference/retrievers/\n",
        "\n",
        "\n"
      ],
      "metadata": {
        "id": "hqazidCYcyNO"
      }
    }
  ],
  "metadata": {
    "colab": {
      "provenance": [],
      "collapsed_sections": [
        "DvEPSZk9IhwU",
        "4EUD7xcnIhp3",
        "Yw8_TzUVk2l2"
      ],
      "authorship_tag": "ABX9TyPvKlgRdlTD8balmq2nz5aO",
      "include_colab_link": true
    },
    "kernelspec": {
      "display_name": "Python 3",
      "name": "python3"
    },
    "language_info": {
      "name": "python"
    }
  },
  "nbformat": 4,
  "nbformat_minor": 0
}